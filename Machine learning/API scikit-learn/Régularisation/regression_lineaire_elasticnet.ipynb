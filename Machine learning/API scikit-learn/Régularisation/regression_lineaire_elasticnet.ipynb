{
 "cells": [
  {
   "cell_type": "code",
   "execution_count": 1,
   "id": "a9ead867",
   "metadata": {
    "scrolled": true
   },
   "outputs": [
    {
     "name": "stdout",
     "output_type": "stream",
     "text": [
      "Dimension inputs :  (442, 10)\n",
      "Dimension target :  (442,)\n"
     ]
    }
   ],
   "source": [
    "#importation du jeu de données \n",
    "#nous travaillerons sur le jeu de données accessoires \"Diabetes\" inclus dans scikit-learn\n",
    "#https://scikit-learn.org/stable/datasets/toy_dataset.html#diabetes-dataset\n",
    "from sklearn.datasets import load_diabetes\n",
    "X, y = load_diabetes(return_X_y = True)\n",
    "print(\"Dimension inputs : \", X.shape)\n",
    "print(\"Dimension target : \", y.shape)"
   ]
  },
  {
   "cell_type": "code",
   "execution_count": 2,
   "id": "3474dccc",
   "metadata": {},
   "outputs": [],
   "source": [
    "#pre-traitement du jeu de données : séparation du jeu de données et normalisation des données\n",
    "#séparation du jeu de données\n",
    "from sklearn.model_selection import train_test_split\n",
    "X_train, X_test, y_train, y_test = train_test_split(X, y)\n",
    "#normalisation du jeu de données\n",
    "from sklearn.preprocessing import StandardScaler\n",
    "scaler = StandardScaler()\n",
    "X_train = scaler.fit_transform(X_train)\n",
    "X_test = scaler.transform(X_test)"
   ]
  },
  {
   "cell_type": "code",
   "execution_count": 3,
   "id": "b63c556c",
   "metadata": {},
   "outputs": [
    {
     "name": "stdout",
     "output_type": "stream",
     "text": [
      "Coefficients :  [ 0.         -0.         22.52644026  7.60326197 -0.         -0.\n",
      " -2.81570825  0.         20.7120656   0.        ]\n",
      "Intercept :  152.10271903323263\n"
     ]
    }
   ],
   "source": [
    "#entrainement d'une régression LASSO \n",
    "#le LASSO n'a pas de solution analytique\n",
    "#par défaut sous sklearn, la classe linear_model.Lasso implémente une déscente de gradient coordonnée pour solutionner\n",
    "#on emploi la régression LASSO parce que nous soupsçonnons une sparsité du vecteur des coefficients\n",
    "#ceci induit une sélection des variables\n",
    "from sklearn.linear_model import Lasso\n",
    "a = 10\n",
    "reg = Lasso(alpha = a)\n",
    "reg.fit(X_train, y_train)\n",
    "print(\"Coefficients : \", reg.coef_)\n",
    "print(\"Intercept : \", reg.intercept_)"
   ]
  },
  {
   "cell_type": "code",
   "execution_count": 4,
   "id": "322d04b7",
   "metadata": {},
   "outputs": [
    {
     "name": "stdout",
     "output_type": "stream",
     "text": [
      "Coefficients :  [ -1.33360912 -12.14277618  25.10694477  16.12011639 -22.33461104\n",
      "   5.06153101   0.40406607  11.46749263  30.48175237   5.89602419]\n",
      "Intercept :  152.10271903323263\n"
     ]
    }
   ],
   "source": [
    "#entrainement d'une régression linéaire sans régularisation par équation normale\n",
    "#...et comparaison des résultats des coefficients\n",
    "from sklearn.linear_model import LinearRegression\n",
    "reg_lin = LinearRegression()\n",
    "reg_lin.fit(X_train, y_train)\n",
    "print(\"Coefficients : \", reg_lin.coef_)\n",
    "print(\"Intercept : \", reg_lin.intercept_)\n",
    "\n",
    "#on peut constater que le coefficient constantn'est pas régularisé\n",
    "#seul les coefficients de pondération sont régularisée"
   ]
  },
  {
   "cell_type": "code",
   "execution_count": 5,
   "id": "243ff55c",
   "metadata": {
    "scrolled": true
   },
   "outputs": [
    {
     "data": {
      "image/png": "[encoded data removed]",
      "text/plain": [
       "<Figure size 432x288 with 1 Axes>"
      ]
     },
     "metadata": {
      "needs_background": "light"
     },
     "output_type": "display_data"
    }
   ],
   "source": [
    "#traçons le chemin de régularisation\n",
    "#...c'est-à-dire l'évolution des coefficients de régression en fonction \n",
    "#...d'un espace de valeurs de l'hyperparamètre de régularisation\n",
    "import numpy as np\n",
    "import matplotlib.pyplot as plt\n",
    "#définition de l'espace de l'hyperparamètre\n",
    "n_alphas = 50\n",
    "alphas = np.logspace(-2, 2, n_alphas)\n",
    "#apprentissage de la régression lasso pour chaque valeur de l'hyperparamètre\n",
    "coefs = []\n",
    "for a in alphas:\n",
    "    lasso = Lasso(alpha=a, fit_intercept=False)\n",
    "    lasso.fit(X, y)\n",
    "    coefs.append(lasso.coef_)\n",
    "#tracé du chemin de régularisation\n",
    "ax = plt.gca()\n",
    "ax.plot(alphas, coefs)\n",
    "ax.set_xscale(\"log\")\n",
    "plt.xlabel(\"alpha\")\n",
    "plt.ylabel(\"coefficients\")\n",
    "plt.title(\"Coefs en fonction des valeurs du paramètre de régularisation\")\n",
    "plt.axis(\"tight\")\n",
    "plt.show()"
   ]
  },
  {
   "cell_type": "code",
   "execution_count": 6,
   "id": "da5aaae0",
   "metadata": {},
   "outputs": [
    {
     "data": {
      "text/plain": [
       "GridSearchCV(estimator=Lasso(),\n",
       "             param_grid={'alpha': array([1.00000000e-02, 1.20679264e-02, 1.45634848e-02, 1.75751062e-02,\n",
       "       2.12095089e-02, 2.55954792e-02, 3.08884360e-02, 3.72759372e-02,\n",
       "       4.49843267e-02, 5.42867544e-02, 6.55128557e-02, 7.90604321e-02,\n",
       "       9.54095476e-02, 1.15139540e-01, 1.38949549e-01, 1.67683294e-01,\n",
       "       2.02358965e-01, 2.44205309e-01, 2.94705170e-01, 3.55648...\n",
       "       9.10298178e-01, 1.09854114e+00, 1.32571137e+00, 1.59985872e+00,\n",
       "       1.93069773e+00, 2.32995181e+00, 2.81176870e+00, 3.39322177e+00,\n",
       "       4.09491506e+00, 4.94171336e+00, 5.96362332e+00, 7.19685673e+00,\n",
       "       8.68511374e+00, 1.04811313e+01, 1.26485522e+01, 1.52641797e+01,\n",
       "       1.84206997e+01, 2.22299648e+01, 2.68269580e+01, 3.23745754e+01,\n",
       "       3.90693994e+01, 4.71486636e+01, 5.68986603e+01, 6.86648845e+01,\n",
       "       8.28642773e+01, 1.00000000e+02])})"
      ]
     },
     "execution_count": 6,
     "metadata": {},
     "output_type": "execute_result"
    }
   ],
   "source": [
    "#recherche du meilleur paramètre de régularisation par Grille-Complète\n",
    "from sklearn.model_selection import GridSearchCV\n",
    "#définition de l'espace de l'hyperparamètre\n",
    "n_alphas = 50\n",
    "alphas = np.logspace(-2, 2, n_alphas)\n",
    "#réalisation de la recherche par grille complète\n",
    "parameters = {\"alpha\" : alphas}\n",
    "lasso = Lasso()\n",
    "lasso_gridcv = GridSearchCV(lasso, parameters)\n",
    "lasso_gridcv.fit(X_train, y_train)"
   ]
  },
  {
   "cell_type": "code",
   "execution_count": 7,
   "id": "b84a808d",
   "metadata": {},
   "outputs": [
    {
     "data": {
      "text/plain": [
       "Lasso(alpha=0.2442053094548651)"
      ]
     },
     "execution_count": 7,
     "metadata": {},
     "output_type": "execute_result"
    }
   ],
   "source": [
    "#meilleur hyperparamètre retourné\n",
    "lasso_gridcv.best_estimator_"
   ]
  },
  {
   "cell_type": "code",
   "execution_count": 8,
   "id": "9ce9ecc1",
   "metadata": {},
   "outputs": [
    {
     "name": "stdout",
     "output_type": "stream",
     "text": [
      "Coefficients :  [ -0.94826694 -11.67872085  25.12154278  15.75757981 -14.71109888\n",
      "  -0.          -3.28097246   9.25709004  27.94930898   5.64339137]\n",
      "Intercept :  152.10271903323263\n"
     ]
    }
   ],
   "source": [
    "#entrainement du modèle final pour le paramètre optimal\n",
    "reg = Lasso(alpha = lasso_gridcv.best_params_[\"alpha\"])\n",
    "reg.fit(X_train, y_train)\n",
    "print(\"Coefficients : \", reg.coef_)\n",
    "print(\"Intercept : \", reg.intercept_)"
   ]
  },
  {
   "cell_type": "code",
   "execution_count": 9,
   "id": "d8e50952",
   "metadata": {},
   "outputs": [
    {
     "name": "stdout",
     "output_type": "stream",
     "text": [
      "L'erreur quadratique moyenne (MSE) sur le test set: 2842.31\n",
      "Soit erreur moyenne de : 53.31\n",
      "Prediction sur les 5 premières instances : [153.25 161.06 155.92 112.37 203.02]\n",
      "True labels on first instances : [144. 141. 110. 160. 109.]\n"
     ]
    }
   ],
   "source": [
    "#evaluation du modèle par l'erreur quadratique moyenne\n",
    "from sklearn.metrics import mean_squared_error\n",
    "y_pred = reg.predict(X_test)\n",
    "mse = mean_squared_error(y_test, y_pred)\n",
    "print(\"L'erreur quadratique moyenne (MSE) sur le test set: {:.2f}\".format(mse))\n",
    "print(\"Soit erreur moyenne de : {:.2f}\".format(np.sqrt(mse)))\n",
    "print(\"Prediction sur les 5 premières instances :\", np.round(y_pred[:5], 2))\n",
    "print(\"True labels on first instances :\", y_test[:5])"
   ]
  },
  {
   "cell_type": "code",
   "execution_count": 10,
   "id": "1ded2eb1",
   "metadata": {},
   "outputs": [
    {
     "name": "stdout",
     "output_type": "stream",
     "text": [
      "Coefficients :  [ -0.94842559 -11.67763696  25.12276593  15.75791467 -14.72899687\n",
      "   0.          -3.25885928   9.28020231  27.95194812   5.64379626]\n",
      "Intercept :  152.10271903323263\n"
     ]
    }
   ],
   "source": [
    "#on peut aussi employer une régression LASSO avec l'algorithme LARS\n",
    "from sklearn.linear_model import LassoLars\n",
    "a = lasso_gridcv.best_params_[\"alpha\"]\n",
    "lasso_lars = LassoLars(alpha = a, normalize = False)\n",
    "lasso_lars.fit(X_train, y_train)\n",
    "\n",
    "print(\"Coefficients : \", lasso_lars.coef_)\n",
    "print(\"Intercept : \", lasso_lars.intercept_)"
   ]
  },
  {
   "cell_type": "code",
   "execution_count": 11,
   "id": "7e0aebd9",
   "metadata": {},
   "outputs": [
    {
     "name": "stdout",
     "output_type": "stream",
     "text": [
      "Coefficients :  [  0.         -13.16796941  16.88796356  12.08085842 -27.65649818\n",
      "   0.           0.           0.          18.95133458   0.        ]\n",
      "Intercept :  [123.07147375]\n"
     ]
    }
   ],
   "source": [
    "#il est possible de réaliser une régression LASSO par déscente de gradient\n",
    "from sklearn.linear_model import SGDRegressor\n",
    "a = lasso_gridcv.best_params_[\"alpha\"] #paramètre de régularisation\n",
    "lasso_sgd = SGDRegressor(loss = \"squared_error\", penalty = \"l1\", alpha = a, learning_rate = \"constant\", eta0 = 0.1)\n",
    "lasso_sgd.fit(X_train, y_train)\n",
    "\n",
    "print(\"Coefficients : \", lasso_sgd.coef_)\n",
    "print(\"Intercept : \", lasso_sgd.intercept_)"
   ]
  }
 ],
 "metadata": {
  "kernelspec": {
   "display_name": "Python 3 (ipykernel)",
   "language": "python",
   "name": "python3"
  },
  "language_info": {
   "codemirror_mode": {
    "name": "ipython",
    "version": 3
   },
   "file_extension": ".py",
   "mimetype": "text/x-python",
   "name": "python",
   "nbconvert_exporter": "python",
   "pygments_lexer": "ipython3",
   "version": "3.9.7"
  }
 },
 "nbformat": 4,
 "nbformat_minor": 5
}
