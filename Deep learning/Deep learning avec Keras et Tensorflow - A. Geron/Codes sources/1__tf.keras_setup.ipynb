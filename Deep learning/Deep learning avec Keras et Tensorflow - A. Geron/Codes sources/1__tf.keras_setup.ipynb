{
 "cells": [
  {
   "cell_type": "markdown",
   "id": "248d6a8a",
   "metadata": {},
   "source": [
    "## Importation des modules"
   ]
  },
  {
   "cell_type": "code",
   "execution_count": 10,
   "id": "bc3c2b37",
   "metadata": {},
   "outputs": [],
   "source": [
    "import tensorflow as tf #importation du module tensorflow\n",
    "from tensorflow import keras #importation de tf.keras correspondant  à l'API keras + des flts propres à tensorflow"
   ]
  },
  {
   "cell_type": "markdown",
   "id": "7523a8b9",
   "metadata": {},
   "source": [
    "## Consulation des versions"
   ]
  },
  {
   "cell_type": "code",
   "execution_count": 11,
   "id": "5bbf02ee",
   "metadata": {},
   "outputs": [
    {
     "data": {
      "text/plain": [
       "'2.8.0'"
      ]
     },
     "execution_count": 11,
     "metadata": {},
     "output_type": "execute_result"
    }
   ],
   "source": [
    "tf.__version__ #afficher la version de tensorflow utilisée"
   ]
  },
  {
   "cell_type": "code",
   "execution_count": 12,
   "id": "f03cb27a",
   "metadata": {},
   "outputs": [
    {
     "data": {
      "text/plain": [
       "'2.8.0'"
      ]
     },
     "execution_count": 12,
     "metadata": {},
     "output_type": "execute_result"
    }
   ],
   "source": [
    "keras.__version__ #afficher la version de keras utilisée"
   ]
  },
  {
   "cell_type": "markdown",
   "id": "d999cb04",
   "metadata": {},
   "source": [
    "## Tester si le GPU est pris compte (si existence de GPU)"
   ]
  },
  {
   "cell_type": "code",
   "execution_count": 13,
   "id": "74e9e4e0",
   "metadata": {},
   "outputs": [
    {
     "name": "stdout",
     "output_type": "stream",
     "text": [
      "WARNING:tensorflow:From C:\\Users\\lasme\\AppData\\Local\\Temp\\ipykernel_19912\\337460670.py:1: is_gpu_available (from tensorflow.python.framework.test_util) is deprecated and will be removed in a future version.\n",
      "Instructions for updating:\n",
      "Use `tf.config.list_physical_devices('GPU')` instead.\n"
     ]
    },
    {
     "data": {
      "text/plain": [
       "True"
      ]
     },
     "execution_count": 13,
     "metadata": {},
     "output_type": "execute_result"
    }
   ],
   "source": [
    "tf.test.is_gpu_available() #ancienne façon de tester si le GPU sera pris en compte par tensorflow"
   ]
  },
  {
   "cell_type": "code",
   "execution_count": 14,
   "id": "68e93edc",
   "metadata": {},
   "outputs": [
    {
     "data": {
      "text/plain": [
       "[PhysicalDevice(name='/physical_device:GPU:0', device_type='GPU')]"
      ]
     },
     "execution_count": 14,
     "metadata": {},
     "output_type": "execute_result"
    }
   ],
   "source": [
    "tf.config.list_physical_devices('GPU') #nouvelle façon de tester si le GPU sera pris en compte par tensorflow"
   ]
  }
 ],
 "metadata": {
  "kernelspec": {
   "display_name": "Python 3 (ipykernel)",
   "language": "python",
   "name": "python3"
  },
  "language_info": {
   "codemirror_mode": {
    "name": "ipython",
    "version": 3
   },
   "file_extension": ".py",
   "mimetype": "text/x-python",
   "name": "python",
   "nbconvert_exporter": "python",
   "pygments_lexer": "ipython3",
   "version": "3.9.10"
  }
 },
 "nbformat": 4,
 "nbformat_minor": 5
}
