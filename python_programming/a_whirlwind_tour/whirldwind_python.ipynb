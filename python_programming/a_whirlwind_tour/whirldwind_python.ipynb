{
 "cells": [
  {
   "cell_type": "markdown",
   "id": "f011a16f",
   "metadata": {},
   "source": [
    "# Le Zen de Python"
   ]
  },
  {
   "cell_type": "code",
   "execution_count": 1,
   "id": "8ef3701b",
   "metadata": {},
   "outputs": [
    {
     "name": "stdout",
     "output_type": "stream",
     "text": [
      "The Zen of Python, by Tim Peters\n",
      "\n",
      "Beautiful is better than ugly.\n",
      "Explicit is better than implicit.\n",
      "Simple is better than complex.\n",
      "Complex is better than complicated.\n",
      "Flat is better than nested.\n",
      "Sparse is better than dense.\n",
      "Readability counts.\n",
      "Special cases aren't special enough to break the rules.\n",
      "Although practicality beats purity.\n",
      "Errors should never pass silently.\n",
      "Unless explicitly silenced.\n",
      "In the face of ambiguity, refuse the temptation to guess.\n",
      "There should be one-- and preferably only one --obvious way to do it.\n",
      "Although that way may not be obvious at first unless you're Dutch.\n",
      "Now is better than never.\n",
      "Although never is often better than *right* now.\n",
      "If the implementation is hard to explain, it's a bad idea.\n",
      "If the implementation is easy to explain, it may be a good idea.\n",
      "Namespaces are one honking great idea -- let's do more of those!\n"
     ]
    }
   ],
   "source": [
    "import this"
   ]
  },
  {
   "cell_type": "markdown",
   "id": "37e746c4",
   "metadata": {},
   "source": [
    "# La syntaxe de Python"
   ]
  },
  {
   "cell_type": "code",
   "execution_count": 2,
   "id": "f2ee3add",
   "metadata": {},
   "outputs": [
    {
     "name": "stdout",
     "output_type": "stream",
     "text": [
      "lower :  [0, 1, 2, 3, 4]\n",
      "upper :  [5, 6, 7, 8, 9]\n"
     ]
    }
   ],
   "source": [
    "# fixons le milieu\n",
    "midpoint = 5\n",
    "\n",
    "# créons deux listes vides\n",
    "lower = [] ; upper = []\n",
    "\n",
    "# séparons une liste de 10 nombre en plus pétit et plus grand par rapport au milieu\n",
    "for i in range(10):\n",
    "    if (i < midpoint):\n",
    "        lower.append(i)\n",
    "    else:\n",
    "        upper.append(i)\n",
    "\n",
    "print(\"lower : \", lower)\n",
    "print(\"upper : \", upper)"
   ]
  },
  {
   "cell_type": "markdown",
   "id": "3580bbd8",
   "metadata": {},
   "source": [
    "Le script ci-dessus permet de comprendre quelque éléments de syntaxe du langage de programmation Python :\n",
    "- Les commentaires sur une ligne sont marqués par le symbôle # et ils ne sont jamais exécutés\n",
    "\n",
    "\n",
    "- Dans presque tout langage de programmation, la fin d'une instruction est marquée par un symbôle -- en général ; -- cependant, en Python ce n'est pas le cas, le retour à la ligne (enter) permet de séparer des instructions même si on peut quand même utiliser \";\". En règle général, on utilise des points virgules quand on souhaite séparer plusieurs instructions sur une même ligne de code comme cela à été fait ci-dessous. Quoi qu'il en soit ce n'est pas trop recommandé. Le Zen de Python nous invite à préférer l'explicite à l'implicite et une uniformisation de codage\n",
    "\n",
    "\n",
    "- En Python, si l'on souhaite qu'une seule et même instruction continue sur une même ligne, on peut utiliser l'antislash. Cependant, lorsqu'on écrit une expression il est possible d'aller à la ligne sans toutefois préciser le caractère d'échappement"
   ]
  },
  {
   "cell_type": "code",
   "execution_count": 4,
   "id": "0a88ed2b",
   "metadata": {},
   "outputs": [
    {
     "data": {
      "text/plain": [
       "33"
      ]
     },
     "execution_count": 4,
     "metadata": {},
     "output_type": "execute_result"
    }
   ],
   "source": [
    "x = 1 + 2 + 4 +\\\n",
    "5 + 6 + 7 + 8 \n",
    "x"
   ]
  },
  {
   "cell_type": "code",
   "execution_count": 5,
   "id": "ee809436",
   "metadata": {
    "scrolled": true
   },
   "outputs": [
    {
     "data": {
      "text/plain": [
       "33"
      ]
     },
     "execution_count": 5,
     "metadata": {},
     "output_type": "execute_result"
    }
   ],
   "source": [
    "x = (1 + 2 + 4 +\n",
    "5 + 6 + 7 + 8)\n",
    "x"
   ]
  },
  {
   "cell_type": "markdown",
   "id": "26a96b31",
   "metadata": {},
   "source": [
    "Beaucoup de manuel en Python recommande d'utiliser la dernière astuce !\n",
    "\n",
    "\n",
    "- En Python, l'espace blanc COMPTE, c'est cet espace qui permet de définir une indentation de codage et qui permet de limiter une instruction de flux de contrôle. Dans les conditions for...if...else... écrites ci-dessus, on peut remarquer qu'il y a un certain décalage qui est laissé juste après les deux points à la ligne, cela marque ce qu'on appelle une indentation et une indentation est conventionnellement formée de 4 SPACES que l'on peut reproduire avec la touche TAB.\n",
    "\n",
    "\n",
    "Vous êtes averti, ne vous amusez pas à saisir des espaces n'importe où en Python, l'interpréteur Python (pas iPython) vous renverra une erreur d'indentation : IndentationError !\n",
    "\n",
    "Notez aussi qu'en Python, une indentation de code est toujours précédée d'un deux points (:)"
   ]
  },
  {
   "cell_type": "markdown",
   "id": "8e21bc1c",
   "metadata": {},
   "source": [
    "Nota : L'espace blanc sur une ligne qui commence par une instruction n'est pas important en Python. "
   ]
  },
  {
   "cell_type": "code",
   "execution_count": 10,
   "id": "40b851b0",
   "metadata": {},
   "outputs": [
    {
     "data": {
      "text/plain": [
       "16"
      ]
     },
     "execution_count": 10,
     "metadata": {},
     "output_type": "execute_result"
    }
   ],
   "source": [
    "x = 1                   +                  2   +3       + 10\n",
    "x"
   ]
  },
  {
   "cell_type": "markdown",
   "id": "bfedcbc5",
   "metadata": {},
   "source": [
    "L'on peut volontairement abuser de cette règle pour rendre son code compréhensible"
   ]
  },
  {
   "cell_type": "code",
   "execution_count": 11,
   "id": "5c4f5b31",
   "metadata": {},
   "outputs": [
    {
     "data": {
      "text/plain": [
       "100"
      ]
     },
     "execution_count": 11,
     "metadata": {},
     "output_type": "execute_result"
    }
   ],
   "source": [
    "x=10**2\n",
    "x"
   ]
  },
  {
   "cell_type": "code",
   "execution_count": 12,
   "id": "0f44007d",
   "metadata": {},
   "outputs": [
    {
     "data": {
      "text/plain": [
       "100"
      ]
     },
     "execution_count": 12,
     "metadata": {},
     "output_type": "execute_result"
    }
   ],
   "source": [
    "x = 10 ** 2\n",
    "x"
   ]
  },
  {
   "cell_type": "markdown",
   "id": "ce2780aa",
   "metadata": {},
   "source": [
    "Le second code est meilleur que le premier, car compréhensible.\n",
    "\n",
    "\n",
    "- L'usage des parenthèses en Python sert à deux choses : soit elle nous permet de grouper des expressions ou des opérations mathématiques soit elle intervient dans la définition des arguments d'une fonction. Dans notre tout premier exemple de code, l'usage des parenthèses peut s'aperçevoit sur la condition du if, mais aussi dans la déifnition des fonctions range et print"
   ]
  },
  {
   "cell_type": "markdown",
   "id": "39e73b06",
   "metadata": {},
   "source": [
    "# La sémantique de Python"
   ]
  },
  {
   "cell_type": "markdown",
   "id": "cc4fdfc3",
   "metadata": {},
   "source": [
    "## Variables et objets"
   ]
  },
  {
   "cell_type": "markdown",
   "id": "3fc18101",
   "metadata": {},
   "source": [
    "### Les variables en Python sont des noms ou des références qui pointent vers un objet donné"
   ]
  },
  {
   "cell_type": "code",
   "execution_count": 18,
   "id": "6a5e2569",
   "metadata": {},
   "outputs": [],
   "source": [
    "x = 4"
   ]
  },
  {
   "cell_type": "code",
   "execution_count": 19,
   "id": "591cdb17",
   "metadata": {},
   "outputs": [
    {
     "data": {
      "text/plain": [
       "4"
      ]
     },
     "execution_count": 19,
     "metadata": {},
     "output_type": "execute_result"
    }
   ],
   "source": [
    "x"
   ]
  },
  {
   "cell_type": "code",
   "execution_count": 14,
   "id": "755a8c9d",
   "metadata": {},
   "outputs": [
    {
     "data": {
      "text/plain": [
       "9788704"
      ]
     },
     "execution_count": 14,
     "metadata": {},
     "output_type": "execute_result"
    }
   ],
   "source": [
    "id(4)"
   ]
  },
  {
   "cell_type": "code",
   "execution_count": 15,
   "id": "71efc6b5",
   "metadata": {},
   "outputs": [
    {
     "data": {
      "text/plain": [
       "9788704"
      ]
     },
     "execution_count": 15,
     "metadata": {},
     "output_type": "execute_result"
    }
   ],
   "source": [
    "id(x)"
   ]
  },
  {
   "cell_type": "code",
   "execution_count": 16,
   "id": "f4aba0c7",
   "metadata": {},
   "outputs": [],
   "source": [
    "y = 4"
   ]
  },
  {
   "cell_type": "code",
   "execution_count": 17,
   "id": "7763b557",
   "metadata": {},
   "outputs": [
    {
     "data": {
      "text/plain": [
       "9788704"
      ]
     },
     "execution_count": 17,
     "metadata": {},
     "output_type": "execute_result"
    }
   ],
   "source": [
    "id(y)"
   ]
  },
  {
   "cell_type": "code",
   "execution_count": 20,
   "id": "45c444d3",
   "metadata": {},
   "outputs": [],
   "source": [
    "y = 3"
   ]
  },
  {
   "cell_type": "code",
   "execution_count": 21,
   "id": "b7c1a79b",
   "metadata": {},
   "outputs": [
    {
     "data": {
      "text/plain": [
       "9788672"
      ]
     },
     "execution_count": 21,
     "metadata": {},
     "output_type": "execute_result"
    }
   ],
   "source": [
    "id(3)"
   ]
  },
  {
   "cell_type": "code",
   "execution_count": 22,
   "id": "d52cfa60",
   "metadata": {},
   "outputs": [],
   "source": [
    "x = [1,2,3]"
   ]
  },
  {
   "cell_type": "code",
   "execution_count": 23,
   "id": "39f4fc1c",
   "metadata": {},
   "outputs": [
    {
     "data": {
      "text/plain": [
       "[1, 2, 3]"
      ]
     },
     "execution_count": 23,
     "metadata": {},
     "output_type": "execute_result"
    }
   ],
   "source": [
    "x"
   ]
  },
  {
   "cell_type": "code",
   "execution_count": 24,
   "id": "f48ee119",
   "metadata": {},
   "outputs": [],
   "source": [
    "y = x"
   ]
  },
  {
   "cell_type": "code",
   "execution_count": 26,
   "id": "d39cad30",
   "metadata": {},
   "outputs": [
    {
     "name": "stdout",
     "output_type": "stream",
     "text": [
      "140142975848192\n",
      "140142976308672\n",
      "140142976308672\n"
     ]
    }
   ],
   "source": [
    "print(id(x))\n",
    "print(id(y))"
   ]
  },
  {
   "cell_type": "code",
   "execution_count": 27,
   "id": "40bf09b0",
   "metadata": {},
   "outputs": [],
   "source": [
    "y[1] = y[2]*4"
   ]
  },
  {
   "cell_type": "code",
   "execution_count": 28,
   "id": "f0b65d0c",
   "metadata": {},
   "outputs": [
    {
     "data": {
      "text/plain": [
       "[1, 12, 3]"
      ]
     },
     "execution_count": 28,
     "metadata": {},
     "output_type": "execute_result"
    }
   ],
   "source": [
    "y"
   ]
  },
  {
   "cell_type": "code",
   "execution_count": 29,
   "id": "7272ccae",
   "metadata": {},
   "outputs": [
    {
     "data": {
      "text/plain": [
       "140142976308672"
      ]
     },
     "execution_count": 29,
     "metadata": {},
     "output_type": "execute_result"
    }
   ],
   "source": [
    "id(y)"
   ]
  },
  {
   "cell_type": "code",
   "execution_count": 30,
   "id": "59f4506b",
   "metadata": {},
   "outputs": [
    {
     "data": {
      "text/plain": [
       "[1, 12, 3]"
      ]
     },
     "execution_count": 30,
     "metadata": {},
     "output_type": "execute_result"
    }
   ],
   "source": [
    "x"
   ]
  },
  {
   "cell_type": "code",
   "execution_count": 31,
   "id": "eb8c1d59",
   "metadata": {},
   "outputs": [],
   "source": [
    "import numpy as np"
   ]
  },
  {
   "cell_type": "code",
   "execution_count": 32,
   "id": "bb035857",
   "metadata": {},
   "outputs": [],
   "source": [
    "M = np.array([[1,2,3],\n",
    "     [4,5,6],\n",
    "     [7,8,9]\n",
    "    ])"
   ]
  },
  {
   "cell_type": "code",
   "execution_count": 34,
   "id": "f1a54b92",
   "metadata": {},
   "outputs": [],
   "source": [
    "N = M"
   ]
  },
  {
   "cell_type": "code",
   "execution_count": 35,
   "id": "104ff174",
   "metadata": {},
   "outputs": [
    {
     "data": {
      "text/plain": [
       "140142975903984"
      ]
     },
     "execution_count": 35,
     "metadata": {},
     "output_type": "execute_result"
    }
   ],
   "source": [
    "id(N)"
   ]
  },
  {
   "cell_type": "code",
   "execution_count": 36,
   "id": "35cf5881",
   "metadata": {},
   "outputs": [
    {
     "data": {
      "text/plain": [
       "140142975903984"
      ]
     },
     "execution_count": 36,
     "metadata": {},
     "output_type": "execute_result"
    }
   ],
   "source": [
    "id(M)"
   ]
  },
  {
   "cell_type": "code",
   "execution_count": 38,
   "id": "a3bf5707",
   "metadata": {},
   "outputs": [],
   "source": [
    "N[1,2] = 1000"
   ]
  },
  {
   "cell_type": "code",
   "execution_count": 40,
   "id": "c8f0feab",
   "metadata": {},
   "outputs": [
    {
     "data": {
      "text/plain": [
       "array([[   1,    2,    3],\n",
       "       [   4,    5, 1000],\n",
       "       [   7,    8,    9]])"
      ]
     },
     "execution_count": 40,
     "metadata": {},
     "output_type": "execute_result"
    }
   ],
   "source": [
    "M"
   ]
  },
  {
   "cell_type": "markdown",
   "id": "3e6ac992",
   "metadata": {},
   "source": [
    "### Tout est objet en Python\n",
    "\n",
    "Python est un langage de programmation orienté objet, c'est-à-dire qu'il traite du paradigme de développement objet, mais en plus de cela, en Python, tout ce que nous manipulons est objet ! Vraiment tout ! Les données, les fonctions ... tout est objet."
   ]
  },
  {
   "cell_type": "code",
   "execution_count": 42,
   "id": "799af5b0",
   "metadata": {},
   "outputs": [],
   "source": [
    "l = [i**2 for i in range(10)]"
   ]
  },
  {
   "cell_type": "code",
   "execution_count": 43,
   "id": "3afef24c",
   "metadata": {},
   "outputs": [
    {
     "data": {
      "text/plain": [
       "[0, 1, 4, 9, 16, 25, 36, 49, 64, 81]"
      ]
     },
     "execution_count": 43,
     "metadata": {},
     "output_type": "execute_result"
    }
   ],
   "source": [
    "l"
   ]
  },
  {
   "cell_type": "code",
   "execution_count": 46,
   "id": "4a0f5750",
   "metadata": {},
   "outputs": [],
   "source": [
    "l.remove(0)"
   ]
  },
  {
   "cell_type": "code",
   "execution_count": 47,
   "id": "ac5ee5c8",
   "metadata": {},
   "outputs": [
    {
     "data": {
      "text/plain": [
       "[1, 4, 9, 16, 25, 36, 49, 64, 81]"
      ]
     },
     "execution_count": 47,
     "metadata": {},
     "output_type": "execute_result"
    }
   ],
   "source": [
    "l"
   ]
  },
  {
   "cell_type": "markdown",
   "id": "1d369f58",
   "metadata": {},
   "source": [
    "## Opérateurs"
   ]
  },
  {
   "cell_type": "markdown",
   "id": "e36e0012",
   "metadata": {},
   "source": [
    "### Opérateurs arithmétiques de base"
   ]
  },
  {
   "cell_type": "markdown",
   "id": "e17616f1",
   "metadata": {},
   "source": [
    "Python peut agir comme une calculatrice en mettant en oeuvre la plupart des opérations mathématiques de base"
   ]
  },
  {
   "cell_type": "code",
   "execution_count": 48,
   "id": "9b7bd943",
   "metadata": {},
   "outputs": [],
   "source": [
    "a = 5\n",
    "b = 9"
   ]
  },
  {
   "cell_type": "code",
   "execution_count": 49,
   "id": "5f365634",
   "metadata": {},
   "outputs": [
    {
     "data": {
      "text/plain": [
       "14"
      ]
     },
     "execution_count": 49,
     "metadata": {},
     "output_type": "execute_result"
    }
   ],
   "source": [
    "a + b"
   ]
  },
  {
   "cell_type": "code",
   "execution_count": 50,
   "id": "dd76813d",
   "metadata": {},
   "outputs": [
    {
     "data": {
      "text/plain": [
       "-4"
      ]
     },
     "execution_count": 50,
     "metadata": {},
     "output_type": "execute_result"
    }
   ],
   "source": [
    "a - b"
   ]
  },
  {
   "cell_type": "code",
   "execution_count": 51,
   "id": "3082403a",
   "metadata": {},
   "outputs": [
    {
     "data": {
      "text/plain": [
       "45"
      ]
     },
     "execution_count": 51,
     "metadata": {},
     "output_type": "execute_result"
    }
   ],
   "source": [
    "a * b"
   ]
  },
  {
   "cell_type": "code",
   "execution_count": 54,
   "id": "70c0ddc6",
   "metadata": {},
   "outputs": [
    {
     "data": {
      "text/plain": [
       "1.8"
      ]
     },
     "execution_count": 54,
     "metadata": {},
     "output_type": "execute_result"
    }
   ],
   "source": [
    "b / a"
   ]
  },
  {
   "cell_type": "code",
   "execution_count": 56,
   "id": "0dc29c52",
   "metadata": {},
   "outputs": [
    {
     "data": {
      "text/plain": [
       "1"
      ]
     },
     "execution_count": 56,
     "metadata": {},
     "output_type": "execute_result"
    }
   ],
   "source": [
    "b // a"
   ]
  },
  {
   "cell_type": "code",
   "execution_count": 57,
   "id": "07b4d923",
   "metadata": {},
   "outputs": [
    {
     "data": {
      "text/plain": [
       "4"
      ]
     },
     "execution_count": 57,
     "metadata": {},
     "output_type": "execute_result"
    }
   ],
   "source": [
    "b % a"
   ]
  },
  {
   "cell_type": "code",
   "execution_count": 58,
   "id": "f2d1ed1f",
   "metadata": {},
   "outputs": [
    {
     "data": {
      "text/plain": [
       "59049"
      ]
     },
     "execution_count": 58,
     "metadata": {},
     "output_type": "execute_result"
    }
   ],
   "source": [
    "b ** a"
   ]
  },
  {
   "cell_type": "code",
   "execution_count": 59,
   "id": "e07f34a9",
   "metadata": {},
   "outputs": [
    {
     "data": {
      "text/plain": [
       "-5"
      ]
     },
     "execution_count": 59,
     "metadata": {},
     "output_type": "execute_result"
    }
   ],
   "source": [
    "-a"
   ]
  },
  {
   "cell_type": "code",
   "execution_count": 60,
   "id": "2208306f",
   "metadata": {},
   "outputs": [
    {
     "data": {
      "text/plain": [
       "9"
      ]
     },
     "execution_count": 60,
     "metadata": {},
     "output_type": "execute_result"
    }
   ],
   "source": [
    "+b"
   ]
  },
  {
   "cell_type": "markdown",
   "id": "148672bc",
   "metadata": {},
   "source": [
    "Ces opérations peuvent être combinés par des parenthèses pour en créer des plus complexe, nous l'avons déjà mentionné."
   ]
  },
  {
   "cell_type": "code",
   "execution_count": 61,
   "id": "0fd2684a",
   "metadata": {},
   "outputs": [
    {
     "data": {
      "text/plain": [
       "20"
      ]
     },
     "execution_count": 61,
     "metadata": {},
     "output_type": "execute_result"
    }
   ],
   "source": [
    "(5 * 10) ** 2 // 120"
   ]
  },
  {
   "cell_type": "markdown",
   "id": "b5a963d3",
   "metadata": {},
   "source": [
    "Notez que ces opérateurs arithmétique de base peuvent souvent être étendue en faisant appelle à des bibliothèques de calcul numériques tels que Numpy qui viennent avec leur bagage d'opérateurs et de types d'objet"
   ]
  },
  {
   "cell_type": "markdown",
   "id": "e8f13629",
   "metadata": {},
   "source": [
    "### Opérateurs de comparaison"
   ]
  },
  {
   "cell_type": "markdown",
   "id": "e0722485",
   "metadata": {},
   "source": [
    "Python implémente la plupart des opérateurs de comparaison de base : le ET, le OU, le NON, le XOR ..."
   ]
  },
  {
   "cell_type": "code",
   "execution_count": 62,
   "id": "7baf2f6f",
   "metadata": {},
   "outputs": [],
   "source": [
    "a = 5\n",
    "b = 9"
   ]
  },
  {
   "cell_type": "code",
   "execution_count": 86,
   "id": "1810825d",
   "metadata": {},
   "outputs": [
    {
     "data": {
      "text/plain": [
       "False"
      ]
     },
     "execution_count": 86,
     "metadata": {},
     "output_type": "execute_result"
    }
   ],
   "source": [
    "a == b"
   ]
  },
  {
   "cell_type": "code",
   "execution_count": 87,
   "id": "8942e81e",
   "metadata": {},
   "outputs": [
    {
     "data": {
      "text/plain": [
       "True"
      ]
     },
     "execution_count": 87,
     "metadata": {},
     "output_type": "execute_result"
    }
   ],
   "source": [
    "a != b"
   ]
  },
  {
   "cell_type": "code",
   "execution_count": 88,
   "id": "ffd24b48",
   "metadata": {},
   "outputs": [
    {
     "data": {
      "text/plain": [
       "True"
      ]
     },
     "execution_count": 88,
     "metadata": {},
     "output_type": "execute_result"
    }
   ],
   "source": [
    "a < b"
   ]
  },
  {
   "cell_type": "code",
   "execution_count": 89,
   "id": "4df3ef2a",
   "metadata": {},
   "outputs": [
    {
     "data": {
      "text/plain": [
       "False"
      ]
     },
     "execution_count": 89,
     "metadata": {},
     "output_type": "execute_result"
    }
   ],
   "source": [
    "a > b"
   ]
  },
  {
   "cell_type": "code",
   "execution_count": 90,
   "id": "bcb7be7c",
   "metadata": {},
   "outputs": [
    {
     "data": {
      "text/plain": [
       "True"
      ]
     },
     "execution_count": 90,
     "metadata": {},
     "output_type": "execute_result"
    }
   ],
   "source": [
    "a <= b"
   ]
  },
  {
   "cell_type": "code",
   "execution_count": 91,
   "id": "3b78664a",
   "metadata": {},
   "outputs": [
    {
     "data": {
      "text/plain": [
       "False"
      ]
     },
     "execution_count": 91,
     "metadata": {},
     "output_type": "execute_result"
    }
   ],
   "source": [
    "a >= b"
   ]
  },
  {
   "cell_type": "code",
   "execution_count": 66,
   "id": "bde2628b",
   "metadata": {
    "scrolled": true
   },
   "outputs": [
    {
     "data": {
      "text/plain": [
       "False"
      ]
     },
     "execution_count": 66,
     "metadata": {},
     "output_type": "execute_result"
    }
   ],
   "source": [
    "(a & b) > 120"
   ]
  },
  {
   "cell_type": "code",
   "execution_count": 98,
   "id": "92398b6c",
   "metadata": {},
   "outputs": [
    {
     "data": {
      "text/plain": [
       "False"
      ]
     },
     "execution_count": 98,
     "metadata": {},
     "output_type": "execute_result"
    }
   ],
   "source": [
    "(a and b) > 120"
   ]
  },
  {
   "cell_type": "code",
   "execution_count": 65,
   "id": "0b8dad66",
   "metadata": {},
   "outputs": [
    {
     "data": {
      "text/plain": [
       "True"
      ]
     },
     "execution_count": 65,
     "metadata": {},
     "output_type": "execute_result"
    }
   ],
   "source": [
    "(a | b) > 5"
   ]
  },
  {
   "cell_type": "code",
   "execution_count": 99,
   "id": "5c122555",
   "metadata": {},
   "outputs": [
    {
     "data": {
      "text/plain": [
       "False"
      ]
     },
     "execution_count": 99,
     "metadata": {},
     "output_type": "execute_result"
    }
   ],
   "source": [
    "(a or b) > 5"
   ]
  },
  {
   "cell_type": "code",
   "execution_count": 69,
   "id": "087eeea9",
   "metadata": {},
   "outputs": [
    {
     "data": {
      "text/plain": [
       "False"
      ]
     },
     "execution_count": 69,
     "metadata": {},
     "output_type": "execute_result"
    }
   ],
   "source": [
    "(a ^ b) < 5"
   ]
  },
  {
   "cell_type": "code",
   "execution_count": 95,
   "id": "b6810275",
   "metadata": {},
   "outputs": [
    {
     "data": {
      "text/plain": [
       "False"
      ]
     },
     "execution_count": 95,
     "metadata": {},
     "output_type": "execute_result"
    }
   ],
   "source": [
    "not a > -2"
   ]
  },
  {
   "cell_type": "markdown",
   "id": "86918726",
   "metadata": {},
   "source": [
    "### Opérateurs d'assignation combiné"
   ]
  },
  {
   "cell_type": "code",
   "execution_count": 73,
   "id": "2d3c4479",
   "metadata": {},
   "outputs": [
    {
     "data": {
      "text/plain": [
       "7"
      ]
     },
     "execution_count": 73,
     "metadata": {},
     "output_type": "execute_result"
    }
   ],
   "source": [
    "a += 2\n",
    "a"
   ]
  },
  {
   "cell_type": "code",
   "execution_count": 74,
   "id": "ff60348d",
   "metadata": {},
   "outputs": [
    {
     "data": {
      "text/plain": [
       "14"
      ]
     },
     "execution_count": 74,
     "metadata": {},
     "output_type": "execute_result"
    }
   ],
   "source": [
    "a *= 2\n",
    "a"
   ]
  },
  {
   "cell_type": "code",
   "execution_count": 76,
   "id": "8decb1bd",
   "metadata": {},
   "outputs": [
    {
     "data": {
      "text/plain": [
       "10"
      ]
     },
     "execution_count": 76,
     "metadata": {},
     "output_type": "execute_result"
    }
   ],
   "source": [
    "a -=2\n",
    "a"
   ]
  },
  {
   "cell_type": "code",
   "execution_count": 77,
   "id": "810a6c8c",
   "metadata": {},
   "outputs": [
    {
     "data": {
      "text/plain": [
       "5.0"
      ]
     },
     "execution_count": 77,
     "metadata": {},
     "output_type": "execute_result"
    }
   ],
   "source": [
    "a /= 2\n",
    "a"
   ]
  },
  {
   "cell_type": "code",
   "execution_count": 80,
   "id": "7d65e31d",
   "metadata": {},
   "outputs": [
    {
     "data": {
      "text/plain": [
       "1.0"
      ]
     },
     "execution_count": 80,
     "metadata": {},
     "output_type": "execute_result"
    }
   ],
   "source": [
    "a //=2\n",
    "a"
   ]
  },
  {
   "cell_type": "code",
   "execution_count": 82,
   "id": "08babef4",
   "metadata": {},
   "outputs": [
    {
     "data": {
      "text/plain": [
       "1.0"
      ]
     },
     "execution_count": 82,
     "metadata": {},
     "output_type": "execute_result"
    }
   ],
   "source": [
    "a %= 2\n",
    "a"
   ]
  },
  {
   "cell_type": "code",
   "execution_count": 84,
   "id": "7081133b",
   "metadata": {},
   "outputs": [
    {
     "data": {
      "text/plain": [
       "1.0"
      ]
     },
     "execution_count": 84,
     "metadata": {},
     "output_type": "execute_result"
    }
   ],
   "source": [
    "a **= 2\n",
    "a"
   ]
  },
  {
   "cell_type": "code",
   "execution_count": 94,
   "id": "8703e3f5",
   "metadata": {},
   "outputs": [
    {
     "data": {
      "text/plain": [
       "-11"
      ]
     },
     "execution_count": 94,
     "metadata": {},
     "output_type": "execute_result"
    }
   ],
   "source": [
    "~10"
   ]
  },
  {
   "cell_type": "code",
   "execution_count": 97,
   "id": "262cc3a3",
   "metadata": {},
   "outputs": [
    {
     "data": {
      "text/plain": [
       "True"
      ]
     },
     "execution_count": 97,
     "metadata": {},
     "output_type": "execute_result"
    }
   ],
   "source": [
    "x = 4\n",
    "(x < 6) and (x > 2)"
   ]
  },
  {
   "cell_type": "markdown",
   "id": "484a1a85",
   "metadata": {},
   "source": [
    "### Opérateurs d'identité de sous-membres"
   ]
  },
  {
   "cell_type": "code",
   "execution_count": 103,
   "id": "6a232b6b",
   "metadata": {},
   "outputs": [
    {
     "name": "stdout",
     "output_type": "stream",
     "text": [
      "False\n",
      "True\n",
      "True\n"
     ]
    }
   ],
   "source": [
    "#tester si deux objet sont identiques : identité d'objet pas de nom de variable\n",
    "a = 4 \n",
    "b = 9 \n",
    "\n",
    "print(a is b)\n",
    "\n",
    "x = 5\n",
    "y = 5\n",
    "\n",
    "print(x is y)\n",
    "\n",
    "print(a is not y)"
   ]
  },
  {
   "cell_type": "code",
   "execution_count": 106,
   "id": "0935e477",
   "metadata": {},
   "outputs": [
    {
     "name": "stdout",
     "output_type": "stream",
     "text": [
      "True\n",
      "True\n"
     ]
    }
   ],
   "source": [
    "#tester si un élément se trouve dans un autre éléments : il faut que l'élément de droite soit itérable\n",
    "\n",
    "a = 4\n",
    "b = [i*2 for i in range(1, 11)]\n",
    "\n",
    "print(a in b)\n",
    "\n",
    "c = 1\n",
    "\n",
    "print(c not in b) "
   ]
  },
  {
   "cell_type": "code",
   "execution_count": 107,
   "id": "754c3f11",
   "metadata": {},
   "outputs": [],
   "source": [
    "#attention is est différent de l'égalité !\n",
    "\n",
    "a = [1,2,3]\n",
    "b = [1,2,3]"
   ]
  },
  {
   "cell_type": "code",
   "execution_count": 108,
   "id": "e57de8d8",
   "metadata": {},
   "outputs": [
    {
     "data": {
      "text/plain": [
       "True"
      ]
     },
     "execution_count": 108,
     "metadata": {},
     "output_type": "execute_result"
    }
   ],
   "source": [
    "a == b"
   ]
  },
  {
   "cell_type": "code",
   "execution_count": 109,
   "id": "146636b9",
   "metadata": {},
   "outputs": [
    {
     "data": {
      "text/plain": [
       "False"
      ]
     },
     "execution_count": 109,
     "metadata": {},
     "output_type": "execute_result"
    }
   ],
   "source": [
    "a is b"
   ]
  },
  {
   "cell_type": "code",
   "execution_count": 110,
   "id": "d8ca0045",
   "metadata": {},
   "outputs": [
    {
     "data": {
      "text/plain": [
       "140141779488576"
      ]
     },
     "execution_count": 110,
     "metadata": {},
     "output_type": "execute_result"
    }
   ],
   "source": [
    "id(a)"
   ]
  },
  {
   "cell_type": "code",
   "execution_count": 111,
   "id": "906d4b18",
   "metadata": {},
   "outputs": [
    {
     "data": {
      "text/plain": [
       "140141779346688"
      ]
     },
     "execution_count": 111,
     "metadata": {},
     "output_type": "execute_result"
    }
   ],
   "source": [
    "id(b)"
   ]
  },
  {
   "cell_type": "code",
   "execution_count": 112,
   "id": "c77aa263",
   "metadata": {},
   "outputs": [],
   "source": [
    "b[1] = 4"
   ]
  },
  {
   "cell_type": "code",
   "execution_count": 113,
   "id": "8602502c",
   "metadata": {},
   "outputs": [
    {
     "data": {
      "text/plain": [
       "[1, 2, 3]"
      ]
     },
     "execution_count": 113,
     "metadata": {},
     "output_type": "execute_result"
    }
   ],
   "source": [
    "a"
   ]
  },
  {
   "cell_type": "markdown",
   "id": "eeb26134",
   "metadata": {},
   "source": [
    "## Les types built-in de Python : les types de base"
   ]
  },
  {
   "cell_type": "markdown",
   "id": "57ecc7be",
   "metadata": {},
   "source": [
    "#### int"
   ]
  },
  {
   "cell_type": "markdown",
   "id": "8e437841",
   "metadata": {},
   "source": [
    "Tout objet Python est typé et les types les plus simples sont : int, float, complex, bool et str\n",
    "\n",
    "Le type d'objet le plus simple et le plus utilisé c'est le type int, il concerne tous les nombres non décimaux. "
   ]
  },
  {
   "cell_type": "code",
   "execution_count": 118,
   "id": "6e7e90e4",
   "metadata": {},
   "outputs": [
    {
     "data": {
      "text/plain": [
       "int"
      ]
     },
     "execution_count": 118,
     "metadata": {},
     "output_type": "execute_result"
    }
   ],
   "source": [
    "x = 1\n",
    "type(x)"
   ]
  },
  {
   "cell_type": "markdown",
   "id": "79d99ad1",
   "metadata": {},
   "source": [
    "Le type int en Python contient à la fois les entiers courts et les entiers longs."
   ]
  },
  {
   "cell_type": "code",
   "execution_count": 121,
   "id": "c2481151",
   "metadata": {},
   "outputs": [
    {
     "data": {
      "text/plain": [
       "1606938044258990275541962092341162602522202993782792835301376"
      ]
     },
     "execution_count": 121,
     "metadata": {},
     "output_type": "execute_result"
    }
   ],
   "source": [
    "long = 2 ** 200\n",
    "long"
   ]
  },
  {
   "cell_type": "code",
   "execution_count": 122,
   "id": "0ecc9c30",
   "metadata": {},
   "outputs": [
    {
     "data": {
      "text/plain": [
       "int"
      ]
     },
     "execution_count": 122,
     "metadata": {},
     "output_type": "execute_result"
    }
   ],
   "source": [
    "type(long)"
   ]
  },
  {
   "cell_type": "markdown",
   "id": "d590d985",
   "metadata": {},
   "source": [
    "A chaque type Python correspond un constructeur (c'est une fonction de construction) de ce type. Elle permet ausi de coincir un autre objet."
   ]
  },
  {
   "cell_type": "code",
   "execution_count": 119,
   "id": "abd9e048",
   "metadata": {},
   "outputs": [
    {
     "data": {
      "text/plain": [
       "5"
      ]
     },
     "execution_count": 119,
     "metadata": {},
     "output_type": "execute_result"
    }
   ],
   "source": [
    "int(5)"
   ]
  },
  {
   "cell_type": "markdown",
   "id": "d4df3ffe",
   "metadata": {},
   "source": [
    "Il faut noter que la division de deux int en Python 3 ne revoit pas un entier mais un autre type d'objet que nous verons par la suite."
   ]
  },
  {
   "cell_type": "code",
   "execution_count": 127,
   "id": "bc26dc81",
   "metadata": {},
   "outputs": [
    {
     "data": {
      "text/plain": [
       "2.0"
      ]
     },
     "execution_count": 127,
     "metadata": {},
     "output_type": "execute_result"
    }
   ],
   "source": [
    "4 / 2"
   ]
  },
  {
   "cell_type": "markdown",
   "id": "dd7b0521",
   "metadata": {},
   "source": [
    "#### float"
   ]
  },
  {
   "cell_type": "markdown",
   "id": "f2a0b8d0",
   "metadata": {},
   "source": [
    "Après le type entier, il existe le type qui gère les nombres à virgule : c'est le type float de Python. Il permet de gérer tout type nombre flottants. Typiquement, il s'agit du mode de stockages des nombres réels, rationnels, décimaux ..."
   ]
  },
  {
   "cell_type": "code",
   "execution_count": 123,
   "id": "33d7dcad",
   "metadata": {},
   "outputs": [
    {
     "data": {
      "text/plain": [
       "float"
      ]
     },
     "execution_count": 123,
     "metadata": {},
     "output_type": "execute_result"
    }
   ],
   "source": [
    "y = 21.5\n",
    "type(y)"
   ]
  },
  {
   "cell_type": "markdown",
   "id": "0dbb32a0",
   "metadata": {},
   "source": [
    "Formellement, les flottants en Python s'écrive soit en notation normale soit en notation scientifique avec le \"e\"."
   ]
  },
  {
   "cell_type": "code",
   "execution_count": 125,
   "id": "0c33de32",
   "metadata": {},
   "outputs": [
    {
     "data": {
      "text/plain": [
       "21.5"
      ]
     },
     "execution_count": 125,
     "metadata": {},
     "output_type": "execute_result"
    }
   ],
   "source": [
    "y = 215e-1\n",
    "y"
   ]
  },
  {
   "cell_type": "code",
   "execution_count": 128,
   "id": "90640872",
   "metadata": {},
   "outputs": [
    {
     "data": {
      "text/plain": [
       "float"
      ]
     },
     "execution_count": 128,
     "metadata": {},
     "output_type": "execute_result"
    }
   ],
   "source": [
    "type(y)"
   ]
  },
  {
   "cell_type": "markdown",
   "id": "4c218877",
   "metadata": {},
   "source": [
    "Il faut faire attention à la précision des float. En fait, le format d'affichage ne reflette pas forcement le contenant. En effet :"
   ]
  },
  {
   "cell_type": "code",
   "execution_count": 130,
   "id": "2cf95a00",
   "metadata": {},
   "outputs": [
    {
     "data": {
      "text/plain": [
       "False"
      ]
     },
     "execution_count": 130,
     "metadata": {},
     "output_type": "execute_result"
    }
   ],
   "source": [
    "0.1 + 0.2 == 0.3"
   ]
  },
  {
   "cell_type": "markdown",
   "id": "a2a6a7b0",
   "metadata": {},
   "source": [
    "Pourquoi est-ce le cas ? Il s'avère que ce n'est pas un comportement propre à Python, mais qu'il est dû au format à précision fixe du stockage binaire à virgule flottante utilisé par la plupart, sinon la totalité, des plateformes de calcul scientifique. Tous les langages de programmation utilisant des nombres à virgule flottante les stockent dans un nombre fixe de bits, ce qui conduit à ce que certains nombres ne soient représentés qu'approximativement. \n",
    "\n",
    "Nous pouvons le constater en imprimant les trois valeurs en haute précision :"
   ]
  },
  {
   "cell_type": "code",
   "execution_count": 134,
   "id": "1e3106ed",
   "metadata": {},
   "outputs": [
    {
     "name": "stdout",
     "output_type": "stream",
     "text": [
      "0.1 = 0.10000000000000001\n",
      "0.2 = 0.20000000000000001\n",
      "0.3 = 0.29999999999999999\n"
     ]
    }
   ],
   "source": [
    "print(\"0.1 = {0:.17f}\".format(0.1))\n",
    "print(\"0.2 = {0:.17f}\".format(0.2))\n",
    "print(\"0.3 = {0:.17f}\".format(0.3))"
   ]
  },
  {
   "cell_type": "markdown",
   "id": "85e7f209",
   "metadata": {},
   "source": [
    "La meilleure façon d'y faire face est de toujours garder à l'esprit que l'arithmétique en virgule flottante est approximative et de ne jamais compter sur des tests d'égalité exacts avec des valeurs en virgule flottante. valeurs en virgule flottante."
   ]
  },
  {
   "cell_type": "markdown",
   "id": "ff4721a9",
   "metadata": {},
   "source": [
    "### complex"
   ]
  },
  {
   "cell_type": "markdown",
   "id": "f2ca0b3c",
   "metadata": {},
   "source": [
    "Voyons à présent un type d'objet numérique moins utilisé en Python : c'est le type complex. Il permet de créer des objets de type nombres complexes, c'est-à-dire des nombres qui possèdent une partie réelle et une partie imaginaire."
   ]
  },
  {
   "cell_type": "code",
   "execution_count": 135,
   "id": "95e06e93",
   "metadata": {},
   "outputs": [
    {
     "data": {
      "text/plain": [
       "(1+2j)"
      ]
     },
     "execution_count": 135,
     "metadata": {},
     "output_type": "execute_result"
    }
   ],
   "source": [
    "#création d'un nombre complexe avec le constructeur\n",
    "complex(1, 2)"
   ]
  },
  {
   "cell_type": "code",
   "execution_count": 136,
   "id": "73a6544b",
   "metadata": {},
   "outputs": [
    {
     "data": {
      "text/plain": [
       "(1+2j)"
      ]
     },
     "execution_count": 136,
     "metadata": {},
     "output_type": "execute_result"
    }
   ],
   "source": [
    "#définition d'un nombre complexe avec le suffixe j\n",
    "1 + 2j"
   ]
  },
  {
   "cell_type": "code",
   "execution_count": 137,
   "id": "ce6ac7fc",
   "metadata": {},
   "outputs": [],
   "source": [
    "#voyons les attributs et méthodes d'un objet complex\n",
    "c = 3 + 4j"
   ]
  },
  {
   "cell_type": "code",
   "execution_count": 138,
   "id": "e3175f90",
   "metadata": {},
   "outputs": [
    {
     "data": {
      "text/plain": [
       "3.0"
      ]
     },
     "execution_count": 138,
     "metadata": {},
     "output_type": "execute_result"
    }
   ],
   "source": [
    "#extraction de la partie réelle\n",
    "c.real"
   ]
  },
  {
   "cell_type": "code",
   "execution_count": 139,
   "id": "af1dd0bd",
   "metadata": {},
   "outputs": [
    {
     "data": {
      "text/plain": [
       "4.0"
      ]
     },
     "execution_count": 139,
     "metadata": {},
     "output_type": "execute_result"
    }
   ],
   "source": [
    "#extraction de la partie imaginaire\n",
    "c.imag"
   ]
  },
  {
   "cell_type": "code",
   "execution_count": 141,
   "id": "a4f6b0dc",
   "metadata": {},
   "outputs": [
    {
     "data": {
      "text/plain": [
       "(3-4j)"
      ]
     },
     "execution_count": 141,
     "metadata": {},
     "output_type": "execute_result"
    }
   ],
   "source": [
    "#calcul du conjugué de c\n",
    "c.conjugate()"
   ]
  },
  {
   "cell_type": "markdown",
   "id": "70a9e032",
   "metadata": {},
   "source": [
    "### string"
   ]
  },
  {
   "cell_type": "markdown",
   "id": "a1b996a8",
   "metadata": {},
   "source": [
    "Abordons un type d'objet très utilisé dans les gestions des chaines de caractères, le type String. Il permet de gérer des caractères et des chaînes de caractères."
   ]
  },
  {
   "cell_type": "code",
   "execution_count": 142,
   "id": "a794cb0f",
   "metadata": {},
   "outputs": [],
   "source": [
    "#création d'une chaine avec une double française\n",
    "nom = \"ESSOH\""
   ]
  },
  {
   "cell_type": "code",
   "execution_count": 143,
   "id": "dc92f5aa",
   "metadata": {},
   "outputs": [
    {
     "data": {
      "text/plain": [
       "'ESSOH'"
      ]
     },
     "execution_count": 143,
     "metadata": {},
     "output_type": "execute_result"
    }
   ],
   "source": [
    "nom"
   ]
  },
  {
   "cell_type": "code",
   "execution_count": 144,
   "id": "99812610",
   "metadata": {},
   "outputs": [],
   "source": [
    "#création d'une chaine avec une cote simple anglaise\n",
    "prenoms = 'Lasme Ephrem Dominique'"
   ]
  },
  {
   "cell_type": "code",
   "execution_count": 145,
   "id": "12df5bfb",
   "metadata": {},
   "outputs": [
    {
     "data": {
      "text/plain": [
       "'Lasme Ephrem Dominique'"
      ]
     },
     "execution_count": 145,
     "metadata": {},
     "output_type": "execute_result"
    }
   ],
   "source": [
    "prenoms"
   ]
  },
  {
   "cell_type": "markdown",
   "id": "19544e50",
   "metadata": {},
   "source": [
    "Un objet string contient une multitude de méthodes comme on peut le voir :"
   ]
  },
  {
   "cell_type": "code",
   "execution_count": 147,
   "id": "a684fd3d",
   "metadata": {},
   "outputs": [
    {
     "data": {
      "text/plain": [
       "'essoh'"
      ]
     },
     "execution_count": 147,
     "metadata": {},
     "output_type": "execute_result"
    }
   ],
   "source": [
    "#mets la chaine en minuscule\n",
    "nom.lower()"
   ]
  },
  {
   "cell_type": "code",
   "execution_count": 148,
   "id": "7c985e0a",
   "metadata": {},
   "outputs": [
    {
     "data": {
      "text/plain": [
       "'Lasme ephrem dominique'"
      ]
     },
     "execution_count": 148,
     "metadata": {},
     "output_type": "execute_result"
    }
   ],
   "source": [
    "#écris que la première lettre de la chaine en majuscule\n",
    "prenoms.capitalize()"
   ]
  },
  {
   "cell_type": "markdown",
   "id": "33f4bdb1",
   "metadata": {},
   "source": [
    "Intuitvement, on peut réaliser des opérations arithmétiques sur de types int, float ou complex, car étant des types numériques, cependant cela est moins intuitifs avec les chaînes de caractères.\n",
    "\n",
    "\n",
    "Python nous permet cependant de mener de tels actions afin d'accomplir des tâches rapides sur les chaînes telles que la concatenation de chaine. La somme de chaine permet leur concatennation alors que la mutiplication permet une contatenation multiple"
   ]
  },
  {
   "cell_type": "code",
   "execution_count": 153,
   "id": "aaee1453",
   "metadata": {},
   "outputs": [
    {
     "data": {
      "text/plain": [
       "'ESSOHLasme Ephrem Dominique'"
      ]
     },
     "execution_count": 153,
     "metadata": {},
     "output_type": "execute_result"
    }
   ],
   "source": [
    "nom + prenoms"
   ]
  },
  {
   "cell_type": "code",
   "execution_count": 154,
   "id": "800d167a",
   "metadata": {},
   "outputs": [
    {
     "data": {
      "text/plain": [
       "'ESSOH Lasme Ephrem Dominique'"
      ]
     },
     "execution_count": 154,
     "metadata": {},
     "output_type": "execute_result"
    }
   ],
   "source": [
    "nom + \" \" + prenoms"
   ]
  },
  {
   "cell_type": "code",
   "execution_count": 156,
   "id": "b16bc5c0",
   "metadata": {},
   "outputs": [
    {
     "data": {
      "text/plain": [
       "str"
      ]
     },
     "execution_count": 156,
     "metadata": {},
     "output_type": "execute_result"
    }
   ],
   "source": [
    "#parce que \" \" est bien une chaine\n",
    "type(\" \")"
   ]
  },
  {
   "cell_type": "code",
   "execution_count": 159,
   "id": "b331ae88",
   "metadata": {},
   "outputs": [
    {
     "data": {
      "text/plain": [
       "'ESSOHESSOH'"
      ]
     },
     "execution_count": 159,
     "metadata": {},
     "output_type": "execute_result"
    }
   ],
   "source": [
    "2 * nom"
   ]
  },
  {
   "cell_type": "markdown",
   "id": "b4cfed5a",
   "metadata": {},
   "source": [
    "Pour compter le nombre de charactères d'une chaîne, on utilise la fonction len :"
   ]
  },
  {
   "cell_type": "code",
   "execution_count": 160,
   "id": "037bc3f0",
   "metadata": {},
   "outputs": [
    {
     "data": {
      "text/plain": [
       "22"
      ]
     },
     "execution_count": 160,
     "metadata": {},
     "output_type": "execute_result"
    }
   ],
   "source": [
    "len(prenoms)"
   ]
  },
  {
   "cell_type": "markdown",
   "id": "d171822d",
   "metadata": {},
   "source": [
    "D'alleurs, la fonction len permet de compter le contenu de tout objet qui est itérable, nous les verrons plus tard :"
   ]
  },
  {
   "cell_type": "code",
   "execution_count": 163,
   "id": "e476dbe6",
   "metadata": {},
   "outputs": [
    {
     "data": {
      "text/plain": [
       "10"
      ]
     },
     "execution_count": 163,
     "metadata": {},
     "output_type": "execute_result"
    }
   ],
   "source": [
    "len([i ** 2 for i in range(1, 11)])"
   ]
  },
  {
   "cell_type": "markdown",
   "id": "6abce62e",
   "metadata": {},
   "source": [
    "Au passage, une chaine de caractères est un objet itérable !"
   ]
  },
  {
   "cell_type": "code",
   "execution_count": 166,
   "id": "0c8cb267",
   "metadata": {},
   "outputs": [
    {
     "name": "stdout",
     "output_type": "stream",
     "text": [
      "['L', 'a', 's', 'm', 'e', ' ', 'E', 'p', 'h', 'r', 'e', 'm', ' ', 'D', 'o', 'm', 'i', 'n', 'i', 'q', 'u', 'e']\n",
      "sme Ephrem Dominique\n"
     ]
    }
   ],
   "source": [
    "#conversion d'une chaine de caractère en liste\n",
    "print([c for c in prenoms])\n",
    "print(prenoms[2:])"
   ]
  },
  {
   "cell_type": "markdown",
   "id": "0efc78ee",
   "metadata": {},
   "source": [
    "#### None"
   ]
  },
  {
   "cell_type": "markdown",
   "id": "4c76c25e",
   "metadata": {},
   "source": [
    "Il existe un type étrange en Python, qui est un objet qui ne contient rien ! C'est le type None. Exactement, ce type contient et ne peut contenir qu'une seule valeur : None."
   ]
  },
  {
   "cell_type": "code",
   "execution_count": 167,
   "id": "2f163372",
   "metadata": {},
   "outputs": [
    {
     "data": {
      "text/plain": [
       "NoneType"
      ]
     },
     "execution_count": 167,
     "metadata": {},
     "output_type": "execute_result"
    }
   ],
   "source": [
    "type(None)"
   ]
  },
  {
   "cell_type": "markdown",
   "id": "1c5dd164",
   "metadata": {},
   "source": [
    "Alors on pourrait se demander quel est l'utilité d'un tel objet, et bien il sert bien des cas. Par exemple, il souvent utilisé pour initialiser un objet qui sera utilisé par la suite dans une boucle. Il est aussi la valeur par défaut renvoyée par une fonction quand celle-ci ne retourne rien."
   ]
  },
  {
   "cell_type": "code",
   "execution_count": 168,
   "id": "dafda38c",
   "metadata": {},
   "outputs": [
    {
     "name": "stdout",
     "output_type": "stream",
     "text": [
      "Taper oui pour arrêter le programme ! non\n",
      "Taper oui pour arrêter le programme ! l\n",
      "Taper oui pour arrêter le programme ! m\n",
      "Taper oui pour arrêter le programme ! k\n",
      "Taper oui pour arrêter le programme ! \n",
      "Taper oui pour arrêter le programme ! o\n",
      "Taper oui pour arrêter le programme ! \n",
      "Taper oui pour arrêter le programme ! \n",
      "Taper oui pour arrêter le programme ! oui\n"
     ]
    }
   ],
   "source": [
    "#None en tant que initialisa\n",
    "\n",
    "reponse = None\n",
    "\n",
    "while reponse != \"oui\":\n",
    "    reponse = input(\"Taper oui pour arrêter le programme ! \")"
   ]
  },
  {
   "cell_type": "code",
   "execution_count": 170,
   "id": "b891aee8",
   "metadata": {},
   "outputs": [
    {
     "data": {
      "text/plain": [
       "<function print>"
      ]
     },
     "execution_count": 170,
     "metadata": {},
     "output_type": "execute_result"
    }
   ],
   "source": [
    "#valeur de retour d'une fonction qui ne renvoie rien\n",
    "print"
   ]
  },
  {
   "cell_type": "markdown",
   "id": "c7dabc0c",
   "metadata": {},
   "source": [
    "print est une fonction Python qui permet d'imprimer un objet, formelement, elle ne renvoie rien comme valeur !"
   ]
  },
  {
   "cell_type": "code",
   "execution_count": 171,
   "id": "4a32124a",
   "metadata": {},
   "outputs": [
    {
     "name": "stdout",
     "output_type": "stream",
     "text": [
      "bonjour\n"
     ]
    }
   ],
   "source": [
    "message = print(\"bonjour\")"
   ]
  },
  {
   "cell_type": "code",
   "execution_count": 174,
   "id": "3cf603bb",
   "metadata": {},
   "outputs": [
    {
     "name": "stdout",
     "output_type": "stream",
     "text": [
      "None\n"
     ]
    }
   ],
   "source": [
    "print(message)"
   ]
  },
  {
   "cell_type": "markdown",
   "id": "0f961dc7",
   "metadata": {},
   "source": [
    "#### bool"
   ]
  },
  {
   "cell_type": "markdown",
   "id": "a1b28ba5",
   "metadata": {},
   "source": [
    "Etudions le dernier type simple le plus important de Python : le type bool ou booléen. C'est le type qui permet à Python d'appréhender des conditions logiques. Avec ce type Python sait reconnaître des True (1) des False (0). De fait, un objet bool ne peut prendre que deux états : soit True soit False."
   ]
  },
  {
   "cell_type": "code",
   "execution_count": 175,
   "id": "5506ff3a",
   "metadata": {},
   "outputs": [
    {
     "data": {
      "text/plain": [
       "True"
      ]
     },
     "execution_count": 175,
     "metadata": {},
     "output_type": "execute_result"
    }
   ],
   "source": [
    "result = (4 < 5)\n",
    "result"
   ]
  },
  {
   "cell_type": "code",
   "execution_count": 176,
   "id": "38779842",
   "metadata": {},
   "outputs": [
    {
     "data": {
      "text/plain": [
       "bool"
      ]
     },
     "execution_count": 176,
     "metadata": {},
     "output_type": "execute_result"
    }
   ],
   "source": [
    "type(result)"
   ]
  },
  {
   "cell_type": "markdown",
   "id": "9fd3545b",
   "metadata": {},
   "source": [
    "Il faut bien remarquer que une valeur bool comme bien par une lettre majuscule ce qui peut différer des autres langages de programmation. Par exemple en R, True -> TRUE et Fasle -> FALSE\n",
    "\n",
    "\n",
    "Notons qu'on peut aussi utiliser le constructeur bool pour créer un objet booléen en Python. Appliqué sur un type numérique, ce constructeur renvoie toujours True si le nombre envoyé en paramètre est différent de 0. Par contre, sur une chaine bool renvoie toujours True sauf pour la chaine vide \"\". Enfin, bool appliqué à None est toujours False."
   ]
  },
  {
   "cell_type": "code",
   "execution_count": 177,
   "id": "19ba6f0a",
   "metadata": {},
   "outputs": [
    {
     "data": {
      "text/plain": [
       "True"
      ]
     },
     "execution_count": 177,
     "metadata": {},
     "output_type": "execute_result"
    }
   ],
   "source": [
    "bool(2014)"
   ]
  },
  {
   "cell_type": "code",
   "execution_count": 178,
   "id": "71898571",
   "metadata": {},
   "outputs": [
    {
     "data": {
      "text/plain": [
       "True"
      ]
     },
     "execution_count": 178,
     "metadata": {},
     "output_type": "execute_result"
    }
   ],
   "source": [
    "bool(-1)"
   ]
  },
  {
   "cell_type": "code",
   "execution_count": 179,
   "id": "9233c875",
   "metadata": {},
   "outputs": [
    {
     "data": {
      "text/plain": [
       "False"
      ]
     },
     "execution_count": 179,
     "metadata": {},
     "output_type": "execute_result"
    }
   ],
   "source": [
    "bool(0)"
   ]
  },
  {
   "cell_type": "code",
   "execution_count": 180,
   "id": "f97615ad",
   "metadata": {},
   "outputs": [
    {
     "data": {
      "text/plain": [
       "True"
      ]
     },
     "execution_count": 180,
     "metadata": {},
     "output_type": "execute_result"
    }
   ],
   "source": [
    "bool(\"abc\")"
   ]
  },
  {
   "cell_type": "code",
   "execution_count": 181,
   "id": "64551d1d",
   "metadata": {},
   "outputs": [
    {
     "data": {
      "text/plain": [
       "False"
      ]
     },
     "execution_count": 181,
     "metadata": {},
     "output_type": "execute_result"
    }
   ],
   "source": [
    "bool(\"\")"
   ]
  },
  {
   "cell_type": "code",
   "execution_count": 182,
   "id": "2184a5d2",
   "metadata": {},
   "outputs": [
    {
     "data": {
      "text/plain": [
       "False"
      ]
     },
     "execution_count": 182,
     "metadata": {},
     "output_type": "execute_result"
    }
   ],
   "source": [
    "bool(None)"
   ]
  },
  {
   "cell_type": "markdown",
   "id": "7a806b4a",
   "metadata": {},
   "source": [
    "Recaptitulons sur les types d'objet simples en Python : "
   ]
  },
  {
   "cell_type": "code",
   "execution_count": 192,
   "id": "9e3a9fca",
   "metadata": {},
   "outputs": [
    {
     "data": {
      "text/html": [
       "<div>\n",
       "<style scoped>\n",
       "    .dataframe tbody tr th:only-of-type {\n",
       "        vertical-align: middle;\n",
       "    }\n",
       "\n",
       "    .dataframe tbody tr th {\n",
       "        vertical-align: top;\n",
       "    }\n",
       "\n",
       "    .dataframe thead th {\n",
       "        text-align: right;\n",
       "    }\n",
       "</style>\n",
       "<table border=\"1\" class=\"dataframe\">\n",
       "  <thead>\n",
       "    <tr style=\"text-align: right;\">\n",
       "      <th></th>\n",
       "      <th>Type d'objet</th>\n",
       "      <th>Description</th>\n",
       "      <th>Constructeur</th>\n",
       "    </tr>\n",
       "  </thead>\n",
       "  <tbody>\n",
       "    <tr>\n",
       "      <th>0</th>\n",
       "      <td>int</td>\n",
       "      <td>Nombres entiers courts ou longs</td>\n",
       "      <td>int()</td>\n",
       "    </tr>\n",
       "    <tr>\n",
       "      <th>1</th>\n",
       "      <td>float</td>\n",
       "      <td>Nombres à virgules</td>\n",
       "      <td>float()</td>\n",
       "    </tr>\n",
       "    <tr>\n",
       "      <th>2</th>\n",
       "      <td>complex</td>\n",
       "      <td>Nombres complexes</td>\n",
       "      <td>complex()</td>\n",
       "    </tr>\n",
       "    <tr>\n",
       "      <th>3</th>\n",
       "      <td>str</td>\n",
       "      <td>Etats booléens</td>\n",
       "      <td>bool()</td>\n",
       "    </tr>\n",
       "    <tr>\n",
       "      <th>4</th>\n",
       "      <td>bool</td>\n",
       "      <td>Chaines de caractères</td>\n",
       "      <td>str()</td>\n",
       "    </tr>\n",
       "  </tbody>\n",
       "</table>\n",
       "</div>"
      ],
      "text/plain": [
       "  Type d'objet                      Description Constructeur\n",
       "0          int  Nombres entiers courts ou longs        int()\n",
       "1        float               Nombres à virgules      float()\n",
       "2      complex                Nombres complexes    complex()\n",
       "3          str                   Etats booléens       bool()\n",
       "4         bool            Chaines de caractères        str()"
      ]
     },
     "execution_count": 192,
     "metadata": {},
     "output_type": "execute_result"
    }
   ],
   "source": [
    "import pandas as pd\n",
    "\n",
    "data = {\"Type d'objet\" : [\"int\", \"float\", \"complex\", \"str\", \"bool\"] , \n",
    "        'Description' : [\"Nombres entiers courts ou longs\", \"Nombres à virgules\", \"Nombres complexes\", \"Etats booléens\", \"Chaines de caractères\"], \n",
    "        'Constructeur' : [\"int()\", \"float()\", \"complex()\", \"bool()\", \"str()\"]}\n",
    "\n",
    "pd.DataFrame(data)"
   ]
  },
  {
   "cell_type": "markdown",
   "id": "c30c1819",
   "metadata": {},
   "source": [
    "## Les types built-in de Python : les types composés ou conteneurs ou itérables ou types de données"
   ]
  },
  {
   "cell_type": "markdown",
   "id": "b9f0331b",
   "metadata": {},
   "source": [
    "Les différents types que nous venons d'étudier sont les 5 types d'objets canoniques de Python. Avec ces types, on en construit des types plus élaborés pour diverses raisons. Les types que nous construisons à partir des types simples ou de bases sont appélés des types conteneurs ou des structures de données. Python en contient un certain nombre, mais il existe également des packages hors Python qui permettent d'en ajouter d'autre types conteneurs très utiles : on en a déjà utilisé un - Pandas !\n",
    "\n",
    "Par définition, un type composé est un type itérable, c'est-à-dire qu'on peut parcourir ses éléments au travers d'une boucle. Mais, lorsqu'on dispose d'un type composé, on cherche, en plus, à savoir s'il est modifiable(mutable) ou sujette à extraction de ses éléments(indexation ou sliceable)."
   ]
  },
  {
   "cell_type": "markdown",
   "id": "0af994ce",
   "metadata": {},
   "source": [
    "#### list"
   ]
  },
  {
   "cell_type": "markdown",
   "id": "e25b9732",
   "metadata": {},
   "source": [
    "Le premier type que nous étudierons est très populaire de la communauté Python. C'est le type list. C'est un type qui permet de stocker différents objets, de même types ou non, suivant un ordre bien spécifique et modifiable formant ainsi une liste d'objets.\n",
    "\n",
    "\n",
    "Une liste est : itérable, mutable, indexable/sliceable est ses valeurs sont positionnées suivant des indexes bien ordonnés.\n",
    "\n",
    "\n",
    "Voici par exemple une liste contenant l'âge, le nom, la taille et le statut droitier ou pas d'une personne :"
   ]
  },
  {
   "cell_type": "code",
   "execution_count": 232,
   "id": "226638a4",
   "metadata": {},
   "outputs": [
    {
     "data": {
      "text/plain": [
       "[24, 'ESSOH', 1.8, True]"
      ]
     },
     "execution_count": 232,
     "metadata": {},
     "output_type": "execute_result"
    }
   ],
   "source": [
    "L = [24, \"ESSOH\", 1.80, True]\n",
    "L"
   ]
  },
  {
   "cell_type": "code",
   "execution_count": 269,
   "id": "f5c467d9",
   "metadata": {},
   "outputs": [
    {
     "data": {
      "text/plain": [
       "list"
      ]
     },
     "execution_count": 269,
     "metadata": {},
     "output_type": "execute_result"
    }
   ],
   "source": [
    "type(L)"
   ]
  },
  {
   "cell_type": "markdown",
   "id": "922cf6aa",
   "metadata": {},
   "source": [
    "Voci une autre liste contenant les nombres premiers compris entre 0 et 10 :"
   ]
  },
  {
   "cell_type": "code",
   "execution_count": 233,
   "id": "91e203a2",
   "metadata": {},
   "outputs": [
    {
     "data": {
      "text/plain": [
       "[2, 3, 5, 7]"
      ]
     },
     "execution_count": 233,
     "metadata": {},
     "output_type": "execute_result"
    }
   ],
   "source": [
    "P = [2, 3, 5, 7]\n",
    "P"
   ]
  },
  {
   "cell_type": "markdown",
   "id": "c705418d",
   "metadata": {},
   "source": [
    "On peut mesure la longueur de n'importe quel objet itérable avec la fonction len. Celle-ci renvoie le nombre d'objets (par abus éléments) que contient l'objet conteneur. Par exemple la liste L contient 4 objets :"
   ]
  },
  {
   "cell_type": "code",
   "execution_count": 250,
   "id": "fa4bd4e9",
   "metadata": {},
   "outputs": [
    {
     "data": {
      "text/plain": [
       "4"
      ]
     },
     "execution_count": 250,
     "metadata": {},
     "output_type": "execute_result"
    }
   ],
   "source": [
    "len(L)"
   ]
  },
  {
   "cell_type": "markdown",
   "id": "14d05d68",
   "metadata": {},
   "source": [
    "Voyons quelques méthodes que l'on pourrait appliquer sur une liste :"
   ]
  },
  {
   "cell_type": "code",
   "execution_count": 234,
   "id": "c6188a03",
   "metadata": {},
   "outputs": [
    {
     "data": {
      "text/plain": [
       "[2, 3, 5, 7, 11]"
      ]
     },
     "execution_count": 234,
     "metadata": {},
     "output_type": "execute_result"
    }
   ],
   "source": [
    "#ajouter un élément à une liste\n",
    "P.append(11)\n",
    "P"
   ]
  },
  {
   "cell_type": "code",
   "execution_count": 235,
   "id": "2ba80d0a",
   "metadata": {},
   "outputs": [
    {
     "data": {
      "text/plain": [
       "[11, 7, 5, 3, 2]"
      ]
     },
     "execution_count": 235,
     "metadata": {},
     "output_type": "execute_result"
    }
   ],
   "source": [
    "#renverser l'ordre des éléments d'une liste\n",
    "P.reverse()\n",
    "P"
   ]
  },
  {
   "cell_type": "code",
   "execution_count": 236,
   "id": "d275225c",
   "metadata": {},
   "outputs": [
    {
     "data": {
      "text/plain": [
       "[2, 3, 5, 7, 11]"
      ]
     },
     "execution_count": 236,
     "metadata": {},
     "output_type": "execute_result"
    }
   ],
   "source": [
    "#ordonner les valeurs d'une liste\n",
    "P.sort()\n",
    "P"
   ]
  },
  {
   "cell_type": "markdown",
   "id": "bb24ac7c",
   "metadata": {},
   "source": [
    "Il existe tout comme les chaines de caractères des stratégies de concaténation de deux listes avec l'opération d'addition et de multiplication : "
   ]
  },
  {
   "cell_type": "code",
   "execution_count": 237,
   "id": "0d4c38f2",
   "metadata": {},
   "outputs": [
    {
     "data": {
      "text/plain": [
       "[24, 'ESSOH', 1.8, True, 2, 3, 5, 7, 11]"
      ]
     },
     "execution_count": 237,
     "metadata": {},
     "output_type": "execute_result"
    }
   ],
   "source": [
    "#concatener deux listes\n",
    "L + P"
   ]
  },
  {
   "cell_type": "code",
   "execution_count": 238,
   "id": "964a50be",
   "metadata": {},
   "outputs": [
    {
     "data": {
      "text/plain": [
       "[2, 3, 5, 7, 11, 2, 3, 5, 7, 11]"
      ]
     },
     "execution_count": 238,
     "metadata": {},
     "output_type": "execute_result"
    }
   ],
   "source": [
    "#démultiplier les éléments d'une liste\n",
    "2 * P"
   ]
  },
  {
   "cell_type": "markdown",
   "id": "2614c582",
   "metadata": {},
   "source": [
    "Insistons une fois de plus qu'une liste est un conteneur d'objets et peut donc contenir tout type d'objet. On peut même contruire des listes de listes ou des listes d'autres choses. En voici des exemples :"
   ]
  },
  {
   "cell_type": "code",
   "execution_count": 239,
   "id": "c62b5ca3",
   "metadata": {},
   "outputs": [
    {
     "data": {
      "text/plain": [
       "[1, 2, [3, 4, 5], [[2, 3, 4], 6]]"
      ]
     },
     "execution_count": 239,
     "metadata": {},
     "output_type": "execute_result"
    }
   ],
   "source": [
    "#un exemple de liste de liste\n",
    "LL = [1, 2, [3,4,5], [[2,3,4], 6]]\n",
    "LL"
   ]
  },
  {
   "cell_type": "code",
   "execution_count": 240,
   "id": "279fccda",
   "metadata": {},
   "outputs": [
    {
     "data": {
      "text/plain": [
       "[  Type d'objet                      Description Constructeur\n",
       " 0          int  Nombres entiers courts ou longs        int()\n",
       " 1        float               Nombres à virgules      float()\n",
       " 2      complex                Nombres complexes    complex()\n",
       " 3          str                   Etats booléens       bool()\n",
       " 4         bool            Chaines de caractères        str(),\n",
       " array([[   1,    2,    3],\n",
       "        [   4,    5, 1000],\n",
       "        [   7,    8,    9]])]"
      ]
     },
     "execution_count": 240,
     "metadata": {},
     "output_type": "execute_result"
    }
   ],
   "source": [
    "#un exemple de liste contenant un data frame et un array numpy\n",
    "LLL = [pd.DataFrame(data) , M]\n",
    "LLL"
   ]
  },
  {
   "cell_type": "markdown",
   "id": "7b75a82b",
   "metadata": {},
   "source": [
    "Abordons à présent un point très important sur les objets itérables tels qu'une liste : l'indexinfg et le slicing. L'indexing et le slicing, c'est la capacité de sélectionner  des sous-éléments d'un objet Python itérable. On peut ainsi en extraire un seul élément, deux ou même des multitudes de sous éléments. \n",
    "\n",
    "Pour sélectionner on utiliser les crochet : \n",
    "- [numero_d_index] pour l'indexing\n",
    "- [numero_index_debut : numero_index_fin] pour le sclicing"
   ]
  },
  {
   "cell_type": "code",
   "execution_count": 241,
   "id": "b584371a",
   "metadata": {},
   "outputs": [
    {
     "name": "stdout",
     "output_type": "stream",
     "text": [
      "[24, 'ESSOH', 1.8, True]\n"
     ]
    },
    {
     "data": {
      "text/plain": [
       "'ESSOH'"
      ]
     },
     "execution_count": 241,
     "metadata": {},
     "output_type": "execute_result"
    }
   ],
   "source": [
    "#sélection d'un élément à un emplacement d'indice bien spécifique\n",
    "#c'est l'indexing\n",
    "print(L)\n",
    "L[1]"
   ]
  },
  {
   "cell_type": "markdown",
   "id": "81916bc2",
   "metadata": {},
   "source": [
    "Attention l'indexation commence à partir de ZERO de la gauche vers la droite de MOINS UN de la droite vers la gauche."
   ]
  },
  {
   "cell_type": "code",
   "execution_count": 242,
   "id": "13e6b511",
   "metadata": {},
   "outputs": [
    {
     "data": {
      "text/plain": [
       "True"
      ]
     },
     "execution_count": 242,
     "metadata": {},
     "output_type": "execute_result"
    }
   ],
   "source": [
    "#un autre exemple d'indexing mais de la droite vers la gauche\n",
    "L[-1]"
   ]
  },
  {
   "cell_type": "code",
   "execution_count": 243,
   "id": "6237acb9",
   "metadata": {},
   "outputs": [
    {
     "data": {
      "text/plain": [
       "[1, 2, [3, 4, 5], [[2, 3, 4], 6]]"
      ]
     },
     "execution_count": 243,
     "metadata": {},
     "output_type": "execute_result"
    }
   ],
   "source": [
    "#séléction multiple : c'est le slicing\n",
    "LL"
   ]
  },
  {
   "cell_type": "code",
   "execution_count": 244,
   "id": "ffcf189c",
   "metadata": {},
   "outputs": [
    {
     "data": {
      "text/plain": [
       "[2, [3, 4, 5]]"
      ]
     },
     "execution_count": 244,
     "metadata": {},
     "output_type": "execute_result"
    }
   ],
   "source": [
    "#slicing 1\n",
    "LL[1:3]"
   ]
  },
  {
   "cell_type": "code",
   "execution_count": 245,
   "id": "65f59735",
   "metadata": {},
   "outputs": [
    {
     "data": {
      "text/plain": [
       "[1, 2, [3, 4, 5]]"
      ]
     },
     "execution_count": 245,
     "metadata": {},
     "output_type": "execute_result"
    }
   ],
   "source": [
    "#slicing 2\n",
    "LL[:3]"
   ]
  },
  {
   "cell_type": "code",
   "execution_count": 246,
   "id": "402b4426",
   "metadata": {},
   "outputs": [
    {
     "data": {
      "text/plain": [
       "[2, [3, 4, 5]]"
      ]
     },
     "execution_count": 246,
     "metadata": {},
     "output_type": "execute_result"
    }
   ],
   "source": [
    "#slicing 3\n",
    "LL[-3:-1]"
   ]
  },
  {
   "cell_type": "code",
   "execution_count": 247,
   "id": "be5b98f8",
   "metadata": {},
   "outputs": [
    {
     "data": {
      "text/plain": [
       "[1, 2]"
      ]
     },
     "execution_count": 247,
     "metadata": {},
     "output_type": "execute_result"
    }
   ],
   "source": [
    "#slicing 4\n",
    "LL[:-2]"
   ]
  },
  {
   "cell_type": "code",
   "execution_count": 248,
   "id": "1ba0554b",
   "metadata": {},
   "outputs": [
    {
     "data": {
      "text/plain": [
       "6"
      ]
     },
     "execution_count": 248,
     "metadata": {},
     "output_type": "execute_result"
    }
   ],
   "source": [
    "#slicing sur une liste d'objet itérable\n",
    "LL[3][1]"
   ]
  },
  {
   "cell_type": "markdown",
   "id": "e3625eb5",
   "metadata": {},
   "source": [
    "Pour bien comprendre l'indexation sur objet itérable il faut juste garder cette image à l'esprit !"
   ]
  },
  {
   "cell_type": "code",
   "execution_count": 229,
   "id": "c84a7a4b",
   "metadata": {},
   "outputs": [
    {
     "data": {
      "text/plain": [
       "[2, 3, 5, 7, 11]"
      ]
     },
     "execution_count": 229,
     "metadata": {},
     "output_type": "execute_result"
    }
   ],
   "source": [
    "liste = [2, 3, 5, 7, 11]\n",
    "liste"
   ]
  },
  {
   "cell_type": "markdown",
   "id": "9bd4f56e",
   "metadata": {},
   "source": [
    "<img src = \"list_indexing.png\">"
   ]
  },
  {
   "cell_type": "markdown",
   "id": "7889b6d3",
   "metadata": {},
   "source": [
    "Les indexs positifs sont au dessus des emplacements de valeurs et les indexs négatifis en dessous."
   ]
  },
  {
   "cell_type": "code",
   "execution_count": 249,
   "id": "a3a07396",
   "metadata": {},
   "outputs": [
    {
     "data": {
      "text/plain": [
       "[24, 'ESSOH', 1.8, True]"
      ]
     },
     "execution_count": 249,
     "metadata": {},
     "output_type": "execute_result"
    }
   ],
   "source": [
    "#sélection de tous les éléments\n",
    "L[:] #équivalent à L[0:len(L)]"
   ]
  },
  {
   "cell_type": "markdown",
   "id": "68984676",
   "metadata": {},
   "source": [
    "En fait, quand on ne sélection pas d'index de début dans un slicing, Python considère l'index de début c'est-à-dire l'index 0 et quand on ne précise pas l'index de fin Python considère l'index de fin c'est-à-dire l'index len(delaliste)"
   ]
  },
  {
   "cell_type": "markdown",
   "id": "d71c383b",
   "metadata": {},
   "source": [
    "Pour terminer sur les listes, notons qu'un slicing complet exige la précision d'un troisième argument, c'est le pas de sélection :  liste[start_index : end_index : step_size]."
   ]
  },
  {
   "cell_type": "code",
   "execution_count": 253,
   "id": "1d8bdf33",
   "metadata": {},
   "outputs": [
    {
     "data": {
      "text/plain": [
       "[2, 3, 5, 7, 11, 2, 3, 5, 7, 11, 2, 3, 5, 7, 11]"
      ]
     },
     "execution_count": 253,
     "metadata": {},
     "output_type": "execute_result"
    }
   ],
   "source": [
    "PP = 3 * P\n",
    "PP"
   ]
  },
  {
   "cell_type": "code",
   "execution_count": 256,
   "id": "56b8d179",
   "metadata": {},
   "outputs": [
    {
     "data": {
      "text/plain": [
       "[3, 7, 2, 5]"
      ]
     },
     "execution_count": 256,
     "metadata": {},
     "output_type": "execute_result"
    }
   ],
   "source": [
    "PP[1:8:2]"
   ]
  },
  {
   "cell_type": "markdown",
   "id": "5b722e01",
   "metadata": {},
   "source": [
    "Mais attention le pas de sélection peut même être négatif !"
   ]
  },
  {
   "cell_type": "code",
   "execution_count": 261,
   "id": "bda511ce",
   "metadata": {},
   "outputs": [
    {
     "data": {
      "text/plain": [
       "[2, 3, 5, 7, 11, 2, 3, 5]"
      ]
     },
     "execution_count": 261,
     "metadata": {},
     "output_type": "execute_result"
    }
   ],
   "source": [
    "PP[:-7:1]"
   ]
  },
  {
   "cell_type": "code",
   "execution_count": 262,
   "id": "dd976329",
   "metadata": {},
   "outputs": [
    {
     "data": {
      "text/plain": [
       "[11, 7, 5, 3, 2, 11]"
      ]
     },
     "execution_count": 262,
     "metadata": {},
     "output_type": "execute_result"
    }
   ],
   "source": [
    "PP[:-7:-1] #un pas négatif permet de renverser une sélection\n",
    "#ce code signifie : séléctionne sélection jusqu'à l'index -7 mais\n",
    "#en retourant la liste\n",
    "\n",
    "#alors que le code juste dessus de lui veut dire : \n",
    "#sélectionne jusqu'à l'index -7 dans l'ordre normal de la liste."
   ]
  },
  {
   "cell_type": "markdown",
   "id": "d2374398",
   "metadata": {},
   "source": [
    "L'utilité de l'indexing ou du slicing, c'est de permettre de modifique une valeur d'un objet itérable (assignation ou affectation par condition d'index). C'est en cela qu'on dit qu'une liste est modifiable !"
   ]
  },
  {
   "cell_type": "code",
   "execution_count": 266,
   "id": "1c052095",
   "metadata": {},
   "outputs": [
    {
     "data": {
      "text/plain": [
       "[24, 'EPHREM', 1.8, True]"
      ]
     },
     "execution_count": 266,
     "metadata": {},
     "output_type": "execute_result"
    }
   ],
   "source": [
    "L"
   ]
  },
  {
   "cell_type": "code",
   "execution_count": 267,
   "id": "bfa9d8de",
   "metadata": {},
   "outputs": [],
   "source": [
    "L[1] = \"EPHREM\""
   ]
  },
  {
   "cell_type": "code",
   "execution_count": 268,
   "id": "3be761f0",
   "metadata": {},
   "outputs": [
    {
     "data": {
      "text/plain": [
       "[24, 'EPHREM', 1.8, True]"
      ]
     },
     "execution_count": 268,
     "metadata": {},
     "output_type": "execute_result"
    }
   ],
   "source": [
    "L"
   ]
  },
  {
   "cell_type": "markdown",
   "id": "be934cde",
   "metadata": {},
   "source": [
    "#### tuple"
   ]
  },
  {
   "cell_type": "markdown",
   "id": "cb16161f",
   "metadata": {},
   "source": [
    "L'objet list est le conteneur le plus utilisé. Cependant il en existe d'autres tels que le tuple par exemple. Le type conteneur tuple permet de créer un objet contenant d'autres objets qui est itérable, indexable et sliceable mais qui n'est pas modifiable. Les éléments d'un tuple reste tel sans changer au cours d'un code. L'utilité des tuples se retrouvent dans les affectations multiples ou les renvoies mutiples d'une fonction. Un tuple n'a que très peu de méthodes (seulement 2 :: count & index)"
   ]
  },
  {
   "cell_type": "code",
   "execution_count": 270,
   "id": "8f932745",
   "metadata": {},
   "outputs": [
    {
     "data": {
      "text/plain": [
       "(1, 2, 3)"
      ]
     },
     "execution_count": 270,
     "metadata": {},
     "output_type": "execute_result"
    }
   ],
   "source": [
    "#création d'un tuple\n",
    "T = (1, 2, 3)\n",
    "T"
   ]
  },
  {
   "cell_type": "code",
   "execution_count": 271,
   "id": "41fca258",
   "metadata": {},
   "outputs": [
    {
     "data": {
      "text/plain": [
       "tuple"
      ]
     },
     "execution_count": 271,
     "metadata": {},
     "output_type": "execute_result"
    }
   ],
   "source": [
    "type(T)"
   ]
  },
  {
   "cell_type": "code",
   "execution_count": 273,
   "id": "124ee562",
   "metadata": {},
   "outputs": [
    {
     "name": "stdout",
     "output_type": "stream",
     "text": [
      "(1, 2, 3)\n",
      "<class 'tuple'>\n"
     ]
    }
   ],
   "source": [
    "#on peut même définir un tuple sans parenthèses \n",
    "T = 1, 2, 3\n",
    "print(T)\n",
    "print(type(T))"
   ]
  },
  {
   "cell_type": "code",
   "execution_count": 274,
   "id": "2082ceda",
   "metadata": {},
   "outputs": [
    {
     "data": {
      "text/plain": [
       "3"
      ]
     },
     "execution_count": 274,
     "metadata": {},
     "output_type": "execute_result"
    }
   ],
   "source": [
    "#mesurons la longueur d'un tuple, c'est possible car objet itérable\n",
    "len(T)"
   ]
  },
  {
   "cell_type": "code",
   "execution_count": 276,
   "id": "16172c74",
   "metadata": {},
   "outputs": [
    {
     "name": "stdout",
     "output_type": "stream",
     "text": [
      "Indexing :  2\n",
      "Slicing :  (1, 2)\n"
     ]
    }
   ],
   "source": [
    "#l'indexation ou le slicing des tuples se fait tout comme les lists\n",
    "print(\"Indexing : \", T[1])\n",
    "print(\"Slicing : \", T[:2])"
   ]
  },
  {
   "cell_type": "code",
   "execution_count": 277,
   "id": "02f0f778",
   "metadata": {},
   "outputs": [
    {
     "ename": "TypeError",
     "evalue": "'tuple' object does not support item assignment",
     "output_type": "error",
     "traceback": [
      "\u001b[0;31m---------------------------------------------------------------------------\u001b[0m",
      "\u001b[0;31mTypeError\u001b[0m                                 Traceback (most recent call last)",
      "\u001b[0;32m/tmp/ipykernel_5045/2728963996.py\u001b[0m in \u001b[0;36m<module>\u001b[0;34m\u001b[0m\n\u001b[1;32m      1\u001b[0m \u001b[0;31m#voyons à présent pouruqoi les tuples ne sont pas modifiables\u001b[0m\u001b[0;34m\u001b[0m\u001b[0;34m\u001b[0m\u001b[0;34m\u001b[0m\u001b[0m\n\u001b[0;32m----> 2\u001b[0;31m \u001b[0mT\u001b[0m\u001b[0;34m[\u001b[0m\u001b[0;36m1\u001b[0m\u001b[0;34m]\u001b[0m \u001b[0;34m=\u001b[0m \u001b[0;36m4\u001b[0m\u001b[0;34m\u001b[0m\u001b[0;34m\u001b[0m\u001b[0m\n\u001b[0m",
      "\u001b[0;31mTypeError\u001b[0m: 'tuple' object does not support item assignment"
     ]
    }
   ],
   "source": [
    "#voyons à présent pouruqoi les tuples ne sont pas modifiables\n",
    "T[1] = 4"
   ]
  },
  {
   "cell_type": "code",
   "execution_count": 285,
   "id": "c3866d2b",
   "metadata": {},
   "outputs": [],
   "source": [
    "#comme spécifié auparavant, les tuples servent dans l'assignation \n",
    "#multiplde d'objets\n",
    "(x, y), (z, a) = (10, 23), (20, 18)\n",
    "print(x, y, z, a)"
   ]
  },
  {
   "cell_type": "code",
   "execution_count": 288,
   "id": "302e45ac",
   "metadata": {},
   "outputs": [
    {
     "data": {
      "text/plain": [
       "(1, 8)"
      ]
     },
     "execution_count": 288,
     "metadata": {},
     "output_type": "execute_result"
    }
   ],
   "source": [
    "#cependant l'usage le plus répandu c'est le renvoie multiple\n",
    "x = 0.125\n",
    "x.as_integer_ratio()"
   ]
  },
  {
   "cell_type": "code",
   "execution_count": 292,
   "id": "d493c276",
   "metadata": {},
   "outputs": [
    {
     "data": {
      "text/plain": [
       "(15, 50)"
      ]
     },
     "execution_count": 292,
     "metadata": {},
     "output_type": "execute_result"
    }
   ],
   "source": [
    "#un autre exemple\n",
    "def som_prod(a,b):\n",
    "    \"\"\"\n",
    "    Calcul de la somme et du produit de deux nombres\n",
    "    \"\"\"\n",
    "    som = a+b \n",
    "    prod = a*b \n",
    "    return (som, prod)\n",
    "\n",
    "som_prod(5, 10)"
   ]
  },
  {
   "cell_type": "markdown",
   "id": "d8739069",
   "metadata": {},
   "source": [
    "#### dict"
   ]
  },
  {
   "cell_type": "markdown",
   "id": "c008881e",
   "metadata": {},
   "source": [
    "Voyons à présent un des types conteneurs aussi populaire que les listes : ce sont le dictionnaire. En fait le dictionnaire en Python c'est un mappage clé-valeurs. A des clés bien spécifiques Python associe des valeurs qui ne sont que des objets d'un certain type. Formellement, une clé est une chaine de charactère permettant d'identifier les valeurs qui lui sont associés. De fait, sur un dictionnaire l'indexation est quelque peut améliorée, car il suffit de préciser la clé comme indexation et Python nous renvoie les valeurs qui lui sont mappées. Le dictionnaire est la base de l'analyse de données en Python. Il permet de construire des types d'objets conteneur plus élaborés tels que les objets Pandas. Avec le dictionnaire, on peut déjà présenter une structure de donnée 2D individus x colonnes."
   ]
  },
  {
   "cell_type": "code",
   "execution_count": 295,
   "id": "7e24740d",
   "metadata": {},
   "outputs": [
    {
     "data": {
      "text/plain": [
       "{'entier': 12,\n",
       " 'réel': 3.14,\n",
       " 'complex': (2+2j),\n",
       " 'liste': [1, 2, [3, 4, (2, 2)]]}"
      ]
     },
     "execution_count": 295,
     "metadata": {},
     "output_type": "execute_result"
    }
   ],
   "source": [
    "#création d'un dictionnaire \n",
    "dico = {\"entier\" : 12, \"réel\" : 3.14, \"complex\" : 2 + 2j, \n",
    "        \"liste\" : [1, 2, [3,4,(2,2,)]]}\n",
    "\n",
    "dico"
   ]
  },
  {
   "cell_type": "code",
   "execution_count": 296,
   "id": "5d9e2612",
   "metadata": {},
   "outputs": [
    {
     "data": {
      "text/plain": [
       "dict"
      ]
     },
     "execution_count": 296,
     "metadata": {},
     "output_type": "execute_result"
    }
   ],
   "source": [
    "type(dico)"
   ]
  },
  {
   "cell_type": "code",
   "execution_count": 297,
   "id": "2c2179ce",
   "metadata": {},
   "outputs": [
    {
     "data": {
      "text/plain": [
       "[1, 2, [3, 4, (2, 2)]]"
      ]
     },
     "execution_count": 297,
     "metadata": {},
     "output_type": "execute_result"
    }
   ],
   "source": [
    "#indexation d'un dictionnaire à partir des clés\n",
    "dico[\"liste\"]"
   ]
  },
  {
   "cell_type": "code",
   "execution_count": 299,
   "id": "ef3fa623",
   "metadata": {},
   "outputs": [
    {
     "data": {
      "text/plain": [
       "{'entier': 12, 'réel': 3.14, 'complex': (2+2j), 'liste': [1, 2, [3, 4, 5]]}"
      ]
     },
     "execution_count": 299,
     "metadata": {},
     "output_type": "execute_result"
    }
   ],
   "source": [
    "#modification de valeur après une indexation\n",
    "dico[\"liste\"][2][2] = 5\n",
    "dico"
   ]
  },
  {
   "cell_type": "markdown",
   "id": "8ca9f10c",
   "metadata": {},
   "source": [
    "Un objet de type dict possède des attributs et méthodes intéressantes parmi lesquels les deux plus importantes sont keys() et items(). Le premier retourne toutes les clés du dicitonnaire sous la forme d'une liste alors que la seconde méthode retoure les valeurs de ces clés"
   ]
  },
  {
   "cell_type": "code",
   "execution_count": 307,
   "id": "0892bc2c",
   "metadata": {},
   "outputs": [
    {
     "data": {
      "text/plain": [
       "dict_keys(['clé-1', 'clé-2', 'clé-3', 'clé-4'])"
      ]
     },
     "execution_count": 307,
     "metadata": {},
     "output_type": "execute_result"
    }
   ],
   "source": [
    "dico.keys()"
   ]
  },
  {
   "cell_type": "code",
   "execution_count": 308,
   "id": "c3794386",
   "metadata": {},
   "outputs": [
    {
     "data": {
      "text/plain": [
       "dict_items([('clé-1', ['ESSOH', 'KINDO', 'BICABA', 'BAMBA']), ('clé-2', ['Lasme', 'Hamade', 'Dominique', 'Ladji']), ('clé-3', [25, 25, 24, 29]), ('clé-4', [1.8, 1.82, 1.84, 1.72])])"
      ]
     },
     "execution_count": 308,
     "metadata": {},
     "output_type": "execute_result"
    }
   ],
   "source": [
    "dico.items()"
   ]
  },
  {
   "cell_type": "code",
   "execution_count": 305,
   "id": "35a1f9d3",
   "metadata": {},
   "outputs": [
    {
     "data": {
      "text/plain": [
       "{'clé-1': ['ESSOH', 'KINDO', 'BICABA', 'BAMBA'],\n",
       " 'clé-2': ['Lasme', 'Hamade', 'Dominique', 'Ladji'],\n",
       " 'clé-3': [25, 25, 24, 29],\n",
       " 'clé-4': [1.8, 1.82, 1.84, 1.72]}"
      ]
     },
     "execution_count": 305,
     "metadata": {},
     "output_type": "execute_result"
    }
   ],
   "source": [
    "#création d'une table 2D à l'aide d'un dictionnnaire\n",
    "dico = {\"clé-1\" : [\"ESSOH\", \"KINDO\", \"BICABA\", \"BAMBA\"],\n",
    "       \"clé-2\" : [\"Lasme\", \"Hamade\", \"Dominique\", \"Ladji\"],\n",
    "       \"clé-3\" : [25, 25, 24, 29],\n",
    "       \"clé-4\" : [1.80, 1.82, 1.84, 1.72]}\n",
    "\n",
    "dico"
   ]
  },
  {
   "cell_type": "code",
   "execution_count": 306,
   "id": "e7c570fa",
   "metadata": {},
   "outputs": [
    {
     "data": {
      "text/html": [
       "<div>\n",
       "<style scoped>\n",
       "    .dataframe tbody tr th:only-of-type {\n",
       "        vertical-align: middle;\n",
       "    }\n",
       "\n",
       "    .dataframe tbody tr th {\n",
       "        vertical-align: top;\n",
       "    }\n",
       "\n",
       "    .dataframe thead th {\n",
       "        text-align: right;\n",
       "    }\n",
       "</style>\n",
       "<table border=\"1\" class=\"dataframe\">\n",
       "  <thead>\n",
       "    <tr style=\"text-align: right;\">\n",
       "      <th></th>\n",
       "      <th>clé-1</th>\n",
       "      <th>clé-2</th>\n",
       "      <th>clé-3</th>\n",
       "      <th>clé-4</th>\n",
       "    </tr>\n",
       "  </thead>\n",
       "  <tbody>\n",
       "    <tr>\n",
       "      <th>0</th>\n",
       "      <td>ESSOH</td>\n",
       "      <td>Lasme</td>\n",
       "      <td>25</td>\n",
       "      <td>1.80</td>\n",
       "    </tr>\n",
       "    <tr>\n",
       "      <th>1</th>\n",
       "      <td>KINDO</td>\n",
       "      <td>Hamade</td>\n",
       "      <td>25</td>\n",
       "      <td>1.82</td>\n",
       "    </tr>\n",
       "    <tr>\n",
       "      <th>2</th>\n",
       "      <td>BICABA</td>\n",
       "      <td>Dominique</td>\n",
       "      <td>24</td>\n",
       "      <td>1.84</td>\n",
       "    </tr>\n",
       "    <tr>\n",
       "      <th>3</th>\n",
       "      <td>BAMBA</td>\n",
       "      <td>Ladji</td>\n",
       "      <td>29</td>\n",
       "      <td>1.72</td>\n",
       "    </tr>\n",
       "  </tbody>\n",
       "</table>\n",
       "</div>"
      ],
      "text/plain": [
       "    clé-1      clé-2  clé-3  clé-4\n",
       "0   ESSOH      Lasme     25   1.80\n",
       "1   KINDO     Hamade     25   1.82\n",
       "2  BICABA  Dominique     24   1.84\n",
       "3   BAMBA      Ladji     29   1.72"
      ]
     },
     "execution_count": 306,
     "metadata": {},
     "output_type": "execute_result"
    }
   ],
   "source": [
    "#transformation en table 2D\n",
    "pd.DataFrame(dico)"
   ]
  },
  {
   "cell_type": "markdown",
   "id": "77771c3d",
   "metadata": {},
   "source": [
    "#### set"
   ]
  },
  {
   "cell_type": "markdown",
   "id": "99bc7b8e",
   "metadata": {},
   "source": [
    "Le dernier type de conteneurs Python est le type set qui contient une collection d'objets non ordonées. On rappelle que l'ordonnancement fait référence au fait que chaque valeur possède un index (index ordonnée de 0 à len(objet) ou de -1 à -length(objet). De ce fait les sets sont des objets conteneurs non indexables ou sliceables. Ils sont aussi non modifiables. Attention ces caractériques font qu'un objet de type set ne peut contenir que des objets non modifiables ou mutables tels que les tuples ou les types de base. En aucun cas, l'on ne peut construire un set contenant au moins une list ou un dict parce que ces objets étant modifiables. L'utilité des set est qu'il sont très similaires à la notion d'ensemble en mathématiques : une collection d'objets. Ce fait, ils se prêtent très bien aux opérations ensemblistes mathématiques : union, intersection ..."
   ]
  },
  {
   "cell_type": "code",
   "execution_count": 323,
   "id": "10241896",
   "metadata": {},
   "outputs": [
    {
     "data": {
      "text/plain": [
       "{(2, 3), 2, 3, 5, 'b'}"
      ]
     },
     "execution_count": 323,
     "metadata": {},
     "output_type": "execute_result"
    }
   ],
   "source": [
    "#création d'un objet de type set avec les accolades\n",
    "set_example = {2, 3, 5, \"b\", (2,3)}\n",
    "set_example"
   ]
  },
  {
   "cell_type": "code",
   "execution_count": 324,
   "id": "bf12fbd2",
   "metadata": {},
   "outputs": [
    {
     "data": {
      "text/plain": [
       "set"
      ]
     },
     "execution_count": 324,
     "metadata": {},
     "output_type": "execute_result"
    }
   ],
   "source": [
    "type(set_example)"
   ]
  },
  {
   "cell_type": "code",
   "execution_count": 325,
   "id": "48a56edd",
   "metadata": {},
   "outputs": [],
   "source": [
    "#opérations ensemblistes sur les sets\n",
    "set_1 = {1, 2, 3, 4}\n",
    "set_2 = {3, 1, 10, 8, 11}"
   ]
  },
  {
   "cell_type": "code",
   "execution_count": 326,
   "id": "3620060b",
   "metadata": {},
   "outputs": [
    {
     "data": {
      "text/plain": [
       "{1, 2, 3, 4, 8, 10, 11}"
      ]
     },
     "execution_count": 326,
     "metadata": {},
     "output_type": "execute_result"
    }
   ],
   "source": [
    "#union\n",
    "set_1 | set_2"
   ]
  },
  {
   "cell_type": "code",
   "execution_count": 327,
   "id": "43a66ec8",
   "metadata": {},
   "outputs": [
    {
     "data": {
      "text/plain": [
       "{1, 3}"
      ]
     },
     "execution_count": 327,
     "metadata": {},
     "output_type": "execute_result"
    }
   ],
   "source": [
    "#intersection\n",
    "set_1 & set_2"
   ]
  },
  {
   "cell_type": "code",
   "execution_count": 328,
   "id": "78c13d65",
   "metadata": {},
   "outputs": [
    {
     "data": {
      "text/plain": [
       "{2, 4}"
      ]
     },
     "execution_count": 328,
     "metadata": {},
     "output_type": "execute_result"
    }
   ],
   "source": [
    "#différence\n",
    "set_1 - set_2"
   ]
  },
  {
   "cell_type": "code",
   "execution_count": 329,
   "id": "e56a4bf2",
   "metadata": {},
   "outputs": [
    {
     "data": {
      "text/plain": [
       "{2, 4, 8, 10, 11}"
      ]
     },
     "execution_count": 329,
     "metadata": {},
     "output_type": "execute_result"
    }
   ],
   "source": [
    "#différence symétrique\n",
    "set_1 ^ set_2"
   ]
  },
  {
   "cell_type": "markdown",
   "id": "0fd299e5",
   "metadata": {},
   "source": [
    "Les sets ne sont pas indexables et possèdent pas mal de méthodes."
   ]
  },
  {
   "cell_type": "code",
   "execution_count": 330,
   "id": "ae932275",
   "metadata": {},
   "outputs": [
    {
     "ename": "TypeError",
     "evalue": "'set' object is not subscriptable",
     "output_type": "error",
     "traceback": [
      "\u001b[0;31m---------------------------------------------------------------------------\u001b[0m",
      "\u001b[0;31mTypeError\u001b[0m                                 Traceback (most recent call last)",
      "\u001b[0;32m/tmp/ipykernel_5045/1458747713.py\u001b[0m in \u001b[0;36m<module>\u001b[0;34m\u001b[0m\n\u001b[0;32m----> 1\u001b[0;31m \u001b[0mset_example\u001b[0m\u001b[0;34m[\u001b[0m\u001b[0;36m1\u001b[0m\u001b[0;34m]\u001b[0m\u001b[0;34m\u001b[0m\u001b[0;34m\u001b[0m\u001b[0m\n\u001b[0m",
      "\u001b[0;31mTypeError\u001b[0m: 'set' object is not subscriptable"
     ]
    }
   ],
   "source": [
    "set_example[1]"
   ]
  },
  {
   "cell_type": "code",
   "execution_count": 332,
   "id": "4ef5274b",
   "metadata": {},
   "outputs": [],
   "source": [
    "#supprimer tous les éléments de ce set\n",
    "set_example.clear()"
   ]
  },
  {
   "cell_type": "code",
   "execution_count": 333,
   "id": "d99327ea",
   "metadata": {},
   "outputs": [
    {
     "data": {
      "text/plain": [
       "set()"
      ]
     },
     "execution_count": 333,
     "metadata": {},
     "output_type": "execute_result"
    }
   ],
   "source": [
    "set_example"
   ]
  },
  {
   "cell_type": "markdown",
   "id": "ad0ac660",
   "metadata": {},
   "source": [
    "## Le contrôle de flux en Python"
   ]
  },
  {
   "cell_type": "markdown",
   "id": "2bf31197",
   "metadata": {},
   "source": [
    "Le contrôle de flux fait référence à l'ensemble des règles qui permettent d'éxécuter des blocs de codes, dans un langage de programmation, de manière conditionnelle et/ou répétée. En Python, de tels instructions existent : if/elif/else pour contrôler des codes conditionnellement et for/while pour exécuter des codes répétivement selon une condition ou un nombre d'itération spécifique."
   ]
  },
  {
   "cell_type": "markdown",
   "id": "8144d14f",
   "metadata": {},
   "source": [
    "### if/elif/else"
   ]
  },
  {
   "cell_type": "markdown",
   "id": "d9aecf51",
   "metadata": {},
   "source": [
    "Python utilise la syntaxe SI alors SINON comme dans presque tout langage de programmation. Cependant ce qui ajoute une touche nouvelle à Python c'est le mot clé elif qui fait référence à SINON SI et qui peut être enchaîné un nombre indéfini de condition possible."
   ]
  },
  {
   "cell_type": "code",
   "execution_count": 337,
   "id": "026f9a58",
   "metadata": {},
   "outputs": [
    {
     "name": "stdout",
     "output_type": "stream",
     "text": [
      "Quel est votre âge : ? 13\n",
      "Vous êtes adolescent\n"
     ]
    }
   ],
   "source": [
    "age = int(input(\"Quel est votre âge : ? \"))\n",
    "if age >= 18:\n",
    "    print(\"Vous êtes majeur\")\n",
    "elif age >= 12:\n",
    "    print(\"Vous êtes adolescent\")\n",
    "else:\n",
    "    print(\"Vous êtes très jeune\")"
   ]
  },
  {
   "cell_type": "markdown",
   "id": "3c94c9a3",
   "metadata": {},
   "source": [
    "### for/while"
   ]
  },
  {
   "cell_type": "markdown",
   "id": "95754241",
   "metadata": {},
   "source": [
    "En Python, il existe deux structures de boucles en Python : une structure servant à réaliser une boucle dans un nombre d'itération bien spécifique, c'est la boucle for et une structure servant à réaliser une boucle selon la validité d'une condition, c'est la boucle while."
   ]
  },
  {
   "cell_type": "code",
   "execution_count": 339,
   "id": "aac32151",
   "metadata": {},
   "outputs": [
    {
     "name": "stdout",
     "output_type": "stream",
     "text": [
      "1\n",
      "2\n",
      "3\n",
      "4\n",
      "5\n",
      "6\n",
      "7\n",
      "8\n",
      "9\n",
      "10\n"
     ]
    }
   ],
   "source": [
    "for nombre in [1, 2, 3, 4, 5, 6, 7, 8, 9, 10]:\n",
    "    print(nombre)"
   ]
  },
  {
   "cell_type": "markdown",
   "id": "66704874",
   "metadata": {},
   "source": [
    "La syntaxe d'une boucle for en Python est très intuitive. Juste après le mot clé \"for\", il faut préciser \"l'élément itérateur\" ensuite on utilise l'opérateur de test de sous-membre \"in\" et enfin spécifier \"un objet Python itérable\"."
   ]
  },
  {
   "cell_type": "code",
   "execution_count": 342,
   "id": "496a5e7d",
   "metadata": {},
   "outputs": [
    {
     "name": "stdout",
     "output_type": "stream",
     "text": [
      "0\n",
      "1\n",
      "2\n",
      "3\n",
      "4\n",
      "5\n",
      "6\n",
      "7\n",
      "8\n",
      "9\n",
      "10\n"
     ]
    }
   ],
   "source": [
    "i = 0\n",
    "while i <= 10  :\n",
    "    print(i)\n",
    "    i += 1"
   ]
  },
  {
   "cell_type": "markdown",
   "id": "e2a2fff3",
   "metadata": {},
   "source": [
    "La syntaxe de boucle while est aussi simple à comprendre. Elle fonctionne sous reserve de validité d'une condition. Ainsi, après le clé \"while\" on précise la condition de répétition. Tant que la condition reste vraie, toutes les instructions encadrées par la boucle s'exécutent."
   ]
  },
  {
   "cell_type": "markdown",
   "id": "1f110a29",
   "metadata": {},
   "source": [
    "### break/continue"
   ]
  },
  {
   "cell_type": "markdown",
   "id": "18467a9a",
   "metadata": {},
   "source": [
    "Quand on parle de boucle en Python on parle aussi de deux instructions usuelles utilisées pour modifier le déroulement normal d'une boucle quand les conditions sont réunies pour qu'elle s'éxécute. Il s'agit des instruction break et continue. \n",
    "\n",
    "- break, utilisé dans une boucle permet de stopper entièrement une boucle ;\n",
    "\n",
    "- continue, utilisé dans une boucle permet de stopper l'exécution courante dans une boucle et passer à l'instruction suivante sans arrêter la boucle sans qu'elle ai complètement tounée.\n",
    "\n",
    "\n",
    "Voici deux exemples :"
   ]
  },
  {
   "cell_type": "code",
   "execution_count": 343,
   "id": "290a9206",
   "metadata": {},
   "outputs": [
    {
     "name": "stdout",
     "output_type": "stream",
     "text": [
      "1 3 5 7 9 11 13 15 17 19 21 23 25 27 29 31 33 35 37 39 41 43 45 47 49 51 53 55 57 59 61 63 65 67 69 71 73 75 77 79 81 83 85 87 89 91 93 95 97 99 "
     ]
    }
   ],
   "source": [
    "#un moyen d'imprimer les nombres impairs entre 1 et 100\n",
    "for n in range(1, 100 + 1):\n",
    "    #vérifions si n es pair\n",
    "    if n % 2 == 0:\n",
    "        #si c'est le cas on skip au nombre suivant\n",
    "        continue\n",
    "    #on imprime totalement que les nombres impairs\n",
    "    print(n, end = \" \")"
   ]
  },
  {
   "cell_type": "code",
   "execution_count": 345,
   "id": "eb8730de",
   "metadata": {},
   "outputs": [
    {
     "name": "stdout",
     "output_type": "stream",
     "text": [
      "[1, 1, 2, 3, 5, 8, 13, 21, 34, 55, 89]\n"
     ]
    }
   ],
   "source": [
    "#afficher les premiers termes d'une suite de Fibonacci pour a < 100\n",
    "(a, b) = (0, 1)\n",
    "amax = 100\n",
    "L = []\n",
    "while True:\n",
    "    (a, b) = (b, a + b)\n",
    "    if a > amax:\n",
    "        break\n",
    "    L.append(a)\n",
    "print(L)"
   ]
  },
  {
   "cell_type": "markdown",
   "id": "6c2adb37",
   "metadata": {},
   "source": [
    "## Les fonctions en Python"
   ]
  },
  {
   "cell_type": "markdown",
   "id": "5b9a75b4",
   "metadata": {},
   "source": [
    "## Gestion des erreurs et des exceptions"
   ]
  },
  {
   "cell_type": "markdown",
   "id": "acb98883",
   "metadata": {},
   "source": [
    "## Les itérateurs"
   ]
  },
  {
   "cell_type": "markdown",
   "id": "efd09436",
   "metadata": {},
   "source": [
    "## Les List Comprehensions"
   ]
  },
  {
   "cell_type": "markdown",
   "id": "a0afa9d5",
   "metadata": {},
   "source": [
    "## Les générateurs"
   ]
  },
  {
   "cell_type": "markdown",
   "id": "82fa7b78",
   "metadata": {},
   "source": [
    "## Modules et packages en Python"
   ]
  },
  {
   "cell_type": "markdown",
   "id": "8245a51a",
   "metadata": {},
   "source": [
    "## Manipulation de chaîne de caractères"
   ]
  },
  {
   "cell_type": "markdown",
   "id": "edaf9c9c",
   "metadata": {},
   "source": [
    "## Expressions régulières"
   ]
  },
  {
   "cell_type": "markdown",
   "id": "afb915b2",
   "metadata": {},
   "source": [
    "## Preview des outils Python de la Data Science"
   ]
  },
  {
   "cell_type": "code",
   "execution_count": null,
   "id": "a2c30bb2",
   "metadata": {},
   "outputs": [],
   "source": []
  }
 ],
 "metadata": {
  "kernelspec": {
   "display_name": "Python 3 (ipykernel)",
   "language": "python",
   "name": "python3"
  },
  "language_info": {
   "codemirror_mode": {
    "name": "ipython",
    "version": 3
   },
   "file_extension": ".py",
   "mimetype": "text/x-python",
   "name": "python",
   "nbconvert_exporter": "python",
   "pygments_lexer": "ipython3",
   "version": "3.8.10"
  }
 },
 "nbformat": 4,
 "nbformat_minor": 5
}
