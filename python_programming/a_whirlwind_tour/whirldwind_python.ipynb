{
 "cells": [
  {
   "cell_type": "markdown",
   "id": "d957b28e",
   "metadata": {},
   "source": [
    "# Le Zen de Python"
   ]
  },
  {
   "cell_type": "code",
   "execution_count": 1,
   "id": "cd688547",
   "metadata": {},
   "outputs": [
    {
     "name": "stdout",
     "output_type": "stream",
     "text": [
      "The Zen of Python, by Tim Peters\n",
      "\n",
      "Beautiful is better than ugly.\n",
      "Explicit is better than implicit.\n",
      "Simple is better than complex.\n",
      "Complex is better than complicated.\n",
      "Flat is better than nested.\n",
      "Sparse is better than dense.\n",
      "Readability counts.\n",
      "Special cases aren't special enough to break the rules.\n",
      "Although practicality beats purity.\n",
      "Errors should never pass silently.\n",
      "Unless explicitly silenced.\n",
      "In the face of ambiguity, refuse the temptation to guess.\n",
      "There should be one-- and preferably only one --obvious way to do it.\n",
      "Although that way may not be obvious at first unless you're Dutch.\n",
      "Now is better than never.\n",
      "Although never is often better than *right* now.\n",
      "If the implementation is hard to explain, it's a bad idea.\n",
      "If the implementation is easy to explain, it may be a good idea.\n",
      "Namespaces are one honking great idea -- let's do more of those!\n"
     ]
    }
   ],
   "source": [
    "import this"
   ]
  },
  {
   "cell_type": "markdown",
   "id": "7ce08bb8",
   "metadata": {},
   "source": [
    "# La syntaxe de Python"
   ]
  },
  {
   "cell_type": "code",
   "execution_count": 2,
   "id": "7e119696",
   "metadata": {},
   "outputs": [
    {
     "name": "stdout",
     "output_type": "stream",
     "text": [
      "lower :  [0, 1, 2, 3, 4]\n",
      "upper :  [5, 6, 7, 8, 9]\n"
     ]
    }
   ],
   "source": [
    "# fixons le milieu\n",
    "midpoint = 5\n",
    "\n",
    "# créons deux listes vides\n",
    "lower = [] ; upper = []\n",
    "\n",
    "# séparons une liste de 10 nombre en plus pétit et plus grand par rapport au milieu\n",
    "for i in range(10):\n",
    "    if (i < midpoint):\n",
    "        lower.append(i)\n",
    "    else:\n",
    "        upper.append(i)\n",
    "\n",
    "print(\"lower : \", lower)\n",
    "print(\"upper : \", upper)"
   ]
  },
  {
   "cell_type": "markdown",
   "id": "c6d1e5b8",
   "metadata": {},
   "source": [
    "Le script ci-dessus permet de comprendre quelque éléments de syntaxe du langage de programmation Python :\n",
    "- Les commentaires sur une ligne sont marqués par le symbôle # et ils ne sont jamais exécutés\n",
    "\n",
    "\n",
    "- Dans presque tout langage de programmation, la fin d'une instruction est marquée par un symbôle -- en général ; -- cependant, en Python ce n'est pas le cas, le retour à la ligne (enter) permet de séparer des instructions même si on peut quand même utiliser \";\". En règle général, on utilise des points virgules quand on souhaite séparer plusieurs instructions sur une même ligne de code comme cela à été fait ci-dessous. Quoi qu'il en soit ce n'est pas trop recommandé. Le Zen de Python nous invite à préférer l'explicite à l'implicite et une uniformisation de codage\n",
    "\n",
    "\n",
    "- En Python, si l'on souhaite qu'une seule et même instruction continue sur une même ligne, on peut utiliser l'antislash. Cependant, lorsqu'on écrit une expression il est possible d'aller à la ligne sans toutefois préciser le caractère d'échappement"
   ]
  },
  {
   "cell_type": "code",
   "execution_count": 4,
   "id": "de962e24",
   "metadata": {},
   "outputs": [
    {
     "data": {
      "text/plain": [
       "33"
      ]
     },
     "execution_count": 4,
     "metadata": {},
     "output_type": "execute_result"
    }
   ],
   "source": [
    "x = 1 + 2 + 4 +\\\n",
    "5 + 6 + 7 + 8 \n",
    "x"
   ]
  },
  {
   "cell_type": "code",
   "execution_count": 5,
   "id": "70d7080e",
   "metadata": {
    "scrolled": true
   },
   "outputs": [
    {
     "data": {
      "text/plain": [
       "33"
      ]
     },
     "execution_count": 5,
     "metadata": {},
     "output_type": "execute_result"
    }
   ],
   "source": [
    "x = (1 + 2 + 4 +\n",
    "5 + 6 + 7 + 8)\n",
    "x"
   ]
  },
  {
   "cell_type": "markdown",
   "id": "1f2d213d",
   "metadata": {},
   "source": [
    "Beaucoup de manuel en Python recommande d'utiliser la dernière astuce !\n",
    "\n",
    "\n",
    "- En Python, l'espace blanc COMPTE, c'est cet espace qui permet de définir une indentation de codage et qui permet de limiter une instruction de flux de contrôle. Dans les conditions for...if...else... écrites ci-dessus, on peut remarquer qu'il y a un certain décalage qui est laissé juste après les deux points à la ligne, cela marque ce qu'on appelle une indentation et une indentation est conventionnellement formée de 4 SPACES que l'on peut reproduire avec la touche TAB.\n",
    "\n",
    "\n",
    "Vous êtes averti, ne vous amusez pas à saisir des espaces n'importe où en Python, l'interpréteur Python (pas iPython) vous renverra une erreur d'indentation : IndentationError !\n",
    "\n",
    "Notez aussi qu'en Python, une indentation de code est toujours précédée d'un deux points (:)"
   ]
  },
  {
   "cell_type": "markdown",
   "id": "5e6e3ff7",
   "metadata": {},
   "source": [
    "Nota : L'espace blanc sur une ligne qui commence par une instruction n'est pas important en Python. "
   ]
  },
  {
   "cell_type": "code",
   "execution_count": 10,
   "id": "32b6feb1",
   "metadata": {},
   "outputs": [
    {
     "data": {
      "text/plain": [
       "16"
      ]
     },
     "execution_count": 10,
     "metadata": {},
     "output_type": "execute_result"
    }
   ],
   "source": [
    "x = 1                   +                  2   +3       + 10\n",
    "x"
   ]
  },
  {
   "cell_type": "markdown",
   "id": "6532b96b",
   "metadata": {},
   "source": [
    "L'on peut volontairement abuser de cette règle pour rendre son code compréhensible"
   ]
  },
  {
   "cell_type": "code",
   "execution_count": 11,
   "id": "33396f66",
   "metadata": {},
   "outputs": [
    {
     "data": {
      "text/plain": [
       "100"
      ]
     },
     "execution_count": 11,
     "metadata": {},
     "output_type": "execute_result"
    }
   ],
   "source": [
    "x=10**2\n",
    "x"
   ]
  },
  {
   "cell_type": "code",
   "execution_count": 12,
   "id": "fe2153d7",
   "metadata": {},
   "outputs": [
    {
     "data": {
      "text/plain": [
       "100"
      ]
     },
     "execution_count": 12,
     "metadata": {},
     "output_type": "execute_result"
    }
   ],
   "source": [
    "x = 10 ** 2\n",
    "x"
   ]
  },
  {
   "cell_type": "markdown",
   "id": "121817c2",
   "metadata": {},
   "source": [
    "Le second code est meilleur que le premier, car compréhensible.\n",
    "\n",
    "\n",
    "- L'usage des parenthèses en Python sert à deux choses : soit elle nous permet de grouper des expressions ou des opérations mathématiques soit elle intervient dans la définition des arguments d'une fonction. Dans notre tout premier exemple de code, l'usage des parenthèses peut s'aperçevoit sur la condition du if, mais aussi dans la déifnition des fonctions range et print"
   ]
  },
  {
   "cell_type": "markdown",
   "id": "a971431f",
   "metadata": {},
   "source": [
    "# La sémantique de Python"
   ]
  },
  {
   "cell_type": "markdown",
   "id": "f2f1b971",
   "metadata": {},
   "source": [
    "## Variables et objets"
   ]
  },
  {
   "cell_type": "markdown",
   "id": "4b101420",
   "metadata": {},
   "source": [
    "### Les variables en Python sont des noms ou des références qui pointent vers un objet donné"
   ]
  },
  {
   "cell_type": "code",
   "execution_count": 18,
   "id": "6714058f",
   "metadata": {},
   "outputs": [],
   "source": [
    "x = 4"
   ]
  },
  {
   "cell_type": "code",
   "execution_count": 19,
   "id": "02c91cd1",
   "metadata": {},
   "outputs": [
    {
     "data": {
      "text/plain": [
       "4"
      ]
     },
     "execution_count": 19,
     "metadata": {},
     "output_type": "execute_result"
    }
   ],
   "source": [
    "x"
   ]
  },
  {
   "cell_type": "code",
   "execution_count": 14,
   "id": "602ac8d7",
   "metadata": {},
   "outputs": [
    {
     "data": {
      "text/plain": [
       "9788704"
      ]
     },
     "execution_count": 14,
     "metadata": {},
     "output_type": "execute_result"
    }
   ],
   "source": [
    "id(4)"
   ]
  },
  {
   "cell_type": "code",
   "execution_count": 15,
   "id": "37635559",
   "metadata": {},
   "outputs": [
    {
     "data": {
      "text/plain": [
       "9788704"
      ]
     },
     "execution_count": 15,
     "metadata": {},
     "output_type": "execute_result"
    }
   ],
   "source": [
    "id(x)"
   ]
  },
  {
   "cell_type": "code",
   "execution_count": 16,
   "id": "1e8f47f1",
   "metadata": {},
   "outputs": [],
   "source": [
    "y = 4"
   ]
  },
  {
   "cell_type": "code",
   "execution_count": 17,
   "id": "8949177b",
   "metadata": {},
   "outputs": [
    {
     "data": {
      "text/plain": [
       "9788704"
      ]
     },
     "execution_count": 17,
     "metadata": {},
     "output_type": "execute_result"
    }
   ],
   "source": [
    "id(y)"
   ]
  },
  {
   "cell_type": "code",
   "execution_count": 20,
   "id": "013efaae",
   "metadata": {},
   "outputs": [],
   "source": [
    "y = 3"
   ]
  },
  {
   "cell_type": "code",
   "execution_count": 21,
   "id": "6e39fb25",
   "metadata": {},
   "outputs": [
    {
     "data": {
      "text/plain": [
       "9788672"
      ]
     },
     "execution_count": 21,
     "metadata": {},
     "output_type": "execute_result"
    }
   ],
   "source": [
    "id(3)"
   ]
  },
  {
   "cell_type": "code",
   "execution_count": 22,
   "id": "d24120e1",
   "metadata": {},
   "outputs": [],
   "source": [
    "x = [1,2,3]"
   ]
  },
  {
   "cell_type": "code",
   "execution_count": 23,
   "id": "0ccb81b4",
   "metadata": {},
   "outputs": [
    {
     "data": {
      "text/plain": [
       "[1, 2, 3]"
      ]
     },
     "execution_count": 23,
     "metadata": {},
     "output_type": "execute_result"
    }
   ],
   "source": [
    "x"
   ]
  },
  {
   "cell_type": "code",
   "execution_count": 24,
   "id": "1e860edb",
   "metadata": {},
   "outputs": [],
   "source": [
    "y = x"
   ]
  },
  {
   "cell_type": "code",
   "execution_count": 26,
   "id": "c6d8cd3d",
   "metadata": {},
   "outputs": [
    {
     "name": "stdout",
     "output_type": "stream",
     "text": [
      "140142975848192\n",
      "140142976308672\n",
      "140142976308672\n"
     ]
    }
   ],
   "source": [
    "print(id(x))\n",
    "print(id(y))"
   ]
  },
  {
   "cell_type": "code",
   "execution_count": 27,
   "id": "89be059b",
   "metadata": {},
   "outputs": [],
   "source": [
    "y[1] = y[2]*4"
   ]
  },
  {
   "cell_type": "code",
   "execution_count": 28,
   "id": "9b3b1887",
   "metadata": {},
   "outputs": [
    {
     "data": {
      "text/plain": [
       "[1, 12, 3]"
      ]
     },
     "execution_count": 28,
     "metadata": {},
     "output_type": "execute_result"
    }
   ],
   "source": [
    "y"
   ]
  },
  {
   "cell_type": "code",
   "execution_count": 29,
   "id": "ad64549c",
   "metadata": {},
   "outputs": [
    {
     "data": {
      "text/plain": [
       "140142976308672"
      ]
     },
     "execution_count": 29,
     "metadata": {},
     "output_type": "execute_result"
    }
   ],
   "source": [
    "id(y)"
   ]
  },
  {
   "cell_type": "code",
   "execution_count": 30,
   "id": "cf01e220",
   "metadata": {},
   "outputs": [
    {
     "data": {
      "text/plain": [
       "[1, 12, 3]"
      ]
     },
     "execution_count": 30,
     "metadata": {},
     "output_type": "execute_result"
    }
   ],
   "source": [
    "x"
   ]
  },
  {
   "cell_type": "code",
   "execution_count": 31,
   "id": "cd95c162",
   "metadata": {},
   "outputs": [],
   "source": [
    "import numpy as np"
   ]
  },
  {
   "cell_type": "code",
   "execution_count": 32,
   "id": "06bf8ecd",
   "metadata": {},
   "outputs": [],
   "source": [
    "M = np.array([[1,2,3],\n",
    "     [4,5,6],\n",
    "     [7,8,9]\n",
    "    ])"
   ]
  },
  {
   "cell_type": "code",
   "execution_count": 34,
   "id": "c7221894",
   "metadata": {},
   "outputs": [],
   "source": [
    "N = M"
   ]
  },
  {
   "cell_type": "code",
   "execution_count": 35,
   "id": "656d8658",
   "metadata": {},
   "outputs": [
    {
     "data": {
      "text/plain": [
       "140142975903984"
      ]
     },
     "execution_count": 35,
     "metadata": {},
     "output_type": "execute_result"
    }
   ],
   "source": [
    "id(N)"
   ]
  },
  {
   "cell_type": "code",
   "execution_count": 36,
   "id": "c87be5f4",
   "metadata": {},
   "outputs": [
    {
     "data": {
      "text/plain": [
       "140142975903984"
      ]
     },
     "execution_count": 36,
     "metadata": {},
     "output_type": "execute_result"
    }
   ],
   "source": [
    "id(M)"
   ]
  },
  {
   "cell_type": "code",
   "execution_count": 38,
   "id": "f11d43b0",
   "metadata": {},
   "outputs": [],
   "source": [
    "N[1,2] = 1000"
   ]
  },
  {
   "cell_type": "code",
   "execution_count": 40,
   "id": "70ab40dc",
   "metadata": {},
   "outputs": [
    {
     "data": {
      "text/plain": [
       "array([[   1,    2,    3],\n",
       "       [   4,    5, 1000],\n",
       "       [   7,    8,    9]])"
      ]
     },
     "execution_count": 40,
     "metadata": {},
     "output_type": "execute_result"
    }
   ],
   "source": [
    "M"
   ]
  },
  {
   "cell_type": "markdown",
   "id": "42dc97e8",
   "metadata": {},
   "source": [
    "### Tout est objet en Python\n",
    "\n",
    "Python est un langage de programmation orienté objet, c'est-à-dire qu'il traite du paradigme de développement objet, mais en plus de cela, en Python, tout ce que nous manipulons est objet ! Vraiment tout ! Les données, les fonctions ... tout est objet."
   ]
  },
  {
   "cell_type": "code",
   "execution_count": 42,
   "id": "14c6a3e9",
   "metadata": {},
   "outputs": [],
   "source": [
    "l = [i**2 for i in range(10)]"
   ]
  },
  {
   "cell_type": "code",
   "execution_count": 43,
   "id": "a5065083",
   "metadata": {},
   "outputs": [
    {
     "data": {
      "text/plain": [
       "[0, 1, 4, 9, 16, 25, 36, 49, 64, 81]"
      ]
     },
     "execution_count": 43,
     "metadata": {},
     "output_type": "execute_result"
    }
   ],
   "source": [
    "l"
   ]
  },
  {
   "cell_type": "code",
   "execution_count": 46,
   "id": "391eed11",
   "metadata": {},
   "outputs": [],
   "source": [
    "l.remove(0)"
   ]
  },
  {
   "cell_type": "code",
   "execution_count": 47,
   "id": "3bb17ec0",
   "metadata": {},
   "outputs": [
    {
     "data": {
      "text/plain": [
       "[1, 4, 9, 16, 25, 36, 49, 64, 81]"
      ]
     },
     "execution_count": 47,
     "metadata": {},
     "output_type": "execute_result"
    }
   ],
   "source": [
    "l"
   ]
  },
  {
   "cell_type": "markdown",
   "id": "eddbd9b5",
   "metadata": {},
   "source": [
    "## Opérateurs"
   ]
  },
  {
   "cell_type": "markdown",
   "id": "f01e925e",
   "metadata": {},
   "source": [
    "### Opérateurs arithmétiques de base"
   ]
  },
  {
   "cell_type": "markdown",
   "id": "d8402d49",
   "metadata": {},
   "source": [
    "Python peut agir comme une calculatrice en mettant en oeuvre la plupart des opérations mathématiques de base"
   ]
  },
  {
   "cell_type": "code",
   "execution_count": 48,
   "id": "f9e966e8",
   "metadata": {},
   "outputs": [],
   "source": [
    "a = 5\n",
    "b = 9"
   ]
  },
  {
   "cell_type": "code",
   "execution_count": 49,
   "id": "8c0c5800",
   "metadata": {},
   "outputs": [
    {
     "data": {
      "text/plain": [
       "14"
      ]
     },
     "execution_count": 49,
     "metadata": {},
     "output_type": "execute_result"
    }
   ],
   "source": [
    "a + b"
   ]
  },
  {
   "cell_type": "code",
   "execution_count": 50,
   "id": "e533008c",
   "metadata": {},
   "outputs": [
    {
     "data": {
      "text/plain": [
       "-4"
      ]
     },
     "execution_count": 50,
     "metadata": {},
     "output_type": "execute_result"
    }
   ],
   "source": [
    "a - b"
   ]
  },
  {
   "cell_type": "code",
   "execution_count": 51,
   "id": "b6761fc3",
   "metadata": {},
   "outputs": [
    {
     "data": {
      "text/plain": [
       "45"
      ]
     },
     "execution_count": 51,
     "metadata": {},
     "output_type": "execute_result"
    }
   ],
   "source": [
    "a * b"
   ]
  },
  {
   "cell_type": "code",
   "execution_count": 54,
   "id": "a2ad6ecf",
   "metadata": {},
   "outputs": [
    {
     "data": {
      "text/plain": [
       "1.8"
      ]
     },
     "execution_count": 54,
     "metadata": {},
     "output_type": "execute_result"
    }
   ],
   "source": [
    "b / a"
   ]
  },
  {
   "cell_type": "code",
   "execution_count": 56,
   "id": "378af012",
   "metadata": {},
   "outputs": [
    {
     "data": {
      "text/plain": [
       "1"
      ]
     },
     "execution_count": 56,
     "metadata": {},
     "output_type": "execute_result"
    }
   ],
   "source": [
    "b // a"
   ]
  },
  {
   "cell_type": "code",
   "execution_count": 57,
   "id": "5e61d9b2",
   "metadata": {},
   "outputs": [
    {
     "data": {
      "text/plain": [
       "4"
      ]
     },
     "execution_count": 57,
     "metadata": {},
     "output_type": "execute_result"
    }
   ],
   "source": [
    "b % a"
   ]
  },
  {
   "cell_type": "code",
   "execution_count": 58,
   "id": "4e318cec",
   "metadata": {},
   "outputs": [
    {
     "data": {
      "text/plain": [
       "59049"
      ]
     },
     "execution_count": 58,
     "metadata": {},
     "output_type": "execute_result"
    }
   ],
   "source": [
    "b ** a"
   ]
  },
  {
   "cell_type": "code",
   "execution_count": 59,
   "id": "b80a66e0",
   "metadata": {},
   "outputs": [
    {
     "data": {
      "text/plain": [
       "-5"
      ]
     },
     "execution_count": 59,
     "metadata": {},
     "output_type": "execute_result"
    }
   ],
   "source": [
    "-a"
   ]
  },
  {
   "cell_type": "code",
   "execution_count": 60,
   "id": "d9a21eb0",
   "metadata": {},
   "outputs": [
    {
     "data": {
      "text/plain": [
       "9"
      ]
     },
     "execution_count": 60,
     "metadata": {},
     "output_type": "execute_result"
    }
   ],
   "source": [
    "+b"
   ]
  },
  {
   "cell_type": "markdown",
   "id": "b21b7d2f",
   "metadata": {},
   "source": [
    "Ces opérations peuvent être combinés par des parenthèses pour en créer des plus complexe, nous l'avons déjà mentionné."
   ]
  },
  {
   "cell_type": "code",
   "execution_count": 61,
   "id": "0d7840bf",
   "metadata": {},
   "outputs": [
    {
     "data": {
      "text/plain": [
       "20"
      ]
     },
     "execution_count": 61,
     "metadata": {},
     "output_type": "execute_result"
    }
   ],
   "source": [
    "(5 * 10) ** 2 // 120"
   ]
  },
  {
   "cell_type": "markdown",
   "id": "db9151bc",
   "metadata": {},
   "source": [
    "Notez que ces opérateurs arithmétique de base peuvent souvent être étendue en faisant appelle à des bibliothèques de calcul numériques tels que Numpy qui viennent avec leur bagage d'opérateurs et de types d'objet"
   ]
  },
  {
   "cell_type": "markdown",
   "id": "c3015c0f",
   "metadata": {},
   "source": [
    "### Opérateurs de comparaison"
   ]
  },
  {
   "cell_type": "markdown",
   "id": "41d9ad56",
   "metadata": {},
   "source": [
    "Python implémente la plupart des opérateurs de comparaison de base : le ET, le OU, le NON, le XOR ..."
   ]
  },
  {
   "cell_type": "code",
   "execution_count": 62,
   "id": "316325d7",
   "metadata": {},
   "outputs": [],
   "source": [
    "a = 5\n",
    "b = 9"
   ]
  },
  {
   "cell_type": "code",
   "execution_count": 86,
   "id": "3b60f081",
   "metadata": {},
   "outputs": [
    {
     "data": {
      "text/plain": [
       "False"
      ]
     },
     "execution_count": 86,
     "metadata": {},
     "output_type": "execute_result"
    }
   ],
   "source": [
    "a == b"
   ]
  },
  {
   "cell_type": "code",
   "execution_count": 87,
   "id": "d8dbdcc2",
   "metadata": {},
   "outputs": [
    {
     "data": {
      "text/plain": [
       "True"
      ]
     },
     "execution_count": 87,
     "metadata": {},
     "output_type": "execute_result"
    }
   ],
   "source": [
    "a != b"
   ]
  },
  {
   "cell_type": "code",
   "execution_count": 88,
   "id": "125971f1",
   "metadata": {},
   "outputs": [
    {
     "data": {
      "text/plain": [
       "True"
      ]
     },
     "execution_count": 88,
     "metadata": {},
     "output_type": "execute_result"
    }
   ],
   "source": [
    "a < b"
   ]
  },
  {
   "cell_type": "code",
   "execution_count": 89,
   "id": "bc0c3788",
   "metadata": {},
   "outputs": [
    {
     "data": {
      "text/plain": [
       "False"
      ]
     },
     "execution_count": 89,
     "metadata": {},
     "output_type": "execute_result"
    }
   ],
   "source": [
    "a > b"
   ]
  },
  {
   "cell_type": "code",
   "execution_count": 90,
   "id": "b53aa497",
   "metadata": {},
   "outputs": [
    {
     "data": {
      "text/plain": [
       "True"
      ]
     },
     "execution_count": 90,
     "metadata": {},
     "output_type": "execute_result"
    }
   ],
   "source": [
    "a <= b"
   ]
  },
  {
   "cell_type": "code",
   "execution_count": 91,
   "id": "7f12fbf0",
   "metadata": {},
   "outputs": [
    {
     "data": {
      "text/plain": [
       "False"
      ]
     },
     "execution_count": 91,
     "metadata": {},
     "output_type": "execute_result"
    }
   ],
   "source": [
    "a >= b"
   ]
  },
  {
   "cell_type": "code",
   "execution_count": 66,
   "id": "9be1d446",
   "metadata": {
    "scrolled": true
   },
   "outputs": [
    {
     "data": {
      "text/plain": [
       "False"
      ]
     },
     "execution_count": 66,
     "metadata": {},
     "output_type": "execute_result"
    }
   ],
   "source": [
    "(a & b) > 120"
   ]
  },
  {
   "cell_type": "code",
   "execution_count": 98,
   "id": "fb9d1e68",
   "metadata": {},
   "outputs": [
    {
     "data": {
      "text/plain": [
       "False"
      ]
     },
     "execution_count": 98,
     "metadata": {},
     "output_type": "execute_result"
    }
   ],
   "source": [
    "(a and b) > 120"
   ]
  },
  {
   "cell_type": "code",
   "execution_count": 65,
   "id": "ed32448f",
   "metadata": {},
   "outputs": [
    {
     "data": {
      "text/plain": [
       "True"
      ]
     },
     "execution_count": 65,
     "metadata": {},
     "output_type": "execute_result"
    }
   ],
   "source": [
    "(a | b) > 5"
   ]
  },
  {
   "cell_type": "code",
   "execution_count": 99,
   "id": "c5e2c40e",
   "metadata": {},
   "outputs": [
    {
     "data": {
      "text/plain": [
       "False"
      ]
     },
     "execution_count": 99,
     "metadata": {},
     "output_type": "execute_result"
    }
   ],
   "source": [
    "(a or b) > 5"
   ]
  },
  {
   "cell_type": "code",
   "execution_count": 69,
   "id": "dd295906",
   "metadata": {},
   "outputs": [
    {
     "data": {
      "text/plain": [
       "False"
      ]
     },
     "execution_count": 69,
     "metadata": {},
     "output_type": "execute_result"
    }
   ],
   "source": [
    "(a ^ b) < 5"
   ]
  },
  {
   "cell_type": "code",
   "execution_count": 95,
   "id": "e148cad1",
   "metadata": {},
   "outputs": [
    {
     "data": {
      "text/plain": [
       "False"
      ]
     },
     "execution_count": 95,
     "metadata": {},
     "output_type": "execute_result"
    }
   ],
   "source": [
    "not a > -2"
   ]
  },
  {
   "cell_type": "markdown",
   "id": "a1f9600b",
   "metadata": {},
   "source": [
    "### Opérateurs d'assignation combiné"
   ]
  },
  {
   "cell_type": "code",
   "execution_count": 73,
   "id": "3dc59d16",
   "metadata": {},
   "outputs": [
    {
     "data": {
      "text/plain": [
       "7"
      ]
     },
     "execution_count": 73,
     "metadata": {},
     "output_type": "execute_result"
    }
   ],
   "source": [
    "a += 2\n",
    "a"
   ]
  },
  {
   "cell_type": "code",
   "execution_count": 74,
   "id": "e5403a4d",
   "metadata": {},
   "outputs": [
    {
     "data": {
      "text/plain": [
       "14"
      ]
     },
     "execution_count": 74,
     "metadata": {},
     "output_type": "execute_result"
    }
   ],
   "source": [
    "a *= 2\n",
    "a"
   ]
  },
  {
   "cell_type": "code",
   "execution_count": 76,
   "id": "2380cb02",
   "metadata": {},
   "outputs": [
    {
     "data": {
      "text/plain": [
       "10"
      ]
     },
     "execution_count": 76,
     "metadata": {},
     "output_type": "execute_result"
    }
   ],
   "source": [
    "a -=2\n",
    "a"
   ]
  },
  {
   "cell_type": "code",
   "execution_count": 77,
   "id": "72c40cb3",
   "metadata": {},
   "outputs": [
    {
     "data": {
      "text/plain": [
       "5.0"
      ]
     },
     "execution_count": 77,
     "metadata": {},
     "output_type": "execute_result"
    }
   ],
   "source": [
    "a /= 2\n",
    "a"
   ]
  },
  {
   "cell_type": "code",
   "execution_count": 80,
   "id": "5cffb00f",
   "metadata": {},
   "outputs": [
    {
     "data": {
      "text/plain": [
       "1.0"
      ]
     },
     "execution_count": 80,
     "metadata": {},
     "output_type": "execute_result"
    }
   ],
   "source": [
    "a //=2\n",
    "a"
   ]
  },
  {
   "cell_type": "code",
   "execution_count": 82,
   "id": "b82ae2db",
   "metadata": {},
   "outputs": [
    {
     "data": {
      "text/plain": [
       "1.0"
      ]
     },
     "execution_count": 82,
     "metadata": {},
     "output_type": "execute_result"
    }
   ],
   "source": [
    "a %= 2\n",
    "a"
   ]
  },
  {
   "cell_type": "code",
   "execution_count": 84,
   "id": "420efae4",
   "metadata": {},
   "outputs": [
    {
     "data": {
      "text/plain": [
       "1.0"
      ]
     },
     "execution_count": 84,
     "metadata": {},
     "output_type": "execute_result"
    }
   ],
   "source": [
    "a **= 2\n",
    "a"
   ]
  },
  {
   "cell_type": "code",
   "execution_count": 94,
   "id": "65a7cb95",
   "metadata": {},
   "outputs": [
    {
     "data": {
      "text/plain": [
       "-11"
      ]
     },
     "execution_count": 94,
     "metadata": {},
     "output_type": "execute_result"
    }
   ],
   "source": [
    "~10"
   ]
  },
  {
   "cell_type": "code",
   "execution_count": 97,
   "id": "687d37c2",
   "metadata": {},
   "outputs": [
    {
     "data": {
      "text/plain": [
       "True"
      ]
     },
     "execution_count": 97,
     "metadata": {},
     "output_type": "execute_result"
    }
   ],
   "source": [
    "x = 4\n",
    "(x < 6) and (x > 2)"
   ]
  },
  {
   "cell_type": "markdown",
   "id": "98a3a8bd",
   "metadata": {},
   "source": [
    "### Opérateurs d'identité de sous-membres"
   ]
  },
  {
   "cell_type": "code",
   "execution_count": 103,
   "id": "ab63126b",
   "metadata": {},
   "outputs": [
    {
     "name": "stdout",
     "output_type": "stream",
     "text": [
      "False\n",
      "True\n",
      "True\n"
     ]
    }
   ],
   "source": [
    "#tester si deux objet sont identiques : identité d'objet pas de nom de variable\n",
    "a = 4 \n",
    "b = 9 \n",
    "\n",
    "print(a is b)\n",
    "\n",
    "x = 5\n",
    "y = 5\n",
    "\n",
    "print(x is y)\n",
    "\n",
    "print(a is not y)"
   ]
  },
  {
   "cell_type": "code",
   "execution_count": 106,
   "id": "67a60f22",
   "metadata": {},
   "outputs": [
    {
     "name": "stdout",
     "output_type": "stream",
     "text": [
      "True\n",
      "True\n"
     ]
    }
   ],
   "source": [
    "#tester si un élément se trouve dans un autre éléments : il faut que l'élément de droite soit itérable\n",
    "\n",
    "a = 4\n",
    "b = [i*2 for i in range(1, 11)]\n",
    "\n",
    "print(a in b)\n",
    "\n",
    "c = 1\n",
    "\n",
    "print(c not in b) "
   ]
  },
  {
   "cell_type": "code",
   "execution_count": 107,
   "id": "122079ab",
   "metadata": {},
   "outputs": [],
   "source": [
    "#attention is est différent de l'égalité !\n",
    "\n",
    "a = [1,2,3]\n",
    "b = [1,2,3]"
   ]
  },
  {
   "cell_type": "code",
   "execution_count": 108,
   "id": "f5aa66fe",
   "metadata": {},
   "outputs": [
    {
     "data": {
      "text/plain": [
       "True"
      ]
     },
     "execution_count": 108,
     "metadata": {},
     "output_type": "execute_result"
    }
   ],
   "source": [
    "a == b"
   ]
  },
  {
   "cell_type": "code",
   "execution_count": 109,
   "id": "2b60e162",
   "metadata": {},
   "outputs": [
    {
     "data": {
      "text/plain": [
       "False"
      ]
     },
     "execution_count": 109,
     "metadata": {},
     "output_type": "execute_result"
    }
   ],
   "source": [
    "a is b"
   ]
  },
  {
   "cell_type": "code",
   "execution_count": 110,
   "id": "7c3f9f29",
   "metadata": {},
   "outputs": [
    {
     "data": {
      "text/plain": [
       "140141779488576"
      ]
     },
     "execution_count": 110,
     "metadata": {},
     "output_type": "execute_result"
    }
   ],
   "source": [
    "id(a)"
   ]
  },
  {
   "cell_type": "code",
   "execution_count": 111,
   "id": "a72a7de5",
   "metadata": {},
   "outputs": [
    {
     "data": {
      "text/plain": [
       "140141779346688"
      ]
     },
     "execution_count": 111,
     "metadata": {},
     "output_type": "execute_result"
    }
   ],
   "source": [
    "id(b)"
   ]
  },
  {
   "cell_type": "code",
   "execution_count": 112,
   "id": "c68f0bd2",
   "metadata": {},
   "outputs": [],
   "source": [
    "b[1] = 4"
   ]
  },
  {
   "cell_type": "code",
   "execution_count": 113,
   "id": "78150c2a",
   "metadata": {},
   "outputs": [
    {
     "data": {
      "text/plain": [
       "[1, 2, 3]"
      ]
     },
     "execution_count": 113,
     "metadata": {},
     "output_type": "execute_result"
    }
   ],
   "source": [
    "a"
   ]
  },
  {
   "cell_type": "markdown",
   "id": "e42d2aa5",
   "metadata": {},
   "source": [
    "## Les types built-in de Python : les types de base"
   ]
  },
  {
   "cell_type": "markdown",
   "id": "2e69169e",
   "metadata": {},
   "source": [
    "#### int"
   ]
  },
  {
   "cell_type": "markdown",
   "id": "52c93276",
   "metadata": {},
   "source": [
    "Tout objet Python est typé et les types les plus simples sont : int, float, complex, bool et str\n",
    "\n",
    "Le type d'objet le plus simple et le plus utilisé c'est le type int, il concerne tous les nombres non décimaux. "
   ]
  },
  {
   "cell_type": "code",
   "execution_count": 118,
   "id": "176ab9d2",
   "metadata": {},
   "outputs": [
    {
     "data": {
      "text/plain": [
       "int"
      ]
     },
     "execution_count": 118,
     "metadata": {},
     "output_type": "execute_result"
    }
   ],
   "source": [
    "x = 1\n",
    "type(x)"
   ]
  },
  {
   "cell_type": "markdown",
   "id": "a92bbbb5",
   "metadata": {},
   "source": [
    "Le type int en Python contient à la fois les entiers courts et les entiers longs."
   ]
  },
  {
   "cell_type": "code",
   "execution_count": 121,
   "id": "9df69965",
   "metadata": {},
   "outputs": [
    {
     "data": {
      "text/plain": [
       "1606938044258990275541962092341162602522202993782792835301376"
      ]
     },
     "execution_count": 121,
     "metadata": {},
     "output_type": "execute_result"
    }
   ],
   "source": [
    "long = 2 ** 200\n",
    "long"
   ]
  },
  {
   "cell_type": "code",
   "execution_count": 122,
   "id": "6fea8ac9",
   "metadata": {},
   "outputs": [
    {
     "data": {
      "text/plain": [
       "int"
      ]
     },
     "execution_count": 122,
     "metadata": {},
     "output_type": "execute_result"
    }
   ],
   "source": [
    "type(long)"
   ]
  },
  {
   "cell_type": "markdown",
   "id": "ffe08892",
   "metadata": {},
   "source": [
    "A chaque type Python correspond un constructeur (c'est une fonction de construction) de ce type. Elle permet ausi de coincir un autre objet."
   ]
  },
  {
   "cell_type": "code",
   "execution_count": 119,
   "id": "973c19c1",
   "metadata": {},
   "outputs": [
    {
     "data": {
      "text/plain": [
       "5"
      ]
     },
     "execution_count": 119,
     "metadata": {},
     "output_type": "execute_result"
    }
   ],
   "source": [
    "int(5)"
   ]
  },
  {
   "cell_type": "markdown",
   "id": "5339c5e2",
   "metadata": {},
   "source": [
    "Il faut noter que la division de deux int en Python 3 ne revoit pas un entier mais un autre type d'objet que nous verons par la suite."
   ]
  },
  {
   "cell_type": "code",
   "execution_count": 127,
   "id": "16efa7a5",
   "metadata": {},
   "outputs": [
    {
     "data": {
      "text/plain": [
       "2.0"
      ]
     },
     "execution_count": 127,
     "metadata": {},
     "output_type": "execute_result"
    }
   ],
   "source": [
    "4 / 2"
   ]
  },
  {
   "cell_type": "markdown",
   "id": "fc7d295f",
   "metadata": {},
   "source": [
    "#### float"
   ]
  },
  {
   "cell_type": "markdown",
   "id": "d1e958e5",
   "metadata": {},
   "source": [
    "Après le type entier, il existe le type qui gère les nombres à virgule : c'est le type float de Python. Il permet de gérer tout type nombre flottants. Typiquement, il s'agit du mode de stockages des nombres réels, rationnels, décimaux ..."
   ]
  },
  {
   "cell_type": "code",
   "execution_count": 123,
   "id": "87b198fd",
   "metadata": {},
   "outputs": [
    {
     "data": {
      "text/plain": [
       "float"
      ]
     },
     "execution_count": 123,
     "metadata": {},
     "output_type": "execute_result"
    }
   ],
   "source": [
    "y = 21.5\n",
    "type(y)"
   ]
  },
  {
   "cell_type": "markdown",
   "id": "870b314e",
   "metadata": {},
   "source": [
    "Formellement, les flottants en Python s'écrive soit en notation normale soit en notation scientifique avec le \"e\"."
   ]
  },
  {
   "cell_type": "code",
   "execution_count": 125,
   "id": "c38e5cf0",
   "metadata": {},
   "outputs": [
    {
     "data": {
      "text/plain": [
       "21.5"
      ]
     },
     "execution_count": 125,
     "metadata": {},
     "output_type": "execute_result"
    }
   ],
   "source": [
    "y = 215e-1\n",
    "y"
   ]
  },
  {
   "cell_type": "code",
   "execution_count": 128,
   "id": "39ba4efa",
   "metadata": {},
   "outputs": [
    {
     "data": {
      "text/plain": [
       "float"
      ]
     },
     "execution_count": 128,
     "metadata": {},
     "output_type": "execute_result"
    }
   ],
   "source": [
    "type(y)"
   ]
  },
  {
   "cell_type": "markdown",
   "id": "c59daea3",
   "metadata": {},
   "source": [
    "Il faut faire attention à la précision des float. En fait, le format d'affichage ne reflette pas forcement le contenant. En effet :"
   ]
  },
  {
   "cell_type": "code",
   "execution_count": 130,
   "id": "5102e803",
   "metadata": {},
   "outputs": [
    {
     "data": {
      "text/plain": [
       "False"
      ]
     },
     "execution_count": 130,
     "metadata": {},
     "output_type": "execute_result"
    }
   ],
   "source": [
    "0.1 + 0.2 == 0.3"
   ]
  },
  {
   "cell_type": "markdown",
   "id": "c0b224f4",
   "metadata": {},
   "source": [
    "Pourquoi est-ce le cas ? Il s'avère que ce n'est pas un comportement propre à Python, mais qu'il est dû au format à précision fixe du stockage binaire à virgule flottante utilisé par la plupart, sinon la totalité, des plateformes de calcul scientifique. Tous les langages de programmation utilisant des nombres à virgule flottante les stockent dans un nombre fixe de bits, ce qui conduit à ce que certains nombres ne soient représentés qu'approximativement. \n",
    "\n",
    "Nous pouvons le constater en imprimant les trois valeurs en haute précision :"
   ]
  },
  {
   "cell_type": "code",
   "execution_count": 134,
   "id": "91b86214",
   "metadata": {},
   "outputs": [
    {
     "name": "stdout",
     "output_type": "stream",
     "text": [
      "0.1 = 0.10000000000000001\n",
      "0.2 = 0.20000000000000001\n",
      "0.3 = 0.29999999999999999\n"
     ]
    }
   ],
   "source": [
    "print(\"0.1 = {0:.17f}\".format(0.1))\n",
    "print(\"0.2 = {0:.17f}\".format(0.2))\n",
    "print(\"0.3 = {0:.17f}\".format(0.3))"
   ]
  },
  {
   "cell_type": "markdown",
   "id": "77894693",
   "metadata": {},
   "source": [
    "La meilleure façon d'y faire face est de toujours garder à l'esprit que l'arithmétique en virgule flottante est approximative et de ne jamais compter sur des tests d'égalité exacts avec des valeurs en virgule flottante. valeurs en virgule flottante."
   ]
  },
  {
   "cell_type": "markdown",
   "id": "2d642094",
   "metadata": {},
   "source": [
    "### complex"
   ]
  },
  {
   "cell_type": "markdown",
   "id": "d439c879",
   "metadata": {},
   "source": [
    "Voyons à présent un type d'objet numérique moins utilisé en Python : c'est le type complex. Il permet de créer des objets de type nombres complexes, c'est-à-dire des nombres qui possèdent une partie réelle et une partie imaginaire."
   ]
  },
  {
   "cell_type": "code",
   "execution_count": 135,
   "id": "475c63f0",
   "metadata": {},
   "outputs": [
    {
     "data": {
      "text/plain": [
       "(1+2j)"
      ]
     },
     "execution_count": 135,
     "metadata": {},
     "output_type": "execute_result"
    }
   ],
   "source": [
    "#création d'un nombre complexe avec le constructeur\n",
    "complex(1, 2)"
   ]
  },
  {
   "cell_type": "code",
   "execution_count": 136,
   "id": "69c8f1ac",
   "metadata": {},
   "outputs": [
    {
     "data": {
      "text/plain": [
       "(1+2j)"
      ]
     },
     "execution_count": 136,
     "metadata": {},
     "output_type": "execute_result"
    }
   ],
   "source": [
    "#définition d'un nombre complexe avec le suffixe j\n",
    "1 + 2j"
   ]
  },
  {
   "cell_type": "code",
   "execution_count": 137,
   "id": "bf8bc034",
   "metadata": {},
   "outputs": [],
   "source": [
    "#voyons les attributs et méthodes d'un objet complex\n",
    "c = 3 + 4j"
   ]
  },
  {
   "cell_type": "code",
   "execution_count": 138,
   "id": "030e82c5",
   "metadata": {},
   "outputs": [
    {
     "data": {
      "text/plain": [
       "3.0"
      ]
     },
     "execution_count": 138,
     "metadata": {},
     "output_type": "execute_result"
    }
   ],
   "source": [
    "#extraction de la partie réelle\n",
    "c.real"
   ]
  },
  {
   "cell_type": "code",
   "execution_count": 139,
   "id": "2fc77431",
   "metadata": {},
   "outputs": [
    {
     "data": {
      "text/plain": [
       "4.0"
      ]
     },
     "execution_count": 139,
     "metadata": {},
     "output_type": "execute_result"
    }
   ],
   "source": [
    "#extraction de la partie imaginaire\n",
    "c.imag"
   ]
  },
  {
   "cell_type": "code",
   "execution_count": 141,
   "id": "7eef0788",
   "metadata": {},
   "outputs": [
    {
     "data": {
      "text/plain": [
       "(3-4j)"
      ]
     },
     "execution_count": 141,
     "metadata": {},
     "output_type": "execute_result"
    }
   ],
   "source": [
    "#calcul du conjugué de c\n",
    "c.conjugate()"
   ]
  },
  {
   "cell_type": "markdown",
   "id": "ff9cc76a",
   "metadata": {},
   "source": [
    "### string"
   ]
  },
  {
   "cell_type": "markdown",
   "id": "c8f4b71a",
   "metadata": {},
   "source": [
    "Abordons un type d'objet très utilisé dans les gestions des chaines de caractères, le type String. Il permet de gérer des caractères et des chaînes de caractères."
   ]
  },
  {
   "cell_type": "code",
   "execution_count": 142,
   "id": "449979a3",
   "metadata": {},
   "outputs": [],
   "source": [
    "#création d'une chaine avec une double française\n",
    "nom = \"ESSOH\""
   ]
  },
  {
   "cell_type": "code",
   "execution_count": 143,
   "id": "75e64bb9",
   "metadata": {},
   "outputs": [
    {
     "data": {
      "text/plain": [
       "'ESSOH'"
      ]
     },
     "execution_count": 143,
     "metadata": {},
     "output_type": "execute_result"
    }
   ],
   "source": [
    "nom"
   ]
  },
  {
   "cell_type": "code",
   "execution_count": 144,
   "id": "35995957",
   "metadata": {},
   "outputs": [],
   "source": [
    "#création d'une chaine avec une cote simple anglaise\n",
    "prenoms = 'Lasme Ephrem Dominique'"
   ]
  },
  {
   "cell_type": "code",
   "execution_count": 145,
   "id": "5043fd09",
   "metadata": {},
   "outputs": [
    {
     "data": {
      "text/plain": [
       "'Lasme Ephrem Dominique'"
      ]
     },
     "execution_count": 145,
     "metadata": {},
     "output_type": "execute_result"
    }
   ],
   "source": [
    "prenoms"
   ]
  },
  {
   "cell_type": "markdown",
   "id": "05e06138",
   "metadata": {},
   "source": [
    "Un objet string contient une multitude de méthodes comme on peut le voir :"
   ]
  },
  {
   "cell_type": "code",
   "execution_count": 147,
   "id": "970d07b6",
   "metadata": {},
   "outputs": [
    {
     "data": {
      "text/plain": [
       "'essoh'"
      ]
     },
     "execution_count": 147,
     "metadata": {},
     "output_type": "execute_result"
    }
   ],
   "source": [
    "#mets la chaine en minuscule\n",
    "nom.lower()"
   ]
  },
  {
   "cell_type": "code",
   "execution_count": 148,
   "id": "8121ef73",
   "metadata": {},
   "outputs": [
    {
     "data": {
      "text/plain": [
       "'Lasme ephrem dominique'"
      ]
     },
     "execution_count": 148,
     "metadata": {},
     "output_type": "execute_result"
    }
   ],
   "source": [
    "#écris que la première lettre de la chaine en majuscule\n",
    "prenoms.capitalize()"
   ]
  },
  {
   "cell_type": "markdown",
   "id": "e77ac45d",
   "metadata": {},
   "source": [
    "Intuitvement, on peut réaliser des opérations arithmétiques sur de types int, float ou complex, car étant des types numériques, cependant cela est moins intuitifs avec les chaînes de caractères.\n",
    "\n",
    "\n",
    "Python nous permet cependant de mener de tels actions afin d'accomplir des tâches rapides sur les chaînes telles que la concatenation de chaine. La somme de chaine permet leur concatennation alors que la mutiplication permet une contatenation multiple"
   ]
  },
  {
   "cell_type": "code",
   "execution_count": 153,
   "id": "97737fd1",
   "metadata": {},
   "outputs": [
    {
     "data": {
      "text/plain": [
       "'ESSOHLasme Ephrem Dominique'"
      ]
     },
     "execution_count": 153,
     "metadata": {},
     "output_type": "execute_result"
    }
   ],
   "source": [
    "nom + prenoms"
   ]
  },
  {
   "cell_type": "code",
   "execution_count": 154,
   "id": "24075f61",
   "metadata": {},
   "outputs": [
    {
     "data": {
      "text/plain": [
       "'ESSOH Lasme Ephrem Dominique'"
      ]
     },
     "execution_count": 154,
     "metadata": {},
     "output_type": "execute_result"
    }
   ],
   "source": [
    "nom + \" \" + prenoms"
   ]
  },
  {
   "cell_type": "code",
   "execution_count": 156,
   "id": "cbba93cb",
   "metadata": {},
   "outputs": [
    {
     "data": {
      "text/plain": [
       "str"
      ]
     },
     "execution_count": 156,
     "metadata": {},
     "output_type": "execute_result"
    }
   ],
   "source": [
    "#parce que \" \" est bien une chaine\n",
    "type(\" \")"
   ]
  },
  {
   "cell_type": "code",
   "execution_count": 159,
   "id": "985494e3",
   "metadata": {},
   "outputs": [
    {
     "data": {
      "text/plain": [
       "'ESSOHESSOH'"
      ]
     },
     "execution_count": 159,
     "metadata": {},
     "output_type": "execute_result"
    }
   ],
   "source": [
    "2 * nom"
   ]
  },
  {
   "cell_type": "markdown",
   "id": "789b3bde",
   "metadata": {},
   "source": [
    "Pour compter le nombre de charactères d'une chaîne, on utilise la fonction len :"
   ]
  },
  {
   "cell_type": "code",
   "execution_count": 160,
   "id": "9af3d6b1",
   "metadata": {},
   "outputs": [
    {
     "data": {
      "text/plain": [
       "22"
      ]
     },
     "execution_count": 160,
     "metadata": {},
     "output_type": "execute_result"
    }
   ],
   "source": [
    "len(prenoms)"
   ]
  },
  {
   "cell_type": "markdown",
   "id": "b1eeb605",
   "metadata": {},
   "source": [
    "D'alleurs, la fonction len permet de compter le contenu de tout objet qui est itérable, nous les verrons plus tard :"
   ]
  },
  {
   "cell_type": "code",
   "execution_count": 163,
   "id": "25fd94ad",
   "metadata": {},
   "outputs": [
    {
     "data": {
      "text/plain": [
       "10"
      ]
     },
     "execution_count": 163,
     "metadata": {},
     "output_type": "execute_result"
    }
   ],
   "source": [
    "len([i ** 2 for i in range(1, 11)])"
   ]
  },
  {
   "cell_type": "markdown",
   "id": "bab1d148",
   "metadata": {},
   "source": [
    "Au passage, une chaine de caractères est un objet itérable !"
   ]
  },
  {
   "cell_type": "code",
   "execution_count": 166,
   "id": "1717f96a",
   "metadata": {},
   "outputs": [
    {
     "name": "stdout",
     "output_type": "stream",
     "text": [
      "['L', 'a', 's', 'm', 'e', ' ', 'E', 'p', 'h', 'r', 'e', 'm', ' ', 'D', 'o', 'm', 'i', 'n', 'i', 'q', 'u', 'e']\n",
      "sme Ephrem Dominique\n"
     ]
    }
   ],
   "source": [
    "#conversion d'une chaine de caractère en liste\n",
    "print([c for c in prenoms])\n",
    "print(prenoms[2:])"
   ]
  },
  {
   "cell_type": "markdown",
   "id": "dd546045",
   "metadata": {},
   "source": [
    "#### None"
   ]
  },
  {
   "cell_type": "markdown",
   "id": "db7c4c25",
   "metadata": {},
   "source": [
    "Il existe un type étrange en Python, qui est un objet qui ne contient rien ! C'est le type None. Exactement, ce type contient et ne peut contenir qu'une seule valeur : None."
   ]
  },
  {
   "cell_type": "code",
   "execution_count": 167,
   "id": "6abaf11c",
   "metadata": {},
   "outputs": [
    {
     "data": {
      "text/plain": [
       "NoneType"
      ]
     },
     "execution_count": 167,
     "metadata": {},
     "output_type": "execute_result"
    }
   ],
   "source": [
    "type(None)"
   ]
  },
  {
   "cell_type": "markdown",
   "id": "46b86376",
   "metadata": {},
   "source": [
    "Alors on pourrait se demander quel est l'utilité d'un tel objet, et bien il sert bien des cas. Par exemple, il souvent utilisé pour initialiser un objet qui sera utilisé par la suite dans une boucle. Il est aussi la valeur par défaut renvoyée par une fonction quand celle-ci ne retourne rien."
   ]
  },
  {
   "cell_type": "code",
   "execution_count": 168,
   "id": "b42abd1d",
   "metadata": {},
   "outputs": [
    {
     "name": "stdout",
     "output_type": "stream",
     "text": [
      "Taper oui pour arrêter le programme ! non\n",
      "Taper oui pour arrêter le programme ! l\n",
      "Taper oui pour arrêter le programme ! m\n",
      "Taper oui pour arrêter le programme ! k\n",
      "Taper oui pour arrêter le programme ! \n",
      "Taper oui pour arrêter le programme ! o\n",
      "Taper oui pour arrêter le programme ! \n",
      "Taper oui pour arrêter le programme ! \n",
      "Taper oui pour arrêter le programme ! oui\n"
     ]
    }
   ],
   "source": [
    "#None en tant que initialisa\n",
    "\n",
    "reponse = None\n",
    "\n",
    "while reponse != \"oui\":\n",
    "    reponse = input(\"Taper oui pour arrêter le programme ! \")"
   ]
  },
  {
   "cell_type": "code",
   "execution_count": 170,
   "id": "e63ebf01",
   "metadata": {},
   "outputs": [
    {
     "data": {
      "text/plain": [
       "<function print>"
      ]
     },
     "execution_count": 170,
     "metadata": {},
     "output_type": "execute_result"
    }
   ],
   "source": [
    "#valeur de retour d'une fonction qui ne renvoie rien\n",
    "print"
   ]
  },
  {
   "cell_type": "markdown",
   "id": "d1fdcd92",
   "metadata": {},
   "source": [
    "print est une fonction Python qui permet d'imprimer un objet, formelement, elle ne renvoie rien comme valeur !"
   ]
  },
  {
   "cell_type": "code",
   "execution_count": 171,
   "id": "8972134b",
   "metadata": {},
   "outputs": [
    {
     "name": "stdout",
     "output_type": "stream",
     "text": [
      "bonjour\n"
     ]
    }
   ],
   "source": [
    "message = print(\"bonjour\")"
   ]
  },
  {
   "cell_type": "code",
   "execution_count": 174,
   "id": "a83c6e1f",
   "metadata": {},
   "outputs": [
    {
     "name": "stdout",
     "output_type": "stream",
     "text": [
      "None\n"
     ]
    }
   ],
   "source": [
    "print(message)"
   ]
  },
  {
   "cell_type": "markdown",
   "id": "9ea02501",
   "metadata": {},
   "source": [
    "#### bool"
   ]
  },
  {
   "cell_type": "markdown",
   "id": "e72aa302",
   "metadata": {},
   "source": [
    "Etudions le dernier type simple le plus important de Python : le type bool ou booléen. C'est le type qui permet à Python d'appréhender des conditions logiques. Avec ce type Python sait reconnaître des True (1) des False (0). De fait, un objet bool ne peut prendre que deux états : soit True soit False."
   ]
  },
  {
   "cell_type": "code",
   "execution_count": 175,
   "id": "4bbd28be",
   "metadata": {},
   "outputs": [
    {
     "data": {
      "text/plain": [
       "True"
      ]
     },
     "execution_count": 175,
     "metadata": {},
     "output_type": "execute_result"
    }
   ],
   "source": [
    "result = (4 < 5)\n",
    "result"
   ]
  },
  {
   "cell_type": "code",
   "execution_count": 176,
   "id": "e76b4fdc",
   "metadata": {},
   "outputs": [
    {
     "data": {
      "text/plain": [
       "bool"
      ]
     },
     "execution_count": 176,
     "metadata": {},
     "output_type": "execute_result"
    }
   ],
   "source": [
    "type(result)"
   ]
  },
  {
   "cell_type": "markdown",
   "id": "826687b2",
   "metadata": {},
   "source": [
    "Il faut bien remarquer que une valeur bool comme bien par une lettre majuscule ce qui peut différer des autres langages de programmation. Par exemple en R, True -> TRUE et Fasle -> FALSE\n",
    "\n",
    "\n",
    "Notons qu'on peut aussi utiliser le constructeur bool pour créer un objet booléen en Python. Appliqué sur un type numérique, ce constructeur renvoie toujours True si le nombre envoyé en paramètre est différent de 0. Par contre, sur une chaine bool renvoie toujours True sauf pour la chaine vide \"\". Enfin, bool appliqué à None est toujours False."
   ]
  },
  {
   "cell_type": "code",
   "execution_count": 177,
   "id": "a3aba1df",
   "metadata": {},
   "outputs": [
    {
     "data": {
      "text/plain": [
       "True"
      ]
     },
     "execution_count": 177,
     "metadata": {},
     "output_type": "execute_result"
    }
   ],
   "source": [
    "bool(2014)"
   ]
  },
  {
   "cell_type": "code",
   "execution_count": 178,
   "id": "01908e00",
   "metadata": {},
   "outputs": [
    {
     "data": {
      "text/plain": [
       "True"
      ]
     },
     "execution_count": 178,
     "metadata": {},
     "output_type": "execute_result"
    }
   ],
   "source": [
    "bool(-1)"
   ]
  },
  {
   "cell_type": "code",
   "execution_count": 179,
   "id": "ea95cc31",
   "metadata": {},
   "outputs": [
    {
     "data": {
      "text/plain": [
       "False"
      ]
     },
     "execution_count": 179,
     "metadata": {},
     "output_type": "execute_result"
    }
   ],
   "source": [
    "bool(0)"
   ]
  },
  {
   "cell_type": "code",
   "execution_count": 180,
   "id": "27f965e5",
   "metadata": {},
   "outputs": [
    {
     "data": {
      "text/plain": [
       "True"
      ]
     },
     "execution_count": 180,
     "metadata": {},
     "output_type": "execute_result"
    }
   ],
   "source": [
    "bool(\"abc\")"
   ]
  },
  {
   "cell_type": "code",
   "execution_count": 181,
   "id": "bd5d678a",
   "metadata": {},
   "outputs": [
    {
     "data": {
      "text/plain": [
       "False"
      ]
     },
     "execution_count": 181,
     "metadata": {},
     "output_type": "execute_result"
    }
   ],
   "source": [
    "bool(\"\")"
   ]
  },
  {
   "cell_type": "code",
   "execution_count": 182,
   "id": "06a11ba2",
   "metadata": {},
   "outputs": [
    {
     "data": {
      "text/plain": [
       "False"
      ]
     },
     "execution_count": 182,
     "metadata": {},
     "output_type": "execute_result"
    }
   ],
   "source": [
    "bool(None)"
   ]
  },
  {
   "cell_type": "markdown",
   "id": "f77dbbb7",
   "metadata": {},
   "source": [
    "Recaptitulons sur les types d'objet simples en Python : "
   ]
  },
  {
   "cell_type": "code",
   "execution_count": 192,
   "id": "9fdb4826",
   "metadata": {},
   "outputs": [
    {
     "data": {
      "text/html": [
       "<div>\n",
       "<style scoped>\n",
       "    .dataframe tbody tr th:only-of-type {\n",
       "        vertical-align: middle;\n",
       "    }\n",
       "\n",
       "    .dataframe tbody tr th {\n",
       "        vertical-align: top;\n",
       "    }\n",
       "\n",
       "    .dataframe thead th {\n",
       "        text-align: right;\n",
       "    }\n",
       "</style>\n",
       "<table border=\"1\" class=\"dataframe\">\n",
       "  <thead>\n",
       "    <tr style=\"text-align: right;\">\n",
       "      <th></th>\n",
       "      <th>Type d'objet</th>\n",
       "      <th>Description</th>\n",
       "      <th>Constructeur</th>\n",
       "    </tr>\n",
       "  </thead>\n",
       "  <tbody>\n",
       "    <tr>\n",
       "      <th>0</th>\n",
       "      <td>int</td>\n",
       "      <td>Nombres entiers courts ou longs</td>\n",
       "      <td>int()</td>\n",
       "    </tr>\n",
       "    <tr>\n",
       "      <th>1</th>\n",
       "      <td>float</td>\n",
       "      <td>Nombres à virgules</td>\n",
       "      <td>float()</td>\n",
       "    </tr>\n",
       "    <tr>\n",
       "      <th>2</th>\n",
       "      <td>complex</td>\n",
       "      <td>Nombres complexes</td>\n",
       "      <td>complex()</td>\n",
       "    </tr>\n",
       "    <tr>\n",
       "      <th>3</th>\n",
       "      <td>str</td>\n",
       "      <td>Etats booléens</td>\n",
       "      <td>bool()</td>\n",
       "    </tr>\n",
       "    <tr>\n",
       "      <th>4</th>\n",
       "      <td>bool</td>\n",
       "      <td>Chaines de caractères</td>\n",
       "      <td>str()</td>\n",
       "    </tr>\n",
       "  </tbody>\n",
       "</table>\n",
       "</div>"
      ],
      "text/plain": [
       "  Type d'objet                      Description Constructeur\n",
       "0          int  Nombres entiers courts ou longs        int()\n",
       "1        float               Nombres à virgules      float()\n",
       "2      complex                Nombres complexes    complex()\n",
       "3          str                   Etats booléens       bool()\n",
       "4         bool            Chaines de caractères        str()"
      ]
     },
     "execution_count": 192,
     "metadata": {},
     "output_type": "execute_result"
    }
   ],
   "source": [
    "import pandas as pd\n",
    "\n",
    "data = {\"Type d'objet\" : [\"int\", \"float\", \"complex\", \"str\", \"bool\"] , \n",
    "        'Description' : [\"Nombres entiers courts ou longs\", \"Nombres à virgules\", \"Nombres complexes\", \"Etats booléens\", \"Chaines de caractères\"], \n",
    "        'Constructeur' : [\"int()\", \"float()\", \"complex()\", \"bool()\", \"str()\"]}\n",
    "\n",
    "pd.DataFrame(data)"
   ]
  },
  {
   "cell_type": "markdown",
   "id": "1edfbbe5",
   "metadata": {},
   "source": [
    "## Les types built-in de Python : les types composés ou conteneurs ou itérables ou types de données"
   ]
  },
  {
   "cell_type": "markdown",
   "id": "bf193fd7",
   "metadata": {},
   "source": [
    "Les différents types que nous venons d'étudier sont les 5 types d'objets canoniques de Python. Avec ces types, on en construit des types plus élaborés pour diverses raisons. Les types que nous construisons à partir des types simples ou de bases sont appélés des types conteneurs ou des structures de données. Python en contient un certain nombre, mais il existe également des packages hors Python qui permet d'en ajouter d'autre types conteneurs très utiles : on en a déjà utilisé un Pandas !\n",
    "\n",
    "Par définition, un type composé est un type itérable, c'est-à-dire qu'on peut parcourir ses éléments au travers d'une boucle. Mais, lorsqu'on dispose d'un type composé, on cherche, en plus, à savoir s'il est modifiable(mutable), ordonné(ordered), sujette à extraction de ses éléments(sliceable)."
   ]
  },
  {
   "cell_type": "markdown",
   "id": "4a146a69",
   "metadata": {},
   "source": [
    "#### list"
   ]
  },
  {
   "cell_type": "markdown",
   "id": "d1d0e6bc",
   "metadata": {},
   "source": [
    "Le premier type que nous étudierons est très populaire de la communauté Python. C'est le type list. C'est un type qui permet de stocker différents objets, de même types ou non, suivant un ordre bien spécifique et modifiable formant ainsi une liste d'objets.\n",
    "\n",
    "\n",
    "Une liste est : itérable, mutable, sliceable et ordonnée.\n",
    "\n",
    "\n",
    "Voici par exemple une liste contenant l'âge, le nom, la taille et le statut droitier ou pas d'une personne :"
   ]
  },
  {
   "cell_type": "code",
   "execution_count": 194,
   "id": "a88a9138",
   "metadata": {},
   "outputs": [
    {
     "data": {
      "text/plain": [
       "[24, 'ESSOH', 1.8, True]"
      ]
     },
     "execution_count": 194,
     "metadata": {},
     "output_type": "execute_result"
    }
   ],
   "source": [
    "L = [24, \"ESSOH\", 1.80, True]\n",
    "L"
   ]
  },
  {
   "cell_type": "markdown",
   "id": "4e9e4b2a",
   "metadata": {},
   "source": [
    "Voci une autre liste contenant les nombre premiers compris entre 0 et 10 :"
   ]
  },
  {
   "cell_type": "code",
   "execution_count": 198,
   "id": "7f5c3a96",
   "metadata": {},
   "outputs": [
    {
     "data": {
      "text/plain": [
       "[2, 3, 5, 7]"
      ]
     },
     "execution_count": 198,
     "metadata": {},
     "output_type": "execute_result"
    }
   ],
   "source": [
    "P = [2, 3, 5, 7]\n",
    "P"
   ]
  },
  {
   "cell_type": "markdown",
   "id": "eecffc21",
   "metadata": {},
   "source": [
    "Voyons quelques méthodes que l'on pourrait appliquer sur une liste :"
   ]
  },
  {
   "cell_type": "code",
   "execution_count": 199,
   "id": "563f03b1",
   "metadata": {},
   "outputs": [
    {
     "data": {
      "text/plain": [
       "[2, 3, 5, 7, 11]"
      ]
     },
     "execution_count": 199,
     "metadata": {},
     "output_type": "execute_result"
    }
   ],
   "source": [
    "P.append(11)\n",
    "P"
   ]
  },
  {
   "cell_type": "markdown",
   "id": "b1ccfa41",
   "metadata": {},
   "source": [
    "#### tuple"
   ]
  },
  {
   "cell_type": "markdown",
   "id": "30bc3131",
   "metadata": {},
   "source": [
    "#### dict"
   ]
  },
  {
   "cell_type": "markdown",
   "id": "16b663cb",
   "metadata": {},
   "source": [
    "#### set"
   ]
  },
  {
   "cell_type": "code",
   "execution_count": null,
   "id": "53405276",
   "metadata": {},
   "outputs": [],
   "source": []
  }
 ],
 "metadata": {
  "kernelspec": {
   "display_name": "Python 3 (ipykernel)",
   "language": "python",
   "name": "python3"
  },
  "language_info": {
   "codemirror_mode": {
    "name": "ipython",
    "version": 3
   },
   "file_extension": ".py",
   "mimetype": "text/x-python",
   "name": "python",
   "nbconvert_exporter": "python",
   "pygments_lexer": "ipython3",
   "version": "3.8.10"
  }
 },
 "nbformat": 4,
 "nbformat_minor": 5
}
