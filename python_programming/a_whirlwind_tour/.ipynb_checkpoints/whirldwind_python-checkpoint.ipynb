{
 "cells": [
  {
   "cell_type": "markdown",
   "id": "251cbe40",
   "metadata": {},
   "source": [
    "# Le Zen de Python"
   ]
  },
  {
   "cell_type": "code",
   "execution_count": 1,
   "id": "305382bf",
   "metadata": {},
   "outputs": [
    {
     "name": "stdout",
     "output_type": "stream",
     "text": [
      "The Zen of Python, by Tim Peters\n",
      "\n",
      "Beautiful is better than ugly.\n",
      "Explicit is better than implicit.\n",
      "Simple is better than complex.\n",
      "Complex is better than complicated.\n",
      "Flat is better than nested.\n",
      "Sparse is better than dense.\n",
      "Readability counts.\n",
      "Special cases aren't special enough to break the rules.\n",
      "Although practicality beats purity.\n",
      "Errors should never pass silently.\n",
      "Unless explicitly silenced.\n",
      "In the face of ambiguity, refuse the temptation to guess.\n",
      "There should be one-- and preferably only one --obvious way to do it.\n",
      "Although that way may not be obvious at first unless you're Dutch.\n",
      "Now is better than never.\n",
      "Although never is often better than *right* now.\n",
      "If the implementation is hard to explain, it's a bad idea.\n",
      "If the implementation is easy to explain, it may be a good idea.\n",
      "Namespaces are one honking great idea -- let's do more of those!\n"
     ]
    }
   ],
   "source": [
    "import this"
   ]
  },
  {
   "cell_type": "markdown",
   "id": "a63977c5",
   "metadata": {},
   "source": [
    "# La syntaxe de Python"
   ]
  },
  {
   "cell_type": "code",
   "execution_count": 2,
   "id": "27f9b2bf",
   "metadata": {},
   "outputs": [
    {
     "name": "stdout",
     "output_type": "stream",
     "text": [
      "lower :  [0, 1, 2, 3, 4]\n",
      "upper :  [5, 6, 7, 8, 9]\n"
     ]
    }
   ],
   "source": [
    "# fixons le milieu\n",
    "midpoint = 5\n",
    "\n",
    "# créons deux listes vides\n",
    "lower = [] ; upper = []\n",
    "\n",
    "# séparons une liste de 10 nombre en plus pétit et plus grand par rapport au milieu\n",
    "for i in range(10):\n",
    "    if (i < midpoint):\n",
    "        lower.append(i)\n",
    "    else:\n",
    "        upper.append(i)\n",
    "\n",
    "print(\"lower : \", lower)\n",
    "print(\"upper : \", upper)"
   ]
  },
  {
   "cell_type": "markdown",
   "id": "fe06a057",
   "metadata": {},
   "source": [
    "Le script ci-dessus permet de comprendre quelque éléments de syntaxe du langage de programmation Python :\n",
    "- Les commentaires sur une ligne sont marqués par le symbôle # et ils ne sont jamais exécutés\n",
    "\n",
    "\n",
    "- Dans presque tout langage de programmation, la fin d'une instruction est marquée par un symbôle -- en général ; -- cependant, en Python ce n'est pas le cas, le retour à la ligne (enter) permet de séparer des instructions même si on peut quand même utiliser \";\". En règle général, on utilise des points virgules quand on souhaite séparer plusieurs instructions sur une même ligne de code comme cela à été fait ci-dessous. Quoi qu'il en soit ce n'est pas trop recommandé. Le Zen de Python nous invite à préférer l'explicite à l'implicite et une uniformisation de codage\n",
    "\n",
    "\n",
    "- En Python, si l'on souhaite qu'une seule et même instruction continue sur une même ligne, on peut utiliser l'antislash. Cependant, lorsqu'on écrit une expression il est possible d'aller à la ligne sans toutefois préciser le caractère d'échappement"
   ]
  },
  {
   "cell_type": "code",
   "execution_count": 4,
   "id": "4e318980",
   "metadata": {},
   "outputs": [
    {
     "data": {
      "text/plain": [
       "33"
      ]
     },
     "execution_count": 4,
     "metadata": {},
     "output_type": "execute_result"
    }
   ],
   "source": [
    "x = 1 + 2 + 4 +\\\n",
    "5 + 6 + 7 + 8 \n",
    "x"
   ]
  },
  {
   "cell_type": "code",
   "execution_count": 5,
   "id": "5aff301a",
   "metadata": {
    "scrolled": true
   },
   "outputs": [
    {
     "data": {
      "text/plain": [
       "33"
      ]
     },
     "execution_count": 5,
     "metadata": {},
     "output_type": "execute_result"
    }
   ],
   "source": [
    "x = (1 + 2 + 4 +\n",
    "5 + 6 + 7 + 8)\n",
    "x"
   ]
  },
  {
   "cell_type": "markdown",
   "id": "c6a27ce5",
   "metadata": {},
   "source": [
    "Beaucoup de manuel en Python recommande d'utiliser la dernière astuce !\n",
    "\n",
    "\n",
    "- En Python, l'espace blanc COMPTE, c'est cet espace qui permet de définir une indentation de codage et qui permet de limiter une instruction de flux de contrôle. Dans les conditions for...if...else... écrites ci-dessus, on peut remarquer qu'il y a un certain décalage qui est laissé juste après les deux points à la ligne, cela marque ce qu'on appelle une indentation et une indentation est conventionnellement formée de 4 SPACES que l'on peut reproduire avec la touche TAB.\n",
    "\n",
    "\n",
    "Vous êtes averti, ne vous amusez pas à saisir des espaces n'importe où en Python, l'interpréteur Python (pas iPython) vous renverra une erreur d'indentation : IndentationError !\n",
    "\n",
    "Notez aussi qu'en Python, une indentation de code est toujours précédée d'un deux points (:)"
   ]
  },
  {
   "cell_type": "markdown",
   "id": "9fbf7867",
   "metadata": {},
   "source": [
    "Nota : L'espace blanc sur une ligne qui commence par une instruction n'est pas important en Python. "
   ]
  },
  {
   "cell_type": "code",
   "execution_count": 10,
   "id": "44733fdf",
   "metadata": {},
   "outputs": [
    {
     "data": {
      "text/plain": [
       "16"
      ]
     },
     "execution_count": 10,
     "metadata": {},
     "output_type": "execute_result"
    }
   ],
   "source": [
    "x = 1                   +                  2   +3       + 10\n",
    "x"
   ]
  },
  {
   "cell_type": "markdown",
   "id": "e512b5bb",
   "metadata": {},
   "source": [
    "L'on peut volontairement abuser de cette règle pour rendre son code compréhensible"
   ]
  },
  {
   "cell_type": "code",
   "execution_count": 11,
   "id": "8b355f09",
   "metadata": {},
   "outputs": [
    {
     "data": {
      "text/plain": [
       "100"
      ]
     },
     "execution_count": 11,
     "metadata": {},
     "output_type": "execute_result"
    }
   ],
   "source": [
    "x=10**2\n",
    "x"
   ]
  },
  {
   "cell_type": "code",
   "execution_count": 12,
   "id": "7c84c7f1",
   "metadata": {},
   "outputs": [
    {
     "data": {
      "text/plain": [
       "100"
      ]
     },
     "execution_count": 12,
     "metadata": {},
     "output_type": "execute_result"
    }
   ],
   "source": [
    "x = 10 ** 2\n",
    "x"
   ]
  },
  {
   "cell_type": "markdown",
   "id": "d31d1258",
   "metadata": {},
   "source": [
    "Le second code est meilleur que le premier, car compréhensible.\n",
    "\n",
    "\n",
    "- L'usage des parenthèses en Python sert à deux choses : soit elle nous permet de grouper des expressions ou des opérations mathématiques soit elle intervient dans la définition des arguments d'une fonction. Dans notre tout premier exemple de code, l'usage des parenthèses peut s'aperçevoit sur la condition du if, mais aussi dans la déifnition des fonctions range et print"
   ]
  },
  {
   "cell_type": "markdown",
   "id": "b96f937f",
   "metadata": {},
   "source": [
    "# La sémantique de Python"
   ]
  },
  {
   "cell_type": "markdown",
   "id": "ff6db4ba",
   "metadata": {},
   "source": [
    "## Variables et objets"
   ]
  },
  {
   "cell_type": "markdown",
   "id": "0502afb8",
   "metadata": {},
   "source": [
    "### Les variables en Python sont des noms ou des références qui pointent vers un objet donné"
   ]
  },
  {
   "cell_type": "code",
   "execution_count": 18,
   "id": "ac6d970a",
   "metadata": {},
   "outputs": [],
   "source": [
    "x = 4"
   ]
  },
  {
   "cell_type": "code",
   "execution_count": 19,
   "id": "121b9b5b",
   "metadata": {},
   "outputs": [
    {
     "data": {
      "text/plain": [
       "4"
      ]
     },
     "execution_count": 19,
     "metadata": {},
     "output_type": "execute_result"
    }
   ],
   "source": [
    "x"
   ]
  },
  {
   "cell_type": "code",
   "execution_count": 14,
   "id": "52757274",
   "metadata": {},
   "outputs": [
    {
     "data": {
      "text/plain": [
       "9788704"
      ]
     },
     "execution_count": 14,
     "metadata": {},
     "output_type": "execute_result"
    }
   ],
   "source": [
    "id(4)"
   ]
  },
  {
   "cell_type": "code",
   "execution_count": 15,
   "id": "3a5e9102",
   "metadata": {},
   "outputs": [
    {
     "data": {
      "text/plain": [
       "9788704"
      ]
     },
     "execution_count": 15,
     "metadata": {},
     "output_type": "execute_result"
    }
   ],
   "source": [
    "id(x)"
   ]
  },
  {
   "cell_type": "code",
   "execution_count": 16,
   "id": "9a37c2a8",
   "metadata": {},
   "outputs": [],
   "source": [
    "y = 4"
   ]
  },
  {
   "cell_type": "code",
   "execution_count": 17,
   "id": "1c7a4f93",
   "metadata": {},
   "outputs": [
    {
     "data": {
      "text/plain": [
       "9788704"
      ]
     },
     "execution_count": 17,
     "metadata": {},
     "output_type": "execute_result"
    }
   ],
   "source": [
    "id(y)"
   ]
  },
  {
   "cell_type": "code",
   "execution_count": 20,
   "id": "e761645c",
   "metadata": {},
   "outputs": [],
   "source": [
    "y = 3"
   ]
  },
  {
   "cell_type": "code",
   "execution_count": 21,
   "id": "4ce3d730",
   "metadata": {},
   "outputs": [
    {
     "data": {
      "text/plain": [
       "9788672"
      ]
     },
     "execution_count": 21,
     "metadata": {},
     "output_type": "execute_result"
    }
   ],
   "source": [
    "id(3)"
   ]
  },
  {
   "cell_type": "code",
   "execution_count": 22,
   "id": "529ce1f8",
   "metadata": {},
   "outputs": [],
   "source": [
    "x = [1,2,3]"
   ]
  },
  {
   "cell_type": "code",
   "execution_count": 23,
   "id": "cb78f954",
   "metadata": {},
   "outputs": [
    {
     "data": {
      "text/plain": [
       "[1, 2, 3]"
      ]
     },
     "execution_count": 23,
     "metadata": {},
     "output_type": "execute_result"
    }
   ],
   "source": [
    "x"
   ]
  },
  {
   "cell_type": "code",
   "execution_count": 24,
   "id": "b198dfe7",
   "metadata": {},
   "outputs": [],
   "source": [
    "y = x"
   ]
  },
  {
   "cell_type": "code",
   "execution_count": 26,
   "id": "c5ce18ef",
   "metadata": {},
   "outputs": [
    {
     "name": "stdout",
     "output_type": "stream",
     "text": [
      "140142975848192\n",
      "140142976308672\n",
      "140142976308672\n"
     ]
    }
   ],
   "source": [
    "print(id(x))\n",
    "print(id(y))"
   ]
  },
  {
   "cell_type": "code",
   "execution_count": 27,
   "id": "b2a16fbb",
   "metadata": {},
   "outputs": [],
   "source": [
    "y[1] = y[2]*4"
   ]
  },
  {
   "cell_type": "code",
   "execution_count": 28,
   "id": "d5856a2d",
   "metadata": {},
   "outputs": [
    {
     "data": {
      "text/plain": [
       "[1, 12, 3]"
      ]
     },
     "execution_count": 28,
     "metadata": {},
     "output_type": "execute_result"
    }
   ],
   "source": [
    "y"
   ]
  },
  {
   "cell_type": "code",
   "execution_count": 29,
   "id": "f2fead12",
   "metadata": {},
   "outputs": [
    {
     "data": {
      "text/plain": [
       "140142976308672"
      ]
     },
     "execution_count": 29,
     "metadata": {},
     "output_type": "execute_result"
    }
   ],
   "source": [
    "id(y)"
   ]
  },
  {
   "cell_type": "code",
   "execution_count": 30,
   "id": "941bee7e",
   "metadata": {},
   "outputs": [
    {
     "data": {
      "text/plain": [
       "[1, 12, 3]"
      ]
     },
     "execution_count": 30,
     "metadata": {},
     "output_type": "execute_result"
    }
   ],
   "source": [
    "x"
   ]
  },
  {
   "cell_type": "code",
   "execution_count": 31,
   "id": "ccc772eb",
   "metadata": {},
   "outputs": [],
   "source": [
    "import numpy as np"
   ]
  },
  {
   "cell_type": "code",
   "execution_count": 32,
   "id": "86379d59",
   "metadata": {},
   "outputs": [],
   "source": [
    "M = np.array([[1,2,3],\n",
    "     [4,5,6],\n",
    "     [7,8,9]\n",
    "    ])"
   ]
  },
  {
   "cell_type": "code",
   "execution_count": 34,
   "id": "07e27e53",
   "metadata": {},
   "outputs": [],
   "source": [
    "N = M"
   ]
  },
  {
   "cell_type": "code",
   "execution_count": 35,
   "id": "7bb9650e",
   "metadata": {},
   "outputs": [
    {
     "data": {
      "text/plain": [
       "140142975903984"
      ]
     },
     "execution_count": 35,
     "metadata": {},
     "output_type": "execute_result"
    }
   ],
   "source": [
    "id(N)"
   ]
  },
  {
   "cell_type": "code",
   "execution_count": 36,
   "id": "ba4f5c6b",
   "metadata": {},
   "outputs": [
    {
     "data": {
      "text/plain": [
       "140142975903984"
      ]
     },
     "execution_count": 36,
     "metadata": {},
     "output_type": "execute_result"
    }
   ],
   "source": [
    "id(M)"
   ]
  },
  {
   "cell_type": "code",
   "execution_count": 38,
   "id": "70027ba7",
   "metadata": {},
   "outputs": [],
   "source": [
    "N[1,2] = 1000"
   ]
  },
  {
   "cell_type": "code",
   "execution_count": 40,
   "id": "928aa903",
   "metadata": {},
   "outputs": [
    {
     "data": {
      "text/plain": [
       "array([[   1,    2,    3],\n",
       "       [   4,    5, 1000],\n",
       "       [   7,    8,    9]])"
      ]
     },
     "execution_count": 40,
     "metadata": {},
     "output_type": "execute_result"
    }
   ],
   "source": [
    "M"
   ]
  },
  {
   "cell_type": "markdown",
   "id": "8b769300",
   "metadata": {},
   "source": [
    "### Tout est objet en Python\n",
    "\n",
    "Python est un langage de programmation orienté objet, c'est-à-dire qu'il traite du paradigme de développement objet, mais en plus de cela, en Python, tout ce que nous manipulons est objet ! Vraiment tout ! Les données, les fonctions ... tout est objet."
   ]
  },
  {
   "cell_type": "code",
   "execution_count": 42,
   "id": "d5e0253b",
   "metadata": {},
   "outputs": [],
   "source": [
    "l = [i**2 for i in range(10)]"
   ]
  },
  {
   "cell_type": "code",
   "execution_count": 43,
   "id": "c8ebfd85",
   "metadata": {},
   "outputs": [
    {
     "data": {
      "text/plain": [
       "[0, 1, 4, 9, 16, 25, 36, 49, 64, 81]"
      ]
     },
     "execution_count": 43,
     "metadata": {},
     "output_type": "execute_result"
    }
   ],
   "source": [
    "l"
   ]
  },
  {
   "cell_type": "code",
   "execution_count": 46,
   "id": "5db2dbe0",
   "metadata": {},
   "outputs": [],
   "source": [
    "l.remove(0)"
   ]
  },
  {
   "cell_type": "code",
   "execution_count": 47,
   "id": "fae0aeea",
   "metadata": {},
   "outputs": [
    {
     "data": {
      "text/plain": [
       "[1, 4, 9, 16, 25, 36, 49, 64, 81]"
      ]
     },
     "execution_count": 47,
     "metadata": {},
     "output_type": "execute_result"
    }
   ],
   "source": [
    "l"
   ]
  },
  {
   "cell_type": "markdown",
   "id": "c8d2da8d",
   "metadata": {},
   "source": [
    "## Opérateurs"
   ]
  },
  {
   "cell_type": "markdown",
   "id": "ecad578d",
   "metadata": {},
   "source": [
    "### Opérateurs arithmétiques de base"
   ]
  },
  {
   "cell_type": "markdown",
   "id": "057d0172",
   "metadata": {},
   "source": [
    "Python peut agir comme une calculatrice en mettant en oeuvre la plupart des opérations mathématiques de base"
   ]
  },
  {
   "cell_type": "code",
   "execution_count": 48,
   "id": "bc094b4a",
   "metadata": {},
   "outputs": [],
   "source": [
    "a = 5\n",
    "b = 9"
   ]
  },
  {
   "cell_type": "code",
   "execution_count": 49,
   "id": "3680e7ce",
   "metadata": {},
   "outputs": [
    {
     "data": {
      "text/plain": [
       "14"
      ]
     },
     "execution_count": 49,
     "metadata": {},
     "output_type": "execute_result"
    }
   ],
   "source": [
    "a + b"
   ]
  },
  {
   "cell_type": "code",
   "execution_count": 50,
   "id": "a7183993",
   "metadata": {},
   "outputs": [
    {
     "data": {
      "text/plain": [
       "-4"
      ]
     },
     "execution_count": 50,
     "metadata": {},
     "output_type": "execute_result"
    }
   ],
   "source": [
    "a - b"
   ]
  },
  {
   "cell_type": "code",
   "execution_count": 51,
   "id": "9b4c94e1",
   "metadata": {},
   "outputs": [
    {
     "data": {
      "text/plain": [
       "45"
      ]
     },
     "execution_count": 51,
     "metadata": {},
     "output_type": "execute_result"
    }
   ],
   "source": [
    "a * b"
   ]
  },
  {
   "cell_type": "code",
   "execution_count": 54,
   "id": "0aac588f",
   "metadata": {},
   "outputs": [
    {
     "data": {
      "text/plain": [
       "1.8"
      ]
     },
     "execution_count": 54,
     "metadata": {},
     "output_type": "execute_result"
    }
   ],
   "source": [
    "b / a"
   ]
  },
  {
   "cell_type": "code",
   "execution_count": 56,
   "id": "7f8e5b1a",
   "metadata": {},
   "outputs": [
    {
     "data": {
      "text/plain": [
       "1"
      ]
     },
     "execution_count": 56,
     "metadata": {},
     "output_type": "execute_result"
    }
   ],
   "source": [
    "b // a"
   ]
  },
  {
   "cell_type": "code",
   "execution_count": 57,
   "id": "1c624dab",
   "metadata": {},
   "outputs": [
    {
     "data": {
      "text/plain": [
       "4"
      ]
     },
     "execution_count": 57,
     "metadata": {},
     "output_type": "execute_result"
    }
   ],
   "source": [
    "b % a"
   ]
  },
  {
   "cell_type": "code",
   "execution_count": 58,
   "id": "47a3e047",
   "metadata": {},
   "outputs": [
    {
     "data": {
      "text/plain": [
       "59049"
      ]
     },
     "execution_count": 58,
     "metadata": {},
     "output_type": "execute_result"
    }
   ],
   "source": [
    "b ** a"
   ]
  },
  {
   "cell_type": "code",
   "execution_count": 59,
   "id": "f124c953",
   "metadata": {},
   "outputs": [
    {
     "data": {
      "text/plain": [
       "-5"
      ]
     },
     "execution_count": 59,
     "metadata": {},
     "output_type": "execute_result"
    }
   ],
   "source": [
    "-a"
   ]
  },
  {
   "cell_type": "code",
   "execution_count": 60,
   "id": "7291a17e",
   "metadata": {},
   "outputs": [
    {
     "data": {
      "text/plain": [
       "9"
      ]
     },
     "execution_count": 60,
     "metadata": {},
     "output_type": "execute_result"
    }
   ],
   "source": [
    "+b"
   ]
  },
  {
   "cell_type": "markdown",
   "id": "6e7b6f73",
   "metadata": {},
   "source": [
    "Ces opérations peuvent être combinés par des parenthèses pour en créer des plus complexe, nous l'avons déjà mentionné."
   ]
  },
  {
   "cell_type": "code",
   "execution_count": 61,
   "id": "8a486c58",
   "metadata": {},
   "outputs": [
    {
     "data": {
      "text/plain": [
       "20"
      ]
     },
     "execution_count": 61,
     "metadata": {},
     "output_type": "execute_result"
    }
   ],
   "source": [
    "(5 * 10) ** 2 // 120"
   ]
  },
  {
   "cell_type": "markdown",
   "id": "f5f06d70",
   "metadata": {},
   "source": [
    "Notez que ces opérateurs arithmétique de base peuvent souvent être étendue en faisant appelle à des bibliothèques de calcul numériques tels que Numpy qui viennent avec leur bagage d'opérateurs et de types d'objet"
   ]
  },
  {
   "cell_type": "markdown",
   "id": "e3b4c4bc",
   "metadata": {},
   "source": [
    "### Opérateurs de comparaison"
   ]
  },
  {
   "cell_type": "markdown",
   "id": "8d96bb82",
   "metadata": {},
   "source": [
    "Python implémente la plupart des opérateurs de comparaison de base : le ET, le OU, le NON, le XOR ..."
   ]
  },
  {
   "cell_type": "code",
   "execution_count": 62,
   "id": "b87b262a",
   "metadata": {},
   "outputs": [],
   "source": [
    "a = 5\n",
    "b = 9"
   ]
  },
  {
   "cell_type": "code",
   "execution_count": 86,
   "id": "d3f44cbd",
   "metadata": {},
   "outputs": [
    {
     "data": {
      "text/plain": [
       "False"
      ]
     },
     "execution_count": 86,
     "metadata": {},
     "output_type": "execute_result"
    }
   ],
   "source": [
    "a == b"
   ]
  },
  {
   "cell_type": "code",
   "execution_count": 87,
   "id": "a7e61122",
   "metadata": {},
   "outputs": [
    {
     "data": {
      "text/plain": [
       "True"
      ]
     },
     "execution_count": 87,
     "metadata": {},
     "output_type": "execute_result"
    }
   ],
   "source": [
    "a != b"
   ]
  },
  {
   "cell_type": "code",
   "execution_count": 88,
   "id": "b7c29864",
   "metadata": {},
   "outputs": [
    {
     "data": {
      "text/plain": [
       "True"
      ]
     },
     "execution_count": 88,
     "metadata": {},
     "output_type": "execute_result"
    }
   ],
   "source": [
    "a < b"
   ]
  },
  {
   "cell_type": "code",
   "execution_count": 89,
   "id": "cb7a0c58",
   "metadata": {},
   "outputs": [
    {
     "data": {
      "text/plain": [
       "False"
      ]
     },
     "execution_count": 89,
     "metadata": {},
     "output_type": "execute_result"
    }
   ],
   "source": [
    "a > b"
   ]
  },
  {
   "cell_type": "code",
   "execution_count": 90,
   "id": "8227cd53",
   "metadata": {},
   "outputs": [
    {
     "data": {
      "text/plain": [
       "True"
      ]
     },
     "execution_count": 90,
     "metadata": {},
     "output_type": "execute_result"
    }
   ],
   "source": [
    "a <= b"
   ]
  },
  {
   "cell_type": "code",
   "execution_count": 91,
   "id": "36288bac",
   "metadata": {},
   "outputs": [
    {
     "data": {
      "text/plain": [
       "False"
      ]
     },
     "execution_count": 91,
     "metadata": {},
     "output_type": "execute_result"
    }
   ],
   "source": [
    "a >= b"
   ]
  },
  {
   "cell_type": "code",
   "execution_count": 66,
   "id": "d7af8806",
   "metadata": {
    "scrolled": true
   },
   "outputs": [
    {
     "data": {
      "text/plain": [
       "False"
      ]
     },
     "execution_count": 66,
     "metadata": {},
     "output_type": "execute_result"
    }
   ],
   "source": [
    "(a & b) > 120"
   ]
  },
  {
   "cell_type": "code",
   "execution_count": 98,
   "id": "de76406c",
   "metadata": {},
   "outputs": [
    {
     "data": {
      "text/plain": [
       "False"
      ]
     },
     "execution_count": 98,
     "metadata": {},
     "output_type": "execute_result"
    }
   ],
   "source": [
    "(a and b) > 120"
   ]
  },
  {
   "cell_type": "code",
   "execution_count": 65,
   "id": "cdaf4d3f",
   "metadata": {},
   "outputs": [
    {
     "data": {
      "text/plain": [
       "True"
      ]
     },
     "execution_count": 65,
     "metadata": {},
     "output_type": "execute_result"
    }
   ],
   "source": [
    "(a | b) > 5"
   ]
  },
  {
   "cell_type": "code",
   "execution_count": 99,
   "id": "90b682e6",
   "metadata": {},
   "outputs": [
    {
     "data": {
      "text/plain": [
       "False"
      ]
     },
     "execution_count": 99,
     "metadata": {},
     "output_type": "execute_result"
    }
   ],
   "source": [
    "(a or b) > 5"
   ]
  },
  {
   "cell_type": "code",
   "execution_count": 69,
   "id": "28321284",
   "metadata": {},
   "outputs": [
    {
     "data": {
      "text/plain": [
       "False"
      ]
     },
     "execution_count": 69,
     "metadata": {},
     "output_type": "execute_result"
    }
   ],
   "source": [
    "(a ^ b) < 5"
   ]
  },
  {
   "cell_type": "code",
   "execution_count": 95,
   "id": "d2b82d9f",
   "metadata": {},
   "outputs": [
    {
     "data": {
      "text/plain": [
       "False"
      ]
     },
     "execution_count": 95,
     "metadata": {},
     "output_type": "execute_result"
    }
   ],
   "source": [
    "not a > -2"
   ]
  },
  {
   "cell_type": "markdown",
   "id": "11bd02d8",
   "metadata": {},
   "source": [
    "### Opérateurs d'assignation combiné"
   ]
  },
  {
   "cell_type": "code",
   "execution_count": 73,
   "id": "8c57ca53",
   "metadata": {},
   "outputs": [
    {
     "data": {
      "text/plain": [
       "7"
      ]
     },
     "execution_count": 73,
     "metadata": {},
     "output_type": "execute_result"
    }
   ],
   "source": [
    "a += 2\n",
    "a"
   ]
  },
  {
   "cell_type": "code",
   "execution_count": 74,
   "id": "ff1c447f",
   "metadata": {},
   "outputs": [
    {
     "data": {
      "text/plain": [
       "14"
      ]
     },
     "execution_count": 74,
     "metadata": {},
     "output_type": "execute_result"
    }
   ],
   "source": [
    "a *= 2\n",
    "a"
   ]
  },
  {
   "cell_type": "code",
   "execution_count": 76,
   "id": "536e8262",
   "metadata": {},
   "outputs": [
    {
     "data": {
      "text/plain": [
       "10"
      ]
     },
     "execution_count": 76,
     "metadata": {},
     "output_type": "execute_result"
    }
   ],
   "source": [
    "a -=2\n",
    "a"
   ]
  },
  {
   "cell_type": "code",
   "execution_count": 77,
   "id": "0a834105",
   "metadata": {},
   "outputs": [
    {
     "data": {
      "text/plain": [
       "5.0"
      ]
     },
     "execution_count": 77,
     "metadata": {},
     "output_type": "execute_result"
    }
   ],
   "source": [
    "a /= 2\n",
    "a"
   ]
  },
  {
   "cell_type": "code",
   "execution_count": 80,
   "id": "fee8657e",
   "metadata": {},
   "outputs": [
    {
     "data": {
      "text/plain": [
       "1.0"
      ]
     },
     "execution_count": 80,
     "metadata": {},
     "output_type": "execute_result"
    }
   ],
   "source": [
    "a //=2\n",
    "a"
   ]
  },
  {
   "cell_type": "code",
   "execution_count": 82,
   "id": "1261ce5b",
   "metadata": {},
   "outputs": [
    {
     "data": {
      "text/plain": [
       "1.0"
      ]
     },
     "execution_count": 82,
     "metadata": {},
     "output_type": "execute_result"
    }
   ],
   "source": [
    "a %= 2\n",
    "a"
   ]
  },
  {
   "cell_type": "code",
   "execution_count": 84,
   "id": "a52ec94a",
   "metadata": {},
   "outputs": [
    {
     "data": {
      "text/plain": [
       "1.0"
      ]
     },
     "execution_count": 84,
     "metadata": {},
     "output_type": "execute_result"
    }
   ],
   "source": [
    "a **= 2\n",
    "a"
   ]
  },
  {
   "cell_type": "code",
   "execution_count": 94,
   "id": "0bfab9c1",
   "metadata": {},
   "outputs": [
    {
     "data": {
      "text/plain": [
       "-11"
      ]
     },
     "execution_count": 94,
     "metadata": {},
     "output_type": "execute_result"
    }
   ],
   "source": [
    "~10"
   ]
  },
  {
   "cell_type": "code",
   "execution_count": 97,
   "id": "b0e1b9be",
   "metadata": {},
   "outputs": [
    {
     "data": {
      "text/plain": [
       "True"
      ]
     },
     "execution_count": 97,
     "metadata": {},
     "output_type": "execute_result"
    }
   ],
   "source": [
    "x = 4\n",
    "(x < 6) and (x > 2)"
   ]
  },
  {
   "cell_type": "markdown",
   "id": "8cb46d39",
   "metadata": {},
   "source": [
    "### Opérateurs d'identité de sous-membres"
   ]
  },
  {
   "cell_type": "code",
   "execution_count": 103,
   "id": "7b1d712d",
   "metadata": {},
   "outputs": [
    {
     "name": "stdout",
     "output_type": "stream",
     "text": [
      "False\n",
      "True\n",
      "True\n"
     ]
    }
   ],
   "source": [
    "#tester si deux objet sont identiques : identité d'objet pas de nom de variable\n",
    "a = 4 \n",
    "b = 9 \n",
    "\n",
    "print(a is b)\n",
    "\n",
    "x = 5\n",
    "y = 5\n",
    "\n",
    "print(x is y)\n",
    "\n",
    "print(a is not y)"
   ]
  },
  {
   "cell_type": "code",
   "execution_count": 106,
   "id": "d5f7fd21",
   "metadata": {},
   "outputs": [
    {
     "name": "stdout",
     "output_type": "stream",
     "text": [
      "True\n",
      "True\n"
     ]
    }
   ],
   "source": [
    "#tester si un élément se trouve dans un autre éléments : il faut que l'élément de droite soit itérable\n",
    "\n",
    "a = 4\n",
    "b = [i*2 for i in range(1, 11)]\n",
    "\n",
    "print(a in b)\n",
    "\n",
    "c = 1\n",
    "\n",
    "print(c not in b) "
   ]
  },
  {
   "cell_type": "code",
   "execution_count": 107,
   "id": "7b455436",
   "metadata": {},
   "outputs": [],
   "source": [
    "#attention is est différent de l'égalité !\n",
    "\n",
    "a = [1,2,3]\n",
    "b = [1,2,3]"
   ]
  },
  {
   "cell_type": "code",
   "execution_count": 108,
   "id": "583d1df2",
   "metadata": {},
   "outputs": [
    {
     "data": {
      "text/plain": [
       "True"
      ]
     },
     "execution_count": 108,
     "metadata": {},
     "output_type": "execute_result"
    }
   ],
   "source": [
    "a == b"
   ]
  },
  {
   "cell_type": "code",
   "execution_count": 109,
   "id": "f14fa21e",
   "metadata": {},
   "outputs": [
    {
     "data": {
      "text/plain": [
       "False"
      ]
     },
     "execution_count": 109,
     "metadata": {},
     "output_type": "execute_result"
    }
   ],
   "source": [
    "a is b"
   ]
  },
  {
   "cell_type": "code",
   "execution_count": 110,
   "id": "f66fbec4",
   "metadata": {},
   "outputs": [
    {
     "data": {
      "text/plain": [
       "140141779488576"
      ]
     },
     "execution_count": 110,
     "metadata": {},
     "output_type": "execute_result"
    }
   ],
   "source": [
    "id(a)"
   ]
  },
  {
   "cell_type": "code",
   "execution_count": 111,
   "id": "2b4eecb8",
   "metadata": {},
   "outputs": [
    {
     "data": {
      "text/plain": [
       "140141779346688"
      ]
     },
     "execution_count": 111,
     "metadata": {},
     "output_type": "execute_result"
    }
   ],
   "source": [
    "id(b)"
   ]
  },
  {
   "cell_type": "code",
   "execution_count": 112,
   "id": "5aa640df",
   "metadata": {},
   "outputs": [],
   "source": [
    "b[1] = 4"
   ]
  },
  {
   "cell_type": "code",
   "execution_count": 113,
   "id": "2b18cf08",
   "metadata": {},
   "outputs": [
    {
     "data": {
      "text/plain": [
       "[1, 2, 3]"
      ]
     },
     "execution_count": 113,
     "metadata": {},
     "output_type": "execute_result"
    }
   ],
   "source": [
    "a"
   ]
  },
  {
   "cell_type": "markdown",
   "id": "14660b6f",
   "metadata": {},
   "source": [
    "## Les types built-in de Python : les types simples"
   ]
  },
  {
   "cell_type": "markdown",
   "id": "c593cc19",
   "metadata": {},
   "source": [
    "#### int"
   ]
  },
  {
   "cell_type": "markdown",
   "id": "9d33e45b",
   "metadata": {},
   "source": [
    "Tout objet Python est typé et les types les plus simples sont : int, float, complex, bool et str\n",
    "\n",
    "Le type d'objet le plus simple et le plus utilisé c'est le type int, il concerne tous les nombres non décimaux. "
   ]
  },
  {
   "cell_type": "code",
   "execution_count": 118,
   "id": "9129349f",
   "metadata": {},
   "outputs": [
    {
     "data": {
      "text/plain": [
       "int"
      ]
     },
     "execution_count": 118,
     "metadata": {},
     "output_type": "execute_result"
    }
   ],
   "source": [
    "x = 1\n",
    "type(x)"
   ]
  },
  {
   "cell_type": "markdown",
   "id": "2f429503",
   "metadata": {},
   "source": [
    "Le type int en Python contient à la fois les entiers courts et les entiers longs."
   ]
  },
  {
   "cell_type": "code",
   "execution_count": 121,
   "id": "e0ecec42",
   "metadata": {},
   "outputs": [
    {
     "data": {
      "text/plain": [
       "1606938044258990275541962092341162602522202993782792835301376"
      ]
     },
     "execution_count": 121,
     "metadata": {},
     "output_type": "execute_result"
    }
   ],
   "source": [
    "long = 2 ** 200\n",
    "long"
   ]
  },
  {
   "cell_type": "code",
   "execution_count": 122,
   "id": "61176c03",
   "metadata": {},
   "outputs": [
    {
     "data": {
      "text/plain": [
       "int"
      ]
     },
     "execution_count": 122,
     "metadata": {},
     "output_type": "execute_result"
    }
   ],
   "source": [
    "type(long)"
   ]
  },
  {
   "cell_type": "markdown",
   "id": "7c8696da",
   "metadata": {},
   "source": [
    "A chaque type Python correspond un constructeur (c'est une fonction de construction) de ce type. Elle permet ausi de coincir un autre objet."
   ]
  },
  {
   "cell_type": "code",
   "execution_count": 119,
   "id": "38e83055",
   "metadata": {},
   "outputs": [
    {
     "data": {
      "text/plain": [
       "5"
      ]
     },
     "execution_count": 119,
     "metadata": {},
     "output_type": "execute_result"
    }
   ],
   "source": [
    "int(5)"
   ]
  },
  {
   "cell_type": "markdown",
   "id": "c9a99ab5",
   "metadata": {},
   "source": [
    "Il faut noter que la division de deux int en Python 3 ne revoit pas un entier mais un autre type d'objet que nous verons par la suite."
   ]
  },
  {
   "cell_type": "code",
   "execution_count": 127,
   "id": "f4f2d9df",
   "metadata": {},
   "outputs": [
    {
     "data": {
      "text/plain": [
       "2.0"
      ]
     },
     "execution_count": 127,
     "metadata": {},
     "output_type": "execute_result"
    }
   ],
   "source": [
    "4 / 2"
   ]
  },
  {
   "cell_type": "markdown",
   "id": "58737af1",
   "metadata": {},
   "source": [
    "#### float"
   ]
  },
  {
   "cell_type": "markdown",
   "id": "407e739c",
   "metadata": {},
   "source": [
    "Après le type entier, il existe le type qui gère les nombres à virgule : c'est le type float de Python. Il permet de gérer tout type nombre flottants. Typiquement, il s'agit du mode de stockages des nombres réels, rationnels, décimaux ..."
   ]
  },
  {
   "cell_type": "code",
   "execution_count": 123,
   "id": "42b9a300",
   "metadata": {},
   "outputs": [
    {
     "data": {
      "text/plain": [
       "float"
      ]
     },
     "execution_count": 123,
     "metadata": {},
     "output_type": "execute_result"
    }
   ],
   "source": [
    "y = 21.5\n",
    "type(y)"
   ]
  },
  {
   "cell_type": "markdown",
   "id": "9c991b40",
   "metadata": {},
   "source": [
    "Formellement, les flottants en Python s'écrive soit en notation normale soit en notation scientifique avec le \"e\"."
   ]
  },
  {
   "cell_type": "code",
   "execution_count": 125,
   "id": "4c838d79",
   "metadata": {},
   "outputs": [
    {
     "data": {
      "text/plain": [
       "21.5"
      ]
     },
     "execution_count": 125,
     "metadata": {},
     "output_type": "execute_result"
    }
   ],
   "source": [
    "y = 215e-1\n",
    "y"
   ]
  },
  {
   "cell_type": "code",
   "execution_count": 128,
   "id": "5757c957",
   "metadata": {},
   "outputs": [
    {
     "data": {
      "text/plain": [
       "float"
      ]
     },
     "execution_count": 128,
     "metadata": {},
     "output_type": "execute_result"
    }
   ],
   "source": [
    "type(y)"
   ]
  },
  {
   "cell_type": "markdown",
   "id": "a462a1cb",
   "metadata": {},
   "source": [
    "Il faut faire attention à la précision des float. En fait, le format d'affichage ne reflette pas forcement le contenant. En effet :"
   ]
  },
  {
   "cell_type": "code",
   "execution_count": 130,
   "id": "3ab00378",
   "metadata": {},
   "outputs": [
    {
     "data": {
      "text/plain": [
       "False"
      ]
     },
     "execution_count": 130,
     "metadata": {},
     "output_type": "execute_result"
    }
   ],
   "source": [
    "0.1 + 0.2 == 0.3"
   ]
  },
  {
   "cell_type": "markdown",
   "id": "35a10863",
   "metadata": {},
   "source": [
    "Pourquoi est-ce le cas ? Il s'avère que ce n'est pas un comportement propre à Python, mais qu'il est dû au format à précision fixe du stockage binaire à virgule flottante utilisé par la plupart, sinon la totalité, des plateformes de calcul scientifique. Tous les langages de programmation utilisant des nombres à virgule flottante les stockent dans un nombre fixe de bits, ce qui conduit à ce que certains nombres ne soient représentés qu'approximativement. \n",
    "\n",
    "Nous pouvons le constater en imprimant les trois valeurs en haute précision :"
   ]
  },
  {
   "cell_type": "code",
   "execution_count": 134,
   "id": "22f104ea",
   "metadata": {},
   "outputs": [
    {
     "name": "stdout",
     "output_type": "stream",
     "text": [
      "0.1 = 0.10000000000000001\n",
      "0.2 = 0.20000000000000001\n",
      "0.3 = 0.29999999999999999\n"
     ]
    }
   ],
   "source": [
    "print(\"0.1 = {0:.17f}\".format(0.1))\n",
    "print(\"0.2 = {0:.17f}\".format(0.2))\n",
    "print(\"0.3 = {0:.17f}\".format(0.3))"
   ]
  },
  {
   "cell_type": "markdown",
   "id": "298c422e",
   "metadata": {},
   "source": [
    "La meilleure façon d'y faire face est de toujours garder à l'esprit que l'arithmétique en virgule flottante est approximative et de ne jamais compter sur des tests d'égalité exacts avec des valeurs en virgule flottante. valeurs en virgule flottante."
   ]
  },
  {
   "cell_type": "markdown",
   "id": "49c50b22",
   "metadata": {},
   "source": [
    "### complex"
   ]
  },
  {
   "cell_type": "markdown",
   "id": "41dda8c6",
   "metadata": {},
   "source": [
    "Voyons à présent un type d'objet numérique moins utilisé en Python : c'est le type complex. Il permet de créer des objets de type nombres complexes, c'est-à-dire des nombres qui possèdent une partie réelle et une partie imaginaire."
   ]
  },
  {
   "cell_type": "code",
   "execution_count": 135,
   "id": "3832ef09",
   "metadata": {},
   "outputs": [
    {
     "data": {
      "text/plain": [
       "(1+2j)"
      ]
     },
     "execution_count": 135,
     "metadata": {},
     "output_type": "execute_result"
    }
   ],
   "source": [
    "#création d'un nombre complexe avec le constructeur\n",
    "complex(1, 2)"
   ]
  },
  {
   "cell_type": "code",
   "execution_count": 136,
   "id": "0973c023",
   "metadata": {},
   "outputs": [
    {
     "data": {
      "text/plain": [
       "(1+2j)"
      ]
     },
     "execution_count": 136,
     "metadata": {},
     "output_type": "execute_result"
    }
   ],
   "source": [
    "#définition d'un nombre complexe avec le suffixe j\n",
    "1 + 2j"
   ]
  },
  {
   "cell_type": "code",
   "execution_count": 137,
   "id": "654d275c",
   "metadata": {},
   "outputs": [],
   "source": [
    "#voyons les attributs et méthodes d'un objet complex\n",
    "c = 3 + 4j"
   ]
  },
  {
   "cell_type": "code",
   "execution_count": 138,
   "id": "be6cd977",
   "metadata": {},
   "outputs": [
    {
     "data": {
      "text/plain": [
       "3.0"
      ]
     },
     "execution_count": 138,
     "metadata": {},
     "output_type": "execute_result"
    }
   ],
   "source": [
    "#extraction de la partie réelle\n",
    "c.real"
   ]
  },
  {
   "cell_type": "code",
   "execution_count": 139,
   "id": "1189c33d",
   "metadata": {},
   "outputs": [
    {
     "data": {
      "text/plain": [
       "4.0"
      ]
     },
     "execution_count": 139,
     "metadata": {},
     "output_type": "execute_result"
    }
   ],
   "source": [
    "#extraction de la partie imaginaire\n",
    "c.imag"
   ]
  },
  {
   "cell_type": "code",
   "execution_count": 141,
   "id": "fb2b0ea0",
   "metadata": {},
   "outputs": [
    {
     "data": {
      "text/plain": [
       "(3-4j)"
      ]
     },
     "execution_count": 141,
     "metadata": {},
     "output_type": "execute_result"
    }
   ],
   "source": [
    "#calcul du conjugué de c\n",
    "c.conjugate()"
   ]
  },
  {
   "cell_type": "markdown",
   "id": "ce29110e",
   "metadata": {},
   "source": [
    "### string"
   ]
  },
  {
   "cell_type": "markdown",
   "id": "6f54f4b7",
   "metadata": {},
   "source": [
    "Abordons un type d'objet très utilisé dans les gestions des chaines de caractères, le type String. Il permet de gérer des caractères et des chaînes de caractères."
   ]
  },
  {
   "cell_type": "code",
   "execution_count": 142,
   "id": "9a7d9fae",
   "metadata": {},
   "outputs": [],
   "source": [
    "#création d'une chaine avec une double française\n",
    "nom = \"ESSOH\""
   ]
  },
  {
   "cell_type": "code",
   "execution_count": 143,
   "id": "cd042299",
   "metadata": {},
   "outputs": [
    {
     "data": {
      "text/plain": [
       "'ESSOH'"
      ]
     },
     "execution_count": 143,
     "metadata": {},
     "output_type": "execute_result"
    }
   ],
   "source": [
    "nom"
   ]
  },
  {
   "cell_type": "code",
   "execution_count": 144,
   "id": "bcec9e18",
   "metadata": {},
   "outputs": [],
   "source": [
    "#création d'une chaine avec une cote simple anglaise\n",
    "prenoms = 'Lasme Ephrem Dominique'"
   ]
  },
  {
   "cell_type": "code",
   "execution_count": 145,
   "id": "b0ec332b",
   "metadata": {},
   "outputs": [
    {
     "data": {
      "text/plain": [
       "'Lasme Ephrem Dominique'"
      ]
     },
     "execution_count": 145,
     "metadata": {},
     "output_type": "execute_result"
    }
   ],
   "source": [
    "prenoms"
   ]
  },
  {
   "cell_type": "markdown",
   "id": "a62224a6",
   "metadata": {},
   "source": [
    "Un objet string contient une multitude de méthodes comme on peut le voir :"
   ]
  },
  {
   "cell_type": "code",
   "execution_count": 147,
   "id": "2d87dda2",
   "metadata": {},
   "outputs": [
    {
     "data": {
      "text/plain": [
       "'essoh'"
      ]
     },
     "execution_count": 147,
     "metadata": {},
     "output_type": "execute_result"
    }
   ],
   "source": [
    "#mets la chaine en minuscule\n",
    "nom.lower()"
   ]
  },
  {
   "cell_type": "code",
   "execution_count": 148,
   "id": "3a98db64",
   "metadata": {},
   "outputs": [
    {
     "data": {
      "text/plain": [
       "'Lasme ephrem dominique'"
      ]
     },
     "execution_count": 148,
     "metadata": {},
     "output_type": "execute_result"
    }
   ],
   "source": [
    "#écris que la première lettre de la chaine en majuscule\n",
    "prenoms.capitalize()"
   ]
  },
  {
   "cell_type": "markdown",
   "id": "eeece056",
   "metadata": {},
   "source": [
    "Intuitvement, on peut réaliser des opérations arithmétiques sur de types int, float ou complex, car étant des types numériques, cependant cela est moins intuitifs avec les chaînes de caractères.\n",
    "\n",
    "\n",
    "Python nous permet cependant de mener de tels actions afin d'accomplir des tâches rapides sur les chaînes telles que la concatenation de chaine. La somme de chaine permet leur concatennation alors que la mutiplication permet une contatenation multiple"
   ]
  },
  {
   "cell_type": "code",
   "execution_count": 153,
   "id": "64703fbc",
   "metadata": {},
   "outputs": [
    {
     "data": {
      "text/plain": [
       "'ESSOHLasme Ephrem Dominique'"
      ]
     },
     "execution_count": 153,
     "metadata": {},
     "output_type": "execute_result"
    }
   ],
   "source": [
    "nom + prenoms"
   ]
  },
  {
   "cell_type": "code",
   "execution_count": 154,
   "id": "71f121f8",
   "metadata": {},
   "outputs": [
    {
     "data": {
      "text/plain": [
       "'ESSOH Lasme Ephrem Dominique'"
      ]
     },
     "execution_count": 154,
     "metadata": {},
     "output_type": "execute_result"
    }
   ],
   "source": [
    "nom + \" \" + prenoms"
   ]
  },
  {
   "cell_type": "code",
   "execution_count": 156,
   "id": "bfcd5aa5",
   "metadata": {},
   "outputs": [
    {
     "data": {
      "text/plain": [
       "str"
      ]
     },
     "execution_count": 156,
     "metadata": {},
     "output_type": "execute_result"
    }
   ],
   "source": [
    "#parce que \" \" est bien une chaine\n",
    "type(\" \")"
   ]
  },
  {
   "cell_type": "code",
   "execution_count": 159,
   "id": "9bd514d4",
   "metadata": {},
   "outputs": [
    {
     "data": {
      "text/plain": [
       "'ESSOHESSOH'"
      ]
     },
     "execution_count": 159,
     "metadata": {},
     "output_type": "execute_result"
    }
   ],
   "source": [
    "2 * nom"
   ]
  },
  {
   "cell_type": "markdown",
   "id": "1783d219",
   "metadata": {},
   "source": [
    "Pour compter le nombre de charactères d'une chaîne, on utilise la fonction len :"
   ]
  },
  {
   "cell_type": "code",
   "execution_count": 160,
   "id": "f746a4d7",
   "metadata": {},
   "outputs": [
    {
     "data": {
      "text/plain": [
       "22"
      ]
     },
     "execution_count": 160,
     "metadata": {},
     "output_type": "execute_result"
    }
   ],
   "source": [
    "len(prenoms)"
   ]
  },
  {
   "cell_type": "markdown",
   "id": "e774875d",
   "metadata": {},
   "source": [
    "D'alleurs, la fonction len permet de compter le contenu de tout objet qui est itérable, nous les verrons plus tard :"
   ]
  },
  {
   "cell_type": "code",
   "execution_count": 163,
   "id": "eb0b9366",
   "metadata": {},
   "outputs": [
    {
     "data": {
      "text/plain": [
       "10"
      ]
     },
     "execution_count": 163,
     "metadata": {},
     "output_type": "execute_result"
    }
   ],
   "source": [
    "len([i ** 2 for i in range(1, 11)])"
   ]
  },
  {
   "cell_type": "markdown",
   "id": "26d04d69",
   "metadata": {},
   "source": [
    "Au passage, une chaine de caractères est un objet itérable !"
   ]
  },
  {
   "cell_type": "code",
   "execution_count": 166,
   "id": "4f2c6b3d",
   "metadata": {},
   "outputs": [
    {
     "name": "stdout",
     "output_type": "stream",
     "text": [
      "['L', 'a', 's', 'm', 'e', ' ', 'E', 'p', 'h', 'r', 'e', 'm', ' ', 'D', 'o', 'm', 'i', 'n', 'i', 'q', 'u', 'e']\n",
      "sme Ephrem Dominique\n"
     ]
    }
   ],
   "source": [
    "#conversion d'une chaine de caractère en liste\n",
    "print([c for c in prenoms])\n",
    "print(prenoms[2:])"
   ]
  },
  {
   "cell_type": "markdown",
   "id": "8ccd875b",
   "metadata": {},
   "source": [
    "#### None"
   ]
  },
  {
   "cell_type": "markdown",
   "id": "4d1a0bdc",
   "metadata": {},
   "source": [
    "Il existe un type étrange en Python, qui est un objet qui ne contient rien ! C'est le type None. Exactement, ce type contient et ne peut contenir qu'une seule valeur : None."
   ]
  },
  {
   "cell_type": "code",
   "execution_count": 167,
   "id": "46baea57",
   "metadata": {},
   "outputs": [
    {
     "data": {
      "text/plain": [
       "NoneType"
      ]
     },
     "execution_count": 167,
     "metadata": {},
     "output_type": "execute_result"
    }
   ],
   "source": [
    "type(None)"
   ]
  },
  {
   "cell_type": "markdown",
   "id": "48ca27bf",
   "metadata": {},
   "source": [
    "Alors on pourrait se demander quel est l'utilité d'un tel objet, et bien il sert bien des cas. Par exemple, il souvent utilisé pour initialiser un objet qui sera utilisé par la suite dans une boucle. Il est aussi la valeur par défaut renvoyée par une fonction quand celle-ci ne retourne rien."
   ]
  },
  {
   "cell_type": "code",
   "execution_count": 168,
   "id": "46ea3519",
   "metadata": {},
   "outputs": [
    {
     "name": "stdout",
     "output_type": "stream",
     "text": [
      "Taper oui pour arrêter le programme ! non\n",
      "Taper oui pour arrêter le programme ! l\n",
      "Taper oui pour arrêter le programme ! m\n",
      "Taper oui pour arrêter le programme ! k\n",
      "Taper oui pour arrêter le programme ! \n",
      "Taper oui pour arrêter le programme ! o\n",
      "Taper oui pour arrêter le programme ! \n",
      "Taper oui pour arrêter le programme ! \n",
      "Taper oui pour arrêter le programme ! oui\n"
     ]
    }
   ],
   "source": [
    "#None en tant que initialisa\n",
    "\n",
    "reponse = None\n",
    "\n",
    "while reponse != \"oui\":\n",
    "    reponse = input(\"Taper oui pour arrêter le programme ! \")"
   ]
  },
  {
   "cell_type": "code",
   "execution_count": 170,
   "id": "6d334660",
   "metadata": {},
   "outputs": [
    {
     "data": {
      "text/plain": [
       "<function print>"
      ]
     },
     "execution_count": 170,
     "metadata": {},
     "output_type": "execute_result"
    }
   ],
   "source": [
    "#valeur de retour d'une fonction qui ne renvoie rien\n",
    "print"
   ]
  },
  {
   "cell_type": "markdown",
   "id": "217b2290",
   "metadata": {},
   "source": [
    "print est une fonction Python qui permet d'imprimer un objet, formelement, elle ne renvoie rien comme valeur !"
   ]
  },
  {
   "cell_type": "code",
   "execution_count": 171,
   "id": "fc645186",
   "metadata": {},
   "outputs": [
    {
     "name": "stdout",
     "output_type": "stream",
     "text": [
      "bonjour\n"
     ]
    }
   ],
   "source": [
    "message = print(\"bonjour\")"
   ]
  },
  {
   "cell_type": "code",
   "execution_count": 174,
   "id": "0fb31b89",
   "metadata": {},
   "outputs": [
    {
     "name": "stdout",
     "output_type": "stream",
     "text": [
      "None\n"
     ]
    }
   ],
   "source": [
    "print(message)"
   ]
  },
  {
   "cell_type": "markdown",
   "id": "b7d28643",
   "metadata": {},
   "source": [
    "#### bool"
   ]
  },
  {
   "cell_type": "markdown",
   "id": "6cc4d967",
   "metadata": {},
   "source": [
    "Etudions le dernier type simple le plus important de Python : le type bool ou booléen. C'est le type qui permet à Python d'appréhender des conditions logiques. Avec ce type Python sait reconnaître des True (1) des False (0). De fait, un objet bool ne peut prendre que deux états : soit True soit False."
   ]
  },
  {
   "cell_type": "code",
   "execution_count": 175,
   "id": "f10199c0",
   "metadata": {},
   "outputs": [
    {
     "data": {
      "text/plain": [
       "True"
      ]
     },
     "execution_count": 175,
     "metadata": {},
     "output_type": "execute_result"
    }
   ],
   "source": [
    "result = (4 < 5)\n",
    "result"
   ]
  },
  {
   "cell_type": "code",
   "execution_count": 176,
   "id": "723b889f",
   "metadata": {},
   "outputs": [
    {
     "data": {
      "text/plain": [
       "bool"
      ]
     },
     "execution_count": 176,
     "metadata": {},
     "output_type": "execute_result"
    }
   ],
   "source": [
    "type(result)"
   ]
  },
  {
   "cell_type": "markdown",
   "id": "b52d0837",
   "metadata": {},
   "source": [
    "Il faut bien remarquer que une valeur bool comme bien par une lettre majuscule ce qui peut différer des autres langages de programmation. Par exemple en R, True -> TRUE et Fasle -> FALSE\n",
    "\n",
    "\n",
    "Notons qu'on peut aussi utiliser le"
   ]
  },
  {
   "cell_type": "markdown",
   "id": "4f9a28aa",
   "metadata": {},
   "source": []
  },
  {
   "cell_type": "code",
   "execution_count": null,
   "id": "49ace87b",
   "metadata": {},
   "outputs": [],
   "source": []
  },
  {
   "cell_type": "code",
   "execution_count": null,
   "id": "719630b6",
   "metadata": {},
   "outputs": [],
   "source": []
  },
  {
   "cell_type": "code",
   "execution_count": null,
   "id": "1a8417d4",
   "metadata": {},
   "outputs": [],
   "source": []
  }
 ],
 "metadata": {
  "kernelspec": {
   "display_name": "Python 3 (ipykernel)",
   "language": "python",
   "name": "python3"
  },
  "language_info": {
   "codemirror_mode": {
    "name": "ipython",
    "version": 3
   },
   "file_extension": ".py",
   "mimetype": "text/x-python",
   "name": "python",
   "nbconvert_exporter": "python",
   "pygments_lexer": "ipython3",
   "version": "3.8.10"
  }
 },
 "nbformat": 4,
 "nbformat_minor": 5
}
