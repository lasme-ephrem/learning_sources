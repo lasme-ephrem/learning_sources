{
 "cells": [
  {
   "cell_type": "markdown",
   "id": "ecb4c2db",
   "metadata": {},
   "source": [
    "# Le Zen de Python"
   ]
  },
  {
   "cell_type": "code",
   "execution_count": 1,
   "id": "1b17d1c1",
   "metadata": {},
   "outputs": [
    {
     "name": "stdout",
     "output_type": "stream",
     "text": [
      "The Zen of Python, by Tim Peters\n",
      "\n",
      "Beautiful is better than ugly.\n",
      "Explicit is better than implicit.\n",
      "Simple is better than complex.\n",
      "Complex is better than complicated.\n",
      "Flat is better than nested.\n",
      "Sparse is better than dense.\n",
      "Readability counts.\n",
      "Special cases aren't special enough to break the rules.\n",
      "Although practicality beats purity.\n",
      "Errors should never pass silently.\n",
      "Unless explicitly silenced.\n",
      "In the face of ambiguity, refuse the temptation to guess.\n",
      "There should be one-- and preferably only one --obvious way to do it.\n",
      "Although that way may not be obvious at first unless you're Dutch.\n",
      "Now is better than never.\n",
      "Although never is often better than *right* now.\n",
      "If the implementation is hard to explain, it's a bad idea.\n",
      "If the implementation is easy to explain, it may be a good idea.\n",
      "Namespaces are one honking great idea -- let's do more of those!\n"
     ]
    }
   ],
   "source": [
    "import this"
   ]
  },
  {
   "cell_type": "markdown",
   "id": "f281b36e",
   "metadata": {},
   "source": [
    "# La syntaxe de Python"
   ]
  },
  {
   "cell_type": "code",
   "execution_count": 2,
   "id": "6b37a969",
   "metadata": {},
   "outputs": [
    {
     "name": "stdout",
     "output_type": "stream",
     "text": [
      "lower :  [0, 1, 2, 3, 4]\n",
      "upper :  [5, 6, 7, 8, 9]\n"
     ]
    }
   ],
   "source": [
    "# fixons le milieu\n",
    "midpoint = 5\n",
    "\n",
    "# créons deux listes vides\n",
    "lower = [] ; upper = []\n",
    "\n",
    "# séparons une liste de 10 nombre en plus pétit et plus grand par rapport au milieu\n",
    "for i in range(10):\n",
    "    if (i < midpoint):\n",
    "        lower.append(i)\n",
    "    else:\n",
    "        upper.append(i)\n",
    "\n",
    "print(\"lower : \", lower)\n",
    "print(\"upper : \", upper)"
   ]
  },
  {
   "cell_type": "markdown",
   "id": "ea74b3e4",
   "metadata": {},
   "source": [
    "Le script ci-dessus permet de comprendre quelque éléments de syntaxe du langage de programmation Python :\n",
    "- Les commentaires sur une ligne sont marqués par le symbôle # et ils ne sont jamais exécutés\n",
    "\n",
    "\n",
    "- Dans presque tout langage de programmation, la fin d'une instruction est marquée par un symbôle -- en général ; -- cependant, en Python ce n'est pas le cas, le retour à la ligne (enter) permet de séparer des instructions même si on peut quand même utiliser \";\". En règle général, on utilise des points virgules quand on souhaite séparer plusieurs instructions sur une même ligne de code comme cela à été fait ci-dessous. Quoi qu'il en soit ce n'est pas trop recommandé. Le Zen de Python nous invite à préférer l'explicite à l'implicite et une uniformisation de codage\n",
    "\n",
    "\n",
    "- En Python, si l'on souhaite qu'une seule et même instruction continue sur une même ligne, on peut utiliser l'antislash. Cependant, lorsqu'on écrit une expression il est possible d'aller à la ligne sans toutefois préciser le caractère d'échappement"
   ]
  },
  {
   "cell_type": "code",
   "execution_count": 4,
   "id": "7e1c052a",
   "metadata": {},
   "outputs": [
    {
     "data": {
      "text/plain": [
       "33"
      ]
     },
     "execution_count": 4,
     "metadata": {},
     "output_type": "execute_result"
    }
   ],
   "source": [
    "x = 1 + 2 + 4 +\\\n",
    "5 + 6 + 7 + 8 \n",
    "x"
   ]
  },
  {
   "cell_type": "code",
   "execution_count": 5,
   "id": "1f924a66",
   "metadata": {
    "scrolled": true
   },
   "outputs": [
    {
     "data": {
      "text/plain": [
       "33"
      ]
     },
     "execution_count": 5,
     "metadata": {},
     "output_type": "execute_result"
    }
   ],
   "source": [
    "x = (1 + 2 + 4 +\n",
    "5 + 6 + 7 + 8)\n",
    "x"
   ]
  },
  {
   "cell_type": "markdown",
   "id": "0108383f",
   "metadata": {},
   "source": [
    "Beaucoup de manuel en Python recommande d'utiliser la dernière astuce !\n",
    "\n",
    "\n",
    "- En Python, l'espace blanc COMPTE, c'est cet espace qui permet de définir une indentation de codage et qui permet de limiter une instruction de flux de contrôle. Dans les conditions for...if...else... écrites ci-dessus, on peut remarquer qu'il y a un certain décalage qui est laissé juste après les deux points à la ligne, cela marque ce qu'on appelle une indentation et une indentation est conventionnellement formée de 4 SPACES que l'on peut reproduire avec la touche TAB.\n",
    "\n",
    "\n",
    "Vous êtes averti, ne vous amusez pas à saisir des espaces n'importe où en Python, l'interpréteur Python (pas iPython) vous renverra une erreur d'indentation : IndentationError !\n",
    "\n",
    "Notez aussi qu'en Python, une indentation de code est toujours précédée d'un deux points (:)"
   ]
  },
  {
   "cell_type": "markdown",
   "id": "485f820a",
   "metadata": {},
   "source": [
    "Nota : L'espace blanc sur une ligne qui commence par une instruction n'est pas important en Python. "
   ]
  },
  {
   "cell_type": "code",
   "execution_count": 10,
   "id": "40187caf",
   "metadata": {},
   "outputs": [
    {
     "data": {
      "text/plain": [
       "16"
      ]
     },
     "execution_count": 10,
     "metadata": {},
     "output_type": "execute_result"
    }
   ],
   "source": [
    "x = 1                   +                  2   +3       + 10\n",
    "x"
   ]
  },
  {
   "cell_type": "markdown",
   "id": "6be246d7",
   "metadata": {},
   "source": [
    "L'on peut volontairement abuser de cette règle pour rendre son code compréhensible"
   ]
  },
  {
   "cell_type": "code",
   "execution_count": 11,
   "id": "23d6c277",
   "metadata": {},
   "outputs": [
    {
     "data": {
      "text/plain": [
       "100"
      ]
     },
     "execution_count": 11,
     "metadata": {},
     "output_type": "execute_result"
    }
   ],
   "source": [
    "x=10**2\n",
    "x"
   ]
  },
  {
   "cell_type": "code",
   "execution_count": 12,
   "id": "7df2124a",
   "metadata": {},
   "outputs": [
    {
     "data": {
      "text/plain": [
       "100"
      ]
     },
     "execution_count": 12,
     "metadata": {},
     "output_type": "execute_result"
    }
   ],
   "source": [
    "x = 10 ** 2\n",
    "x"
   ]
  },
  {
   "cell_type": "markdown",
   "id": "d822d55c",
   "metadata": {},
   "source": [
    "Le second code est meilleur que le premier, car compréhensible.\n",
    "\n",
    "\n",
    "- L'usage des parenthèses en Python sert à deux choses : soit elle nous permet de grouper des expressions ou des opérations mathématiques soit elle intervient dans la définition des arguments d'une fonction. Dans notre tout premier exemple de code, l'usage des parenthèses peut s'aperçevoit sur la condition du if, mais aussi dans la déifnition des fonctions range et print"
   ]
  },
  {
   "cell_type": "markdown",
   "id": "445f0169",
   "metadata": {},
   "source": [
    "# La sémantique de Python"
   ]
  },
  {
   "cell_type": "markdown",
   "id": "2b140574",
   "metadata": {},
   "source": [
    "## Variables et objets"
   ]
  },
  {
   "cell_type": "markdown",
   "id": "bcf8179c",
   "metadata": {},
   "source": [
    "### Les variables en Python sont des noms ou des références qui pointent vers un objet donné"
   ]
  },
  {
   "cell_type": "code",
   "execution_count": 18,
   "id": "5eba10a2",
   "metadata": {},
   "outputs": [],
   "source": [
    "x = 4"
   ]
  },
  {
   "cell_type": "code",
   "execution_count": 19,
   "id": "eed6b1b0",
   "metadata": {},
   "outputs": [
    {
     "data": {
      "text/plain": [
       "4"
      ]
     },
     "execution_count": 19,
     "metadata": {},
     "output_type": "execute_result"
    }
   ],
   "source": [
    "x"
   ]
  },
  {
   "cell_type": "code",
   "execution_count": 14,
   "id": "5595ec3b",
   "metadata": {},
   "outputs": [
    {
     "data": {
      "text/plain": [
       "9788704"
      ]
     },
     "execution_count": 14,
     "metadata": {},
     "output_type": "execute_result"
    }
   ],
   "source": [
    "id(4)"
   ]
  },
  {
   "cell_type": "code",
   "execution_count": 15,
   "id": "bf1f4136",
   "metadata": {},
   "outputs": [
    {
     "data": {
      "text/plain": [
       "9788704"
      ]
     },
     "execution_count": 15,
     "metadata": {},
     "output_type": "execute_result"
    }
   ],
   "source": [
    "id(x)"
   ]
  },
  {
   "cell_type": "code",
   "execution_count": 16,
   "id": "8e855e04",
   "metadata": {},
   "outputs": [],
   "source": [
    "y = 4"
   ]
  },
  {
   "cell_type": "code",
   "execution_count": 17,
   "id": "5acda191",
   "metadata": {},
   "outputs": [
    {
     "data": {
      "text/plain": [
       "9788704"
      ]
     },
     "execution_count": 17,
     "metadata": {},
     "output_type": "execute_result"
    }
   ],
   "source": [
    "id(y)"
   ]
  },
  {
   "cell_type": "code",
   "execution_count": 20,
   "id": "b8d0f070",
   "metadata": {},
   "outputs": [],
   "source": [
    "y = 3"
   ]
  },
  {
   "cell_type": "code",
   "execution_count": 21,
   "id": "6ee2f2c5",
   "metadata": {},
   "outputs": [
    {
     "data": {
      "text/plain": [
       "9788672"
      ]
     },
     "execution_count": 21,
     "metadata": {},
     "output_type": "execute_result"
    }
   ],
   "source": [
    "id(3)"
   ]
  },
  {
   "cell_type": "code",
   "execution_count": 22,
   "id": "ebda203a",
   "metadata": {},
   "outputs": [],
   "source": [
    "x = [1,2,3]"
   ]
  },
  {
   "cell_type": "code",
   "execution_count": 23,
   "id": "2bc35d15",
   "metadata": {},
   "outputs": [
    {
     "data": {
      "text/plain": [
       "[1, 2, 3]"
      ]
     },
     "execution_count": 23,
     "metadata": {},
     "output_type": "execute_result"
    }
   ],
   "source": [
    "x"
   ]
  },
  {
   "cell_type": "code",
   "execution_count": 24,
   "id": "f86f6231",
   "metadata": {},
   "outputs": [],
   "source": [
    "y = x"
   ]
  },
  {
   "cell_type": "code",
   "execution_count": 26,
   "id": "c684d749",
   "metadata": {},
   "outputs": [
    {
     "name": "stdout",
     "output_type": "stream",
     "text": [
      "140142975848192\n",
      "140142976308672\n",
      "140142976308672\n"
     ]
    }
   ],
   "source": [
    "print(id(x))\n",
    "print(id(y))"
   ]
  },
  {
   "cell_type": "code",
   "execution_count": 27,
   "id": "a85affb4",
   "metadata": {},
   "outputs": [],
   "source": [
    "y[1] = y[2]*4"
   ]
  },
  {
   "cell_type": "code",
   "execution_count": 28,
   "id": "fa992017",
   "metadata": {},
   "outputs": [
    {
     "data": {
      "text/plain": [
       "[1, 12, 3]"
      ]
     },
     "execution_count": 28,
     "metadata": {},
     "output_type": "execute_result"
    }
   ],
   "source": [
    "y"
   ]
  },
  {
   "cell_type": "code",
   "execution_count": 29,
   "id": "66ffefaa",
   "metadata": {},
   "outputs": [
    {
     "data": {
      "text/plain": [
       "140142976308672"
      ]
     },
     "execution_count": 29,
     "metadata": {},
     "output_type": "execute_result"
    }
   ],
   "source": [
    "id(y)"
   ]
  },
  {
   "cell_type": "code",
   "execution_count": 30,
   "id": "0afc9ed6",
   "metadata": {},
   "outputs": [
    {
     "data": {
      "text/plain": [
       "[1, 12, 3]"
      ]
     },
     "execution_count": 30,
     "metadata": {},
     "output_type": "execute_result"
    }
   ],
   "source": [
    "x"
   ]
  },
  {
   "cell_type": "code",
   "execution_count": 31,
   "id": "ffcd9eea",
   "metadata": {},
   "outputs": [],
   "source": [
    "import numpy as np"
   ]
  },
  {
   "cell_type": "code",
   "execution_count": 32,
   "id": "520c859c",
   "metadata": {},
   "outputs": [],
   "source": [
    "M = np.array([[1,2,3],\n",
    "     [4,5,6],\n",
    "     [7,8,9]\n",
    "    ])"
   ]
  },
  {
   "cell_type": "code",
   "execution_count": 34,
   "id": "4a4894c6",
   "metadata": {},
   "outputs": [],
   "source": [
    "N = M"
   ]
  },
  {
   "cell_type": "code",
   "execution_count": 35,
   "id": "6e76e056",
   "metadata": {},
   "outputs": [
    {
     "data": {
      "text/plain": [
       "140142975903984"
      ]
     },
     "execution_count": 35,
     "metadata": {},
     "output_type": "execute_result"
    }
   ],
   "source": [
    "id(N)"
   ]
  },
  {
   "cell_type": "code",
   "execution_count": 36,
   "id": "50428e2f",
   "metadata": {},
   "outputs": [
    {
     "data": {
      "text/plain": [
       "140142975903984"
      ]
     },
     "execution_count": 36,
     "metadata": {},
     "output_type": "execute_result"
    }
   ],
   "source": [
    "id(M)"
   ]
  },
  {
   "cell_type": "code",
   "execution_count": 38,
   "id": "b6e199b8",
   "metadata": {},
   "outputs": [],
   "source": [
    "N[1,2] = 1000"
   ]
  },
  {
   "cell_type": "code",
   "execution_count": 40,
   "id": "f75c77fd",
   "metadata": {},
   "outputs": [
    {
     "data": {
      "text/plain": [
       "array([[   1,    2,    3],\n",
       "       [   4,    5, 1000],\n",
       "       [   7,    8,    9]])"
      ]
     },
     "execution_count": 40,
     "metadata": {},
     "output_type": "execute_result"
    }
   ],
   "source": [
    "M"
   ]
  },
  {
   "cell_type": "markdown",
   "id": "921e44fe",
   "metadata": {},
   "source": [
    "### Tout est objet en Python\n",
    "\n",
    "Python est un langage de programmation orienté objet, c'est-à-dire qu'il traite du paradigme de développement objet, mais en plus de cela, en Python, tout ce que nous manipulons est objet ! Vraiment tout ! Les données, les fonctions ... tout est objet."
   ]
  },
  {
   "cell_type": "code",
   "execution_count": 42,
   "id": "2051b540",
   "metadata": {},
   "outputs": [],
   "source": [
    "l = [i**2 for i in range(10)]"
   ]
  },
  {
   "cell_type": "code",
   "execution_count": 43,
   "id": "f484898a",
   "metadata": {},
   "outputs": [
    {
     "data": {
      "text/plain": [
       "[0, 1, 4, 9, 16, 25, 36, 49, 64, 81]"
      ]
     },
     "execution_count": 43,
     "metadata": {},
     "output_type": "execute_result"
    }
   ],
   "source": [
    "l"
   ]
  },
  {
   "cell_type": "code",
   "execution_count": 46,
   "id": "cac8a3dc",
   "metadata": {},
   "outputs": [],
   "source": [
    "l.remove(0)"
   ]
  },
  {
   "cell_type": "code",
   "execution_count": 47,
   "id": "4705a3a6",
   "metadata": {},
   "outputs": [
    {
     "data": {
      "text/plain": [
       "[1, 4, 9, 16, 25, 36, 49, 64, 81]"
      ]
     },
     "execution_count": 47,
     "metadata": {},
     "output_type": "execute_result"
    }
   ],
   "source": [
    "l"
   ]
  },
  {
   "cell_type": "markdown",
   "id": "f88fbe4f",
   "metadata": {},
   "source": [
    "## Opérateurs"
   ]
  },
  {
   "cell_type": "markdown",
   "id": "17a4f1c2",
   "metadata": {},
   "source": [
    "### Opérateurs arithmétiques de base"
   ]
  },
  {
   "cell_type": "markdown",
   "id": "d587ed3b",
   "metadata": {},
   "source": [
    "Python peut agir comme une calculatrice en mettant en oeuvre la plupart des opérations mathématiques de base"
   ]
  },
  {
   "cell_type": "code",
   "execution_count": 48,
   "id": "23a4b3a3",
   "metadata": {},
   "outputs": [],
   "source": [
    "a = 5\n",
    "b = 9"
   ]
  },
  {
   "cell_type": "code",
   "execution_count": 49,
   "id": "41b51626",
   "metadata": {},
   "outputs": [
    {
     "data": {
      "text/plain": [
       "14"
      ]
     },
     "execution_count": 49,
     "metadata": {},
     "output_type": "execute_result"
    }
   ],
   "source": [
    "a + b"
   ]
  },
  {
   "cell_type": "code",
   "execution_count": 50,
   "id": "c19989c0",
   "metadata": {},
   "outputs": [
    {
     "data": {
      "text/plain": [
       "-4"
      ]
     },
     "execution_count": 50,
     "metadata": {},
     "output_type": "execute_result"
    }
   ],
   "source": [
    "a - b"
   ]
  },
  {
   "cell_type": "code",
   "execution_count": 51,
   "id": "95a9b68a",
   "metadata": {},
   "outputs": [
    {
     "data": {
      "text/plain": [
       "45"
      ]
     },
     "execution_count": 51,
     "metadata": {},
     "output_type": "execute_result"
    }
   ],
   "source": [
    "a * b"
   ]
  },
  {
   "cell_type": "code",
   "execution_count": 54,
   "id": "426cf404",
   "metadata": {},
   "outputs": [
    {
     "data": {
      "text/plain": [
       "1.8"
      ]
     },
     "execution_count": 54,
     "metadata": {},
     "output_type": "execute_result"
    }
   ],
   "source": [
    "b / a"
   ]
  },
  {
   "cell_type": "code",
   "execution_count": 56,
   "id": "b1d5402f",
   "metadata": {},
   "outputs": [
    {
     "data": {
      "text/plain": [
       "1"
      ]
     },
     "execution_count": 56,
     "metadata": {},
     "output_type": "execute_result"
    }
   ],
   "source": [
    "b // a"
   ]
  },
  {
   "cell_type": "code",
   "execution_count": 57,
   "id": "09deef3f",
   "metadata": {},
   "outputs": [
    {
     "data": {
      "text/plain": [
       "4"
      ]
     },
     "execution_count": 57,
     "metadata": {},
     "output_type": "execute_result"
    }
   ],
   "source": [
    "b % a"
   ]
  },
  {
   "cell_type": "code",
   "execution_count": 58,
   "id": "0c9972fa",
   "metadata": {},
   "outputs": [
    {
     "data": {
      "text/plain": [
       "59049"
      ]
     },
     "execution_count": 58,
     "metadata": {},
     "output_type": "execute_result"
    }
   ],
   "source": [
    "b ** a"
   ]
  },
  {
   "cell_type": "code",
   "execution_count": 59,
   "id": "1c673bcd",
   "metadata": {},
   "outputs": [
    {
     "data": {
      "text/plain": [
       "-5"
      ]
     },
     "execution_count": 59,
     "metadata": {},
     "output_type": "execute_result"
    }
   ],
   "source": [
    "-a"
   ]
  },
  {
   "cell_type": "code",
   "execution_count": 60,
   "id": "c7cf4f4d",
   "metadata": {},
   "outputs": [
    {
     "data": {
      "text/plain": [
       "9"
      ]
     },
     "execution_count": 60,
     "metadata": {},
     "output_type": "execute_result"
    }
   ],
   "source": [
    "+b"
   ]
  },
  {
   "cell_type": "markdown",
   "id": "9b9ecdb5",
   "metadata": {},
   "source": [
    "Ces opérations peuvent être combinés par des parenthèses pour en créer des plus complexe, nous l'avons déjà mentionné."
   ]
  },
  {
   "cell_type": "code",
   "execution_count": 61,
   "id": "1f3fe302",
   "metadata": {},
   "outputs": [
    {
     "data": {
      "text/plain": [
       "20"
      ]
     },
     "execution_count": 61,
     "metadata": {},
     "output_type": "execute_result"
    }
   ],
   "source": [
    "(5 * 10) ** 2 // 120"
   ]
  },
  {
   "cell_type": "markdown",
   "id": "c437b996",
   "metadata": {},
   "source": [
    "Notez que ces opérateurs arithmétique de base peuvent souvent être étendue en faisant appelle à des bibliothèques de calcul numériques tels que Numpy qui viennent avec leur bagage d'opérateurs et de types d'objet"
   ]
  },
  {
   "cell_type": "markdown",
   "id": "4bae0813",
   "metadata": {},
   "source": [
    "### Opérateurs de comparaison"
   ]
  },
  {
   "cell_type": "markdown",
   "id": "f464a58a",
   "metadata": {},
   "source": [
    "Python implémente la plupart des opérateurs de comparaison de base : le ET, le OU, le NON, le XOR ..."
   ]
  },
  {
   "cell_type": "code",
   "execution_count": 62,
   "id": "21bac36d",
   "metadata": {},
   "outputs": [],
   "source": [
    "a = 5\n",
    "b = 9"
   ]
  },
  {
   "cell_type": "code",
   "execution_count": 86,
   "id": "ad29cb40",
   "metadata": {},
   "outputs": [
    {
     "data": {
      "text/plain": [
       "False"
      ]
     },
     "execution_count": 86,
     "metadata": {},
     "output_type": "execute_result"
    }
   ],
   "source": [
    "a == b"
   ]
  },
  {
   "cell_type": "code",
   "execution_count": 87,
   "id": "b511caca",
   "metadata": {},
   "outputs": [
    {
     "data": {
      "text/plain": [
       "True"
      ]
     },
     "execution_count": 87,
     "metadata": {},
     "output_type": "execute_result"
    }
   ],
   "source": [
    "a != b"
   ]
  },
  {
   "cell_type": "code",
   "execution_count": 88,
   "id": "c696c498",
   "metadata": {},
   "outputs": [
    {
     "data": {
      "text/plain": [
       "True"
      ]
     },
     "execution_count": 88,
     "metadata": {},
     "output_type": "execute_result"
    }
   ],
   "source": [
    "a < b"
   ]
  },
  {
   "cell_type": "code",
   "execution_count": 89,
   "id": "53b20144",
   "metadata": {},
   "outputs": [
    {
     "data": {
      "text/plain": [
       "False"
      ]
     },
     "execution_count": 89,
     "metadata": {},
     "output_type": "execute_result"
    }
   ],
   "source": [
    "a > b"
   ]
  },
  {
   "cell_type": "code",
   "execution_count": 90,
   "id": "053cfbfa",
   "metadata": {},
   "outputs": [
    {
     "data": {
      "text/plain": [
       "True"
      ]
     },
     "execution_count": 90,
     "metadata": {},
     "output_type": "execute_result"
    }
   ],
   "source": [
    "a <= b"
   ]
  },
  {
   "cell_type": "code",
   "execution_count": 91,
   "id": "4e6a54ea",
   "metadata": {},
   "outputs": [
    {
     "data": {
      "text/plain": [
       "False"
      ]
     },
     "execution_count": 91,
     "metadata": {},
     "output_type": "execute_result"
    }
   ],
   "source": [
    "a >= b"
   ]
  },
  {
   "cell_type": "code",
   "execution_count": 66,
   "id": "083c101c",
   "metadata": {
    "scrolled": true
   },
   "outputs": [
    {
     "data": {
      "text/plain": [
       "False"
      ]
     },
     "execution_count": 66,
     "metadata": {},
     "output_type": "execute_result"
    }
   ],
   "source": [
    "(a & b) > 120"
   ]
  },
  {
   "cell_type": "code",
   "execution_count": 98,
   "id": "ef4b24f4",
   "metadata": {},
   "outputs": [
    {
     "data": {
      "text/plain": [
       "False"
      ]
     },
     "execution_count": 98,
     "metadata": {},
     "output_type": "execute_result"
    }
   ],
   "source": [
    "(a and b) > 120"
   ]
  },
  {
   "cell_type": "code",
   "execution_count": 65,
   "id": "0ffa553c",
   "metadata": {},
   "outputs": [
    {
     "data": {
      "text/plain": [
       "True"
      ]
     },
     "execution_count": 65,
     "metadata": {},
     "output_type": "execute_result"
    }
   ],
   "source": [
    "(a | b) > 5"
   ]
  },
  {
   "cell_type": "code",
   "execution_count": 99,
   "id": "0aa7aadc",
   "metadata": {},
   "outputs": [
    {
     "data": {
      "text/plain": [
       "False"
      ]
     },
     "execution_count": 99,
     "metadata": {},
     "output_type": "execute_result"
    }
   ],
   "source": [
    "(a or b) > 5"
   ]
  },
  {
   "cell_type": "code",
   "execution_count": 69,
   "id": "67f5b2d1",
   "metadata": {},
   "outputs": [
    {
     "data": {
      "text/plain": [
       "False"
      ]
     },
     "execution_count": 69,
     "metadata": {},
     "output_type": "execute_result"
    }
   ],
   "source": [
    "(a ^ b) < 5"
   ]
  },
  {
   "cell_type": "code",
   "execution_count": 95,
   "id": "0ed0d8b8",
   "metadata": {},
   "outputs": [
    {
     "data": {
      "text/plain": [
       "False"
      ]
     },
     "execution_count": 95,
     "metadata": {},
     "output_type": "execute_result"
    }
   ],
   "source": [
    "not a > -2"
   ]
  },
  {
   "cell_type": "markdown",
   "id": "196dbf8d",
   "metadata": {},
   "source": [
    "### Opérateurs d'assignation combiné"
   ]
  },
  {
   "cell_type": "code",
   "execution_count": 73,
   "id": "1ce7a621",
   "metadata": {},
   "outputs": [
    {
     "data": {
      "text/plain": [
       "7"
      ]
     },
     "execution_count": 73,
     "metadata": {},
     "output_type": "execute_result"
    }
   ],
   "source": [
    "a += 2\n",
    "a"
   ]
  },
  {
   "cell_type": "code",
   "execution_count": 74,
   "id": "3e5e0164",
   "metadata": {},
   "outputs": [
    {
     "data": {
      "text/plain": [
       "14"
      ]
     },
     "execution_count": 74,
     "metadata": {},
     "output_type": "execute_result"
    }
   ],
   "source": [
    "a *= 2\n",
    "a"
   ]
  },
  {
   "cell_type": "code",
   "execution_count": 76,
   "id": "7a7a06a3",
   "metadata": {},
   "outputs": [
    {
     "data": {
      "text/plain": [
       "10"
      ]
     },
     "execution_count": 76,
     "metadata": {},
     "output_type": "execute_result"
    }
   ],
   "source": [
    "a -=2\n",
    "a"
   ]
  },
  {
   "cell_type": "code",
   "execution_count": 77,
   "id": "115663e9",
   "metadata": {},
   "outputs": [
    {
     "data": {
      "text/plain": [
       "5.0"
      ]
     },
     "execution_count": 77,
     "metadata": {},
     "output_type": "execute_result"
    }
   ],
   "source": [
    "a /= 2\n",
    "a"
   ]
  },
  {
   "cell_type": "code",
   "execution_count": 80,
   "id": "5a1be122",
   "metadata": {},
   "outputs": [
    {
     "data": {
      "text/plain": [
       "1.0"
      ]
     },
     "execution_count": 80,
     "metadata": {},
     "output_type": "execute_result"
    }
   ],
   "source": [
    "a //=2\n",
    "a"
   ]
  },
  {
   "cell_type": "code",
   "execution_count": 82,
   "id": "c49f5677",
   "metadata": {},
   "outputs": [
    {
     "data": {
      "text/plain": [
       "1.0"
      ]
     },
     "execution_count": 82,
     "metadata": {},
     "output_type": "execute_result"
    }
   ],
   "source": [
    "a %= 2\n",
    "a"
   ]
  },
  {
   "cell_type": "code",
   "execution_count": 84,
   "id": "601ec8cb",
   "metadata": {},
   "outputs": [
    {
     "data": {
      "text/plain": [
       "1.0"
      ]
     },
     "execution_count": 84,
     "metadata": {},
     "output_type": "execute_result"
    }
   ],
   "source": [
    "a **= 2\n",
    "a"
   ]
  },
  {
   "cell_type": "code",
   "execution_count": 94,
   "id": "16e2db7e",
   "metadata": {},
   "outputs": [
    {
     "data": {
      "text/plain": [
       "-11"
      ]
     },
     "execution_count": 94,
     "metadata": {},
     "output_type": "execute_result"
    }
   ],
   "source": [
    "~10"
   ]
  },
  {
   "cell_type": "code",
   "execution_count": 97,
   "id": "6f771975",
   "metadata": {},
   "outputs": [
    {
     "data": {
      "text/plain": [
       "True"
      ]
     },
     "execution_count": 97,
     "metadata": {},
     "output_type": "execute_result"
    }
   ],
   "source": [
    "x = 4\n",
    "(x < 6) and (x > 2)"
   ]
  },
  {
   "cell_type": "markdown",
   "id": "30605d3a",
   "metadata": {},
   "source": [
    "### Opérateurs d'identité de sous-membres"
   ]
  },
  {
   "cell_type": "code",
   "execution_count": 103,
   "id": "9edf3001",
   "metadata": {},
   "outputs": [
    {
     "name": "stdout",
     "output_type": "stream",
     "text": [
      "False\n",
      "True\n",
      "True\n"
     ]
    }
   ],
   "source": [
    "#tester si deux objet sont identiques : identité d'objet pas de nom de variable\n",
    "a = 4 \n",
    "b = 9 \n",
    "\n",
    "print(a is b)\n",
    "\n",
    "x = 5\n",
    "y = 5\n",
    "\n",
    "print(x is y)\n",
    "\n",
    "print(a is not y)"
   ]
  },
  {
   "cell_type": "code",
   "execution_count": 106,
   "id": "0ab6f201",
   "metadata": {},
   "outputs": [
    {
     "name": "stdout",
     "output_type": "stream",
     "text": [
      "True\n",
      "True\n"
     ]
    }
   ],
   "source": [
    "#tester si un élément se trouve dans un autre éléments : il faut que l'élément de droite soit itérable\n",
    "\n",
    "a = 4\n",
    "b = [i*2 for i in range(1, 11)]\n",
    "\n",
    "print(a in b)\n",
    "\n",
    "c = 1\n",
    "\n",
    "print(c not in b) "
   ]
  },
  {
   "cell_type": "code",
   "execution_count": 107,
   "id": "df4feb6f",
   "metadata": {},
   "outputs": [],
   "source": [
    "#attention is est différent de l'égalité !\n",
    "\n",
    "a = [1,2,3]\n",
    "b = [1,2,3]"
   ]
  },
  {
   "cell_type": "code",
   "execution_count": 108,
   "id": "9ae2254b",
   "metadata": {},
   "outputs": [
    {
     "data": {
      "text/plain": [
       "True"
      ]
     },
     "execution_count": 108,
     "metadata": {},
     "output_type": "execute_result"
    }
   ],
   "source": [
    "a == b"
   ]
  },
  {
   "cell_type": "code",
   "execution_count": 109,
   "id": "918b5dc8",
   "metadata": {},
   "outputs": [
    {
     "data": {
      "text/plain": [
       "False"
      ]
     },
     "execution_count": 109,
     "metadata": {},
     "output_type": "execute_result"
    }
   ],
   "source": [
    "a is b"
   ]
  },
  {
   "cell_type": "code",
   "execution_count": 110,
   "id": "93b7c402",
   "metadata": {},
   "outputs": [
    {
     "data": {
      "text/plain": [
       "140141779488576"
      ]
     },
     "execution_count": 110,
     "metadata": {},
     "output_type": "execute_result"
    }
   ],
   "source": [
    "id(a)"
   ]
  },
  {
   "cell_type": "code",
   "execution_count": 111,
   "id": "98e9cd52",
   "metadata": {},
   "outputs": [
    {
     "data": {
      "text/plain": [
       "140141779346688"
      ]
     },
     "execution_count": 111,
     "metadata": {},
     "output_type": "execute_result"
    }
   ],
   "source": [
    "id(b)"
   ]
  },
  {
   "cell_type": "code",
   "execution_count": 112,
   "id": "a5ebdd14",
   "metadata": {},
   "outputs": [],
   "source": [
    "b[1] = 4"
   ]
  },
  {
   "cell_type": "code",
   "execution_count": 113,
   "id": "a68953c8",
   "metadata": {},
   "outputs": [
    {
     "data": {
      "text/plain": [
       "[1, 2, 3]"
      ]
     },
     "execution_count": 113,
     "metadata": {},
     "output_type": "execute_result"
    }
   ],
   "source": [
    "a"
   ]
  },
  {
   "cell_type": "markdown",
   "id": "ad4a7162",
   "metadata": {},
   "source": [
    "## Les types built-in de Python : les types de base"
   ]
  },
  {
   "cell_type": "markdown",
   "id": "94ea6bce",
   "metadata": {},
   "source": [
    "#### int"
   ]
  },
  {
   "cell_type": "markdown",
   "id": "a575ec37",
   "metadata": {},
   "source": [
    "Tout objet Python est typé et les types les plus simples sont : int, float, complex, bool et str\n",
    "\n",
    "Le type d'objet le plus simple et le plus utilisé c'est le type int, il concerne tous les nombres non décimaux. "
   ]
  },
  {
   "cell_type": "code",
   "execution_count": 118,
   "id": "d319c4cd",
   "metadata": {},
   "outputs": [
    {
     "data": {
      "text/plain": [
       "int"
      ]
     },
     "execution_count": 118,
     "metadata": {},
     "output_type": "execute_result"
    }
   ],
   "source": [
    "x = 1\n",
    "type(x)"
   ]
  },
  {
   "cell_type": "markdown",
   "id": "635cee87",
   "metadata": {},
   "source": [
    "Le type int en Python contient à la fois les entiers courts et les entiers longs."
   ]
  },
  {
   "cell_type": "code",
   "execution_count": 121,
   "id": "e499060e",
   "metadata": {},
   "outputs": [
    {
     "data": {
      "text/plain": [
       "1606938044258990275541962092341162602522202993782792835301376"
      ]
     },
     "execution_count": 121,
     "metadata": {},
     "output_type": "execute_result"
    }
   ],
   "source": [
    "long = 2 ** 200\n",
    "long"
   ]
  },
  {
   "cell_type": "code",
   "execution_count": 122,
   "id": "ad44fdf0",
   "metadata": {},
   "outputs": [
    {
     "data": {
      "text/plain": [
       "int"
      ]
     },
     "execution_count": 122,
     "metadata": {},
     "output_type": "execute_result"
    }
   ],
   "source": [
    "type(long)"
   ]
  },
  {
   "cell_type": "markdown",
   "id": "bc1390c0",
   "metadata": {},
   "source": [
    "A chaque type Python correspond un constructeur (c'est une fonction de construction) de ce type. Elle permet ausi de coincir un autre objet."
   ]
  },
  {
   "cell_type": "code",
   "execution_count": 119,
   "id": "b8a2a46a",
   "metadata": {},
   "outputs": [
    {
     "data": {
      "text/plain": [
       "5"
      ]
     },
     "execution_count": 119,
     "metadata": {},
     "output_type": "execute_result"
    }
   ],
   "source": [
    "int(5)"
   ]
  },
  {
   "cell_type": "markdown",
   "id": "e9c4c82e",
   "metadata": {},
   "source": [
    "Il faut noter que la division de deux int en Python 3 ne revoit pas un entier mais un autre type d'objet que nous verons par la suite."
   ]
  },
  {
   "cell_type": "code",
   "execution_count": 127,
   "id": "51fe9388",
   "metadata": {},
   "outputs": [
    {
     "data": {
      "text/plain": [
       "2.0"
      ]
     },
     "execution_count": 127,
     "metadata": {},
     "output_type": "execute_result"
    }
   ],
   "source": [
    "4 / 2"
   ]
  },
  {
   "cell_type": "markdown",
   "id": "fc161bce",
   "metadata": {},
   "source": [
    "#### float"
   ]
  },
  {
   "cell_type": "markdown",
   "id": "2bf6fe40",
   "metadata": {},
   "source": [
    "Après le type entier, il existe le type qui gère les nombres à virgule : c'est le type float de Python. Il permet de gérer tout type nombre flottants. Typiquement, il s'agit du mode de stockages des nombres réels, rationnels, décimaux ..."
   ]
  },
  {
   "cell_type": "code",
   "execution_count": 123,
   "id": "9f20f0cf",
   "metadata": {},
   "outputs": [
    {
     "data": {
      "text/plain": [
       "float"
      ]
     },
     "execution_count": 123,
     "metadata": {},
     "output_type": "execute_result"
    }
   ],
   "source": [
    "y = 21.5\n",
    "type(y)"
   ]
  },
  {
   "cell_type": "markdown",
   "id": "c577d11d",
   "metadata": {},
   "source": [
    "Formellement, les flottants en Python s'écrive soit en notation normale soit en notation scientifique avec le \"e\"."
   ]
  },
  {
   "cell_type": "code",
   "execution_count": 125,
   "id": "05518a0d",
   "metadata": {},
   "outputs": [
    {
     "data": {
      "text/plain": [
       "21.5"
      ]
     },
     "execution_count": 125,
     "metadata": {},
     "output_type": "execute_result"
    }
   ],
   "source": [
    "y = 215e-1\n",
    "y"
   ]
  },
  {
   "cell_type": "code",
   "execution_count": 128,
   "id": "e40ec554",
   "metadata": {},
   "outputs": [
    {
     "data": {
      "text/plain": [
       "float"
      ]
     },
     "execution_count": 128,
     "metadata": {},
     "output_type": "execute_result"
    }
   ],
   "source": [
    "type(y)"
   ]
  },
  {
   "cell_type": "markdown",
   "id": "21435f44",
   "metadata": {},
   "source": [
    "Il faut faire attention à la précision des float. En fait, le format d'affichage ne reflette pas forcement le contenant. En effet :"
   ]
  },
  {
   "cell_type": "code",
   "execution_count": 130,
   "id": "06276192",
   "metadata": {},
   "outputs": [
    {
     "data": {
      "text/plain": [
       "False"
      ]
     },
     "execution_count": 130,
     "metadata": {},
     "output_type": "execute_result"
    }
   ],
   "source": [
    "0.1 + 0.2 == 0.3"
   ]
  },
  {
   "cell_type": "markdown",
   "id": "3ca48d62",
   "metadata": {},
   "source": [
    "Pourquoi est-ce le cas ? Il s'avère que ce n'est pas un comportement propre à Python, mais qu'il est dû au format à précision fixe du stockage binaire à virgule flottante utilisé par la plupart, sinon la totalité, des plateformes de calcul scientifique. Tous les langages de programmation utilisant des nombres à virgule flottante les stockent dans un nombre fixe de bits, ce qui conduit à ce que certains nombres ne soient représentés qu'approximativement. \n",
    "\n",
    "Nous pouvons le constater en imprimant les trois valeurs en haute précision :"
   ]
  },
  {
   "cell_type": "code",
   "execution_count": 134,
   "id": "8f5e110d",
   "metadata": {},
   "outputs": [
    {
     "name": "stdout",
     "output_type": "stream",
     "text": [
      "0.1 = 0.10000000000000001\n",
      "0.2 = 0.20000000000000001\n",
      "0.3 = 0.29999999999999999\n"
     ]
    }
   ],
   "source": [
    "print(\"0.1 = {0:.17f}\".format(0.1))\n",
    "print(\"0.2 = {0:.17f}\".format(0.2))\n",
    "print(\"0.3 = {0:.17f}\".format(0.3))"
   ]
  },
  {
   "cell_type": "markdown",
   "id": "80e26c9a",
   "metadata": {},
   "source": [
    "La meilleure façon d'y faire face est de toujours garder à l'esprit que l'arithmétique en virgule flottante est approximative et de ne jamais compter sur des tests d'égalité exacts avec des valeurs en virgule flottante. valeurs en virgule flottante."
   ]
  },
  {
   "cell_type": "markdown",
   "id": "6ed6e304",
   "metadata": {},
   "source": [
    "### complex"
   ]
  },
  {
   "cell_type": "markdown",
   "id": "80ee286b",
   "metadata": {},
   "source": [
    "Voyons à présent un type d'objet numérique moins utilisé en Python : c'est le type complex. Il permet de créer des objets de type nombres complexes, c'est-à-dire des nombres qui possèdent une partie réelle et une partie imaginaire."
   ]
  },
  {
   "cell_type": "code",
   "execution_count": 135,
   "id": "c2d67786",
   "metadata": {},
   "outputs": [
    {
     "data": {
      "text/plain": [
       "(1+2j)"
      ]
     },
     "execution_count": 135,
     "metadata": {},
     "output_type": "execute_result"
    }
   ],
   "source": [
    "#création d'un nombre complexe avec le constructeur\n",
    "complex(1, 2)"
   ]
  },
  {
   "cell_type": "code",
   "execution_count": 136,
   "id": "607f5360",
   "metadata": {},
   "outputs": [
    {
     "data": {
      "text/plain": [
       "(1+2j)"
      ]
     },
     "execution_count": 136,
     "metadata": {},
     "output_type": "execute_result"
    }
   ],
   "source": [
    "#définition d'un nombre complexe avec le suffixe j\n",
    "1 + 2j"
   ]
  },
  {
   "cell_type": "code",
   "execution_count": 137,
   "id": "3c09e04d",
   "metadata": {},
   "outputs": [],
   "source": [
    "#voyons les attributs et méthodes d'un objet complex\n",
    "c = 3 + 4j"
   ]
  },
  {
   "cell_type": "code",
   "execution_count": 138,
   "id": "07ea2007",
   "metadata": {},
   "outputs": [
    {
     "data": {
      "text/plain": [
       "3.0"
      ]
     },
     "execution_count": 138,
     "metadata": {},
     "output_type": "execute_result"
    }
   ],
   "source": [
    "#extraction de la partie réelle\n",
    "c.real"
   ]
  },
  {
   "cell_type": "code",
   "execution_count": 139,
   "id": "6e23853e",
   "metadata": {},
   "outputs": [
    {
     "data": {
      "text/plain": [
       "4.0"
      ]
     },
     "execution_count": 139,
     "metadata": {},
     "output_type": "execute_result"
    }
   ],
   "source": [
    "#extraction de la partie imaginaire\n",
    "c.imag"
   ]
  },
  {
   "cell_type": "code",
   "execution_count": 141,
   "id": "7057a449",
   "metadata": {},
   "outputs": [
    {
     "data": {
      "text/plain": [
       "(3-4j)"
      ]
     },
     "execution_count": 141,
     "metadata": {},
     "output_type": "execute_result"
    }
   ],
   "source": [
    "#calcul du conjugué de c\n",
    "c.conjugate()"
   ]
  },
  {
   "cell_type": "markdown",
   "id": "01f403ea",
   "metadata": {},
   "source": [
    "### string"
   ]
  },
  {
   "cell_type": "markdown",
   "id": "1fb2fa31",
   "metadata": {},
   "source": [
    "Abordons un type d'objet très utilisé dans les gestions des chaines de caractères, le type String. Il permet de gérer des caractères et des chaînes de caractères."
   ]
  },
  {
   "cell_type": "code",
   "execution_count": 142,
   "id": "b196f1e8",
   "metadata": {},
   "outputs": [],
   "source": [
    "#création d'une chaine avec une double française\n",
    "nom = \"ESSOH\""
   ]
  },
  {
   "cell_type": "code",
   "execution_count": 143,
   "id": "e0986205",
   "metadata": {},
   "outputs": [
    {
     "data": {
      "text/plain": [
       "'ESSOH'"
      ]
     },
     "execution_count": 143,
     "metadata": {},
     "output_type": "execute_result"
    }
   ],
   "source": [
    "nom"
   ]
  },
  {
   "cell_type": "code",
   "execution_count": 144,
   "id": "2c87826d",
   "metadata": {},
   "outputs": [],
   "source": [
    "#création d'une chaine avec une cote simple anglaise\n",
    "prenoms = 'Lasme Ephrem Dominique'"
   ]
  },
  {
   "cell_type": "code",
   "execution_count": 145,
   "id": "35ecf278",
   "metadata": {},
   "outputs": [
    {
     "data": {
      "text/plain": [
       "'Lasme Ephrem Dominique'"
      ]
     },
     "execution_count": 145,
     "metadata": {},
     "output_type": "execute_result"
    }
   ],
   "source": [
    "prenoms"
   ]
  },
  {
   "cell_type": "markdown",
   "id": "0043a34e",
   "metadata": {},
   "source": [
    "Un objet string contient une multitude de méthodes comme on peut le voir :"
   ]
  },
  {
   "cell_type": "code",
   "execution_count": 147,
   "id": "65dc5b53",
   "metadata": {},
   "outputs": [
    {
     "data": {
      "text/plain": [
       "'essoh'"
      ]
     },
     "execution_count": 147,
     "metadata": {},
     "output_type": "execute_result"
    }
   ],
   "source": [
    "#mets la chaine en minuscule\n",
    "nom.lower()"
   ]
  },
  {
   "cell_type": "code",
   "execution_count": 148,
   "id": "046442cb",
   "metadata": {},
   "outputs": [
    {
     "data": {
      "text/plain": [
       "'Lasme ephrem dominique'"
      ]
     },
     "execution_count": 148,
     "metadata": {},
     "output_type": "execute_result"
    }
   ],
   "source": [
    "#écris que la première lettre de la chaine en majuscule\n",
    "prenoms.capitalize()"
   ]
  },
  {
   "cell_type": "markdown",
   "id": "357e2eb4",
   "metadata": {},
   "source": [
    "Intuitvement, on peut réaliser des opérations arithmétiques sur de types int, float ou complex, car étant des types numériques, cependant cela est moins intuitifs avec les chaînes de caractères.\n",
    "\n",
    "\n",
    "Python nous permet cependant de mener de tels actions afin d'accomplir des tâches rapides sur les chaînes telles que la concatenation de chaine. La somme de chaine permet leur concatennation alors que la mutiplication permet une contatenation multiple"
   ]
  },
  {
   "cell_type": "code",
   "execution_count": 153,
   "id": "cabc956f",
   "metadata": {},
   "outputs": [
    {
     "data": {
      "text/plain": [
       "'ESSOHLasme Ephrem Dominique'"
      ]
     },
     "execution_count": 153,
     "metadata": {},
     "output_type": "execute_result"
    }
   ],
   "source": [
    "nom + prenoms"
   ]
  },
  {
   "cell_type": "code",
   "execution_count": 154,
   "id": "2247a41a",
   "metadata": {},
   "outputs": [
    {
     "data": {
      "text/plain": [
       "'ESSOH Lasme Ephrem Dominique'"
      ]
     },
     "execution_count": 154,
     "metadata": {},
     "output_type": "execute_result"
    }
   ],
   "source": [
    "nom + \" \" + prenoms"
   ]
  },
  {
   "cell_type": "code",
   "execution_count": 156,
   "id": "4bf57d6b",
   "metadata": {},
   "outputs": [
    {
     "data": {
      "text/plain": [
       "str"
      ]
     },
     "execution_count": 156,
     "metadata": {},
     "output_type": "execute_result"
    }
   ],
   "source": [
    "#parce que \" \" est bien une chaine\n",
    "type(\" \")"
   ]
  },
  {
   "cell_type": "code",
   "execution_count": 159,
   "id": "3bf65633",
   "metadata": {},
   "outputs": [
    {
     "data": {
      "text/plain": [
       "'ESSOHESSOH'"
      ]
     },
     "execution_count": 159,
     "metadata": {},
     "output_type": "execute_result"
    }
   ],
   "source": [
    "2 * nom"
   ]
  },
  {
   "cell_type": "markdown",
   "id": "da1638a4",
   "metadata": {},
   "source": [
    "Pour compter le nombre de charactères d'une chaîne, on utilise la fonction len :"
   ]
  },
  {
   "cell_type": "code",
   "execution_count": 160,
   "id": "6abbb80a",
   "metadata": {},
   "outputs": [
    {
     "data": {
      "text/plain": [
       "22"
      ]
     },
     "execution_count": 160,
     "metadata": {},
     "output_type": "execute_result"
    }
   ],
   "source": [
    "len(prenoms)"
   ]
  },
  {
   "cell_type": "markdown",
   "id": "36708519",
   "metadata": {},
   "source": [
    "D'alleurs, la fonction len permet de compter le contenu de tout objet qui est itérable, nous les verrons plus tard :"
   ]
  },
  {
   "cell_type": "code",
   "execution_count": 163,
   "id": "60594216",
   "metadata": {},
   "outputs": [
    {
     "data": {
      "text/plain": [
       "10"
      ]
     },
     "execution_count": 163,
     "metadata": {},
     "output_type": "execute_result"
    }
   ],
   "source": [
    "len([i ** 2 for i in range(1, 11)])"
   ]
  },
  {
   "cell_type": "markdown",
   "id": "4ba13ac9",
   "metadata": {},
   "source": [
    "Au passage, une chaine de caractères est un objet itérable !"
   ]
  },
  {
   "cell_type": "code",
   "execution_count": 166,
   "id": "5f56b337",
   "metadata": {},
   "outputs": [
    {
     "name": "stdout",
     "output_type": "stream",
     "text": [
      "['L', 'a', 's', 'm', 'e', ' ', 'E', 'p', 'h', 'r', 'e', 'm', ' ', 'D', 'o', 'm', 'i', 'n', 'i', 'q', 'u', 'e']\n",
      "sme Ephrem Dominique\n"
     ]
    }
   ],
   "source": [
    "#conversion d'une chaine de caractère en liste\n",
    "print([c for c in prenoms])\n",
    "print(prenoms[2:])"
   ]
  },
  {
   "cell_type": "markdown",
   "id": "a6c9ecf2",
   "metadata": {},
   "source": [
    "#### None"
   ]
  },
  {
   "cell_type": "markdown",
   "id": "6098bdf2",
   "metadata": {},
   "source": [
    "Il existe un type étrange en Python, qui est un objet qui ne contient rien ! C'est le type None. Exactement, ce type contient et ne peut contenir qu'une seule valeur : None."
   ]
  },
  {
   "cell_type": "code",
   "execution_count": 167,
   "id": "76ba6a4c",
   "metadata": {},
   "outputs": [
    {
     "data": {
      "text/plain": [
       "NoneType"
      ]
     },
     "execution_count": 167,
     "metadata": {},
     "output_type": "execute_result"
    }
   ],
   "source": [
    "type(None)"
   ]
  },
  {
   "cell_type": "markdown",
   "id": "813ad842",
   "metadata": {},
   "source": [
    "Alors on pourrait se demander quel est l'utilité d'un tel objet, et bien il sert bien des cas. Par exemple, il souvent utilisé pour initialiser un objet qui sera utilisé par la suite dans une boucle. Il est aussi la valeur par défaut renvoyée par une fonction quand celle-ci ne retourne rien."
   ]
  },
  {
   "cell_type": "code",
   "execution_count": 168,
   "id": "f7e9457e",
   "metadata": {},
   "outputs": [
    {
     "name": "stdout",
     "output_type": "stream",
     "text": [
      "Taper oui pour arrêter le programme ! non\n",
      "Taper oui pour arrêter le programme ! l\n",
      "Taper oui pour arrêter le programme ! m\n",
      "Taper oui pour arrêter le programme ! k\n",
      "Taper oui pour arrêter le programme ! \n",
      "Taper oui pour arrêter le programme ! o\n",
      "Taper oui pour arrêter le programme ! \n",
      "Taper oui pour arrêter le programme ! \n",
      "Taper oui pour arrêter le programme ! oui\n"
     ]
    }
   ],
   "source": [
    "#None en tant que initialisa\n",
    "\n",
    "reponse = None\n",
    "\n",
    "while reponse != \"oui\":\n",
    "    reponse = input(\"Taper oui pour arrêter le programme ! \")"
   ]
  },
  {
   "cell_type": "code",
   "execution_count": 170,
   "id": "55507280",
   "metadata": {},
   "outputs": [
    {
     "data": {
      "text/plain": [
       "<function print>"
      ]
     },
     "execution_count": 170,
     "metadata": {},
     "output_type": "execute_result"
    }
   ],
   "source": [
    "#valeur de retour d'une fonction qui ne renvoie rien\n",
    "print"
   ]
  },
  {
   "cell_type": "markdown",
   "id": "c3d9593a",
   "metadata": {},
   "source": [
    "print est une fonction Python qui permet d'imprimer un objet, formelement, elle ne renvoie rien comme valeur !"
   ]
  },
  {
   "cell_type": "code",
   "execution_count": 171,
   "id": "21c11c09",
   "metadata": {},
   "outputs": [
    {
     "name": "stdout",
     "output_type": "stream",
     "text": [
      "bonjour\n"
     ]
    }
   ],
   "source": [
    "message = print(\"bonjour\")"
   ]
  },
  {
   "cell_type": "code",
   "execution_count": 174,
   "id": "5393a954",
   "metadata": {},
   "outputs": [
    {
     "name": "stdout",
     "output_type": "stream",
     "text": [
      "None\n"
     ]
    }
   ],
   "source": [
    "print(message)"
   ]
  },
  {
   "cell_type": "markdown",
   "id": "2db5ab64",
   "metadata": {},
   "source": [
    "#### bool"
   ]
  },
  {
   "cell_type": "markdown",
   "id": "ce5621fe",
   "metadata": {},
   "source": [
    "Etudions le dernier type simple le plus important de Python : le type bool ou booléen. C'est le type qui permet à Python d'appréhender des conditions logiques. Avec ce type Python sait reconnaître des True (1) des False (0). De fait, un objet bool ne peut prendre que deux états : soit True soit False."
   ]
  },
  {
   "cell_type": "code",
   "execution_count": 175,
   "id": "32a08550",
   "metadata": {},
   "outputs": [
    {
     "data": {
      "text/plain": [
       "True"
      ]
     },
     "execution_count": 175,
     "metadata": {},
     "output_type": "execute_result"
    }
   ],
   "source": [
    "result = (4 < 5)\n",
    "result"
   ]
  },
  {
   "cell_type": "code",
   "execution_count": 176,
   "id": "dc57252d",
   "metadata": {},
   "outputs": [
    {
     "data": {
      "text/plain": [
       "bool"
      ]
     },
     "execution_count": 176,
     "metadata": {},
     "output_type": "execute_result"
    }
   ],
   "source": [
    "type(result)"
   ]
  },
  {
   "cell_type": "markdown",
   "id": "2b4ead16",
   "metadata": {},
   "source": [
    "Il faut bien remarquer que une valeur bool comme bien par une lettre majuscule ce qui peut différer des autres langages de programmation. Par exemple en R, True -> TRUE et Fasle -> FALSE\n",
    "\n",
    "\n",
    "Notons qu'on peut aussi utiliser le constructeur bool pour créer un objet booléen en Python. Appliqué sur un type numérique, ce constructeur renvoie toujours True si le nombre envoyé en paramètre est différent de 0. Par contre, sur une chaine bool renvoie toujours True sauf pour la chaine vide \"\". Enfin, bool appliqué à None est toujours False."
   ]
  },
  {
   "cell_type": "code",
   "execution_count": 177,
   "id": "f6221104",
   "metadata": {},
   "outputs": [
    {
     "data": {
      "text/plain": [
       "True"
      ]
     },
     "execution_count": 177,
     "metadata": {},
     "output_type": "execute_result"
    }
   ],
   "source": [
    "bool(2014)"
   ]
  },
  {
   "cell_type": "code",
   "execution_count": 178,
   "id": "09624ea2",
   "metadata": {},
   "outputs": [
    {
     "data": {
      "text/plain": [
       "True"
      ]
     },
     "execution_count": 178,
     "metadata": {},
     "output_type": "execute_result"
    }
   ],
   "source": [
    "bool(-1)"
   ]
  },
  {
   "cell_type": "code",
   "execution_count": 179,
   "id": "83eaaeb3",
   "metadata": {},
   "outputs": [
    {
     "data": {
      "text/plain": [
       "False"
      ]
     },
     "execution_count": 179,
     "metadata": {},
     "output_type": "execute_result"
    }
   ],
   "source": [
    "bool(0)"
   ]
  },
  {
   "cell_type": "code",
   "execution_count": 180,
   "id": "1bf38f33",
   "metadata": {},
   "outputs": [
    {
     "data": {
      "text/plain": [
       "True"
      ]
     },
     "execution_count": 180,
     "metadata": {},
     "output_type": "execute_result"
    }
   ],
   "source": [
    "bool(\"abc\")"
   ]
  },
  {
   "cell_type": "code",
   "execution_count": 181,
   "id": "11a7b50a",
   "metadata": {},
   "outputs": [
    {
     "data": {
      "text/plain": [
       "False"
      ]
     },
     "execution_count": 181,
     "metadata": {},
     "output_type": "execute_result"
    }
   ],
   "source": [
    "bool(\"\")"
   ]
  },
  {
   "cell_type": "code",
   "execution_count": 182,
   "id": "81b1d07c",
   "metadata": {},
   "outputs": [
    {
     "data": {
      "text/plain": [
       "False"
      ]
     },
     "execution_count": 182,
     "metadata": {},
     "output_type": "execute_result"
    }
   ],
   "source": [
    "bool(None)"
   ]
  },
  {
   "cell_type": "markdown",
   "id": "d351bbb5",
   "metadata": {},
   "source": [
    "Recaptitulons sur les types d'objet simples en Python : "
   ]
  },
  {
   "cell_type": "code",
   "execution_count": 192,
   "id": "a339cdcd",
   "metadata": {},
   "outputs": [
    {
     "data": {
      "text/html": [
       "<div>\n",
       "<style scoped>\n",
       "    .dataframe tbody tr th:only-of-type {\n",
       "        vertical-align: middle;\n",
       "    }\n",
       "\n",
       "    .dataframe tbody tr th {\n",
       "        vertical-align: top;\n",
       "    }\n",
       "\n",
       "    .dataframe thead th {\n",
       "        text-align: right;\n",
       "    }\n",
       "</style>\n",
       "<table border=\"1\" class=\"dataframe\">\n",
       "  <thead>\n",
       "    <tr style=\"text-align: right;\">\n",
       "      <th></th>\n",
       "      <th>Type d'objet</th>\n",
       "      <th>Description</th>\n",
       "      <th>Constructeur</th>\n",
       "    </tr>\n",
       "  </thead>\n",
       "  <tbody>\n",
       "    <tr>\n",
       "      <th>0</th>\n",
       "      <td>int</td>\n",
       "      <td>Nombres entiers courts ou longs</td>\n",
       "      <td>int()</td>\n",
       "    </tr>\n",
       "    <tr>\n",
       "      <th>1</th>\n",
       "      <td>float</td>\n",
       "      <td>Nombres à virgules</td>\n",
       "      <td>float()</td>\n",
       "    </tr>\n",
       "    <tr>\n",
       "      <th>2</th>\n",
       "      <td>complex</td>\n",
       "      <td>Nombres complexes</td>\n",
       "      <td>complex()</td>\n",
       "    </tr>\n",
       "    <tr>\n",
       "      <th>3</th>\n",
       "      <td>str</td>\n",
       "      <td>Etats booléens</td>\n",
       "      <td>bool()</td>\n",
       "    </tr>\n",
       "    <tr>\n",
       "      <th>4</th>\n",
       "      <td>bool</td>\n",
       "      <td>Chaines de caractères</td>\n",
       "      <td>str()</td>\n",
       "    </tr>\n",
       "  </tbody>\n",
       "</table>\n",
       "</div>"
      ],
      "text/plain": [
       "  Type d'objet                      Description Constructeur\n",
       "0          int  Nombres entiers courts ou longs        int()\n",
       "1        float               Nombres à virgules      float()\n",
       "2      complex                Nombres complexes    complex()\n",
       "3          str                   Etats booléens       bool()\n",
       "4         bool            Chaines de caractères        str()"
      ]
     },
     "execution_count": 192,
     "metadata": {},
     "output_type": "execute_result"
    }
   ],
   "source": [
    "import pandas as pd\n",
    "\n",
    "data = {\"Type d'objet\" : [\"int\", \"float\", \"complex\", \"str\", \"bool\"] , \n",
    "        'Description' : [\"Nombres entiers courts ou longs\", \"Nombres à virgules\", \"Nombres complexes\", \"Etats booléens\", \"Chaines de caractères\"], \n",
    "        'Constructeur' : [\"int()\", \"float()\", \"complex()\", \"bool()\", \"str()\"]}\n",
    "\n",
    "pd.DataFrame(data)"
   ]
  },
  {
   "cell_type": "markdown",
   "id": "aea348a0",
   "metadata": {},
   "source": [
    "## Les types built-in de Python : les types composés ou conteneurs ou itérables ou types de données"
   ]
  },
  {
   "cell_type": "markdown",
   "id": "a664f8ef",
   "metadata": {},
   "source": [
    "Les différents types que nous venons d'étudier sont les 5 types d'objets canoniques de Python. Avec ces types, on en construit des types plus élaborés pour diverses raisons. Les types que nous construisons à partir des types simples ou de bases sont appélés des types conteneurs ou des structures de données. Python en contient un certain nombre, mais il existe également des packages hors Python qui permettent d'en ajouter d'autre types conteneurs très utiles : on en a déjà utilisé un - Pandas !\n",
    "\n",
    "Par définition, un type composé est un type itérable, c'est-à-dire qu'on peut parcourir ses éléments au travers d'une boucle. Mais, lorsqu'on dispose d'un type composé, on cherche, en plus, à savoir s'il est modifiable(mutable) ou sujette à extraction de ses éléments(indexation ou sliceable)."
   ]
  },
  {
   "cell_type": "markdown",
   "id": "572bad42",
   "metadata": {},
   "source": [
    "#### list"
   ]
  },
  {
   "cell_type": "markdown",
   "id": "e67e78e2",
   "metadata": {},
   "source": [
    "Le premier type que nous étudierons est très populaire de la communauté Python. C'est le type list. C'est un type qui permet de stocker différents objets, de même types ou non, suivant un ordre bien spécifique et modifiable formant ainsi une liste d'objets.\n",
    "\n",
    "\n",
    "Une liste est : itérable, mutable, indexable/sliceable est ses valeurs sont positionnées suivant des indexes bien ordonnés.\n",
    "\n",
    "\n",
    "Voici par exemple une liste contenant l'âge, le nom, la taille et le statut droitier ou pas d'une personne :"
   ]
  },
  {
   "cell_type": "code",
   "execution_count": 232,
   "id": "b9b76b6f",
   "metadata": {},
   "outputs": [
    {
     "data": {
      "text/plain": [
       "[24, 'ESSOH', 1.8, True]"
      ]
     },
     "execution_count": 232,
     "metadata": {},
     "output_type": "execute_result"
    }
   ],
   "source": [
    "L = [24, \"ESSOH\", 1.80, True]\n",
    "L"
   ]
  },
  {
   "cell_type": "code",
   "execution_count": 269,
   "id": "928afd66",
   "metadata": {},
   "outputs": [
    {
     "data": {
      "text/plain": [
       "list"
      ]
     },
     "execution_count": 269,
     "metadata": {},
     "output_type": "execute_result"
    }
   ],
   "source": [
    "type(L)"
   ]
  },
  {
   "cell_type": "markdown",
   "id": "3f8822c9",
   "metadata": {},
   "source": [
    "Voci une autre liste contenant les nombres premiers compris entre 0 et 10 :"
   ]
  },
  {
   "cell_type": "code",
   "execution_count": 233,
   "id": "bd6b74fd",
   "metadata": {},
   "outputs": [
    {
     "data": {
      "text/plain": [
       "[2, 3, 5, 7]"
      ]
     },
     "execution_count": 233,
     "metadata": {},
     "output_type": "execute_result"
    }
   ],
   "source": [
    "P = [2, 3, 5, 7]\n",
    "P"
   ]
  },
  {
   "cell_type": "markdown",
   "id": "04d4176a",
   "metadata": {},
   "source": [
    "On peut mesure la longueur de n'importe quel objet itérable avec la fonction len. Celle-ci renvoie le nombre d'objets (par abus éléments) que contient l'objet conteneur. Par exemple la liste L contient 4 objets :"
   ]
  },
  {
   "cell_type": "code",
   "execution_count": 250,
   "id": "5c47222f",
   "metadata": {},
   "outputs": [
    {
     "data": {
      "text/plain": [
       "4"
      ]
     },
     "execution_count": 250,
     "metadata": {},
     "output_type": "execute_result"
    }
   ],
   "source": [
    "len(L)"
   ]
  },
  {
   "cell_type": "markdown",
   "id": "bafd8c99",
   "metadata": {},
   "source": [
    "Voyons quelques méthodes que l'on pourrait appliquer sur une liste :"
   ]
  },
  {
   "cell_type": "code",
   "execution_count": 234,
   "id": "7bf28c0c",
   "metadata": {},
   "outputs": [
    {
     "data": {
      "text/plain": [
       "[2, 3, 5, 7, 11]"
      ]
     },
     "execution_count": 234,
     "metadata": {},
     "output_type": "execute_result"
    }
   ],
   "source": [
    "#ajouter un élément à une liste\n",
    "P.append(11)\n",
    "P"
   ]
  },
  {
   "cell_type": "code",
   "execution_count": 235,
   "id": "b31a74ae",
   "metadata": {},
   "outputs": [
    {
     "data": {
      "text/plain": [
       "[11, 7, 5, 3, 2]"
      ]
     },
     "execution_count": 235,
     "metadata": {},
     "output_type": "execute_result"
    }
   ],
   "source": [
    "#renverser l'ordre des éléments d'une liste\n",
    "P.reverse()\n",
    "P"
   ]
  },
  {
   "cell_type": "code",
   "execution_count": 236,
   "id": "55d13765",
   "metadata": {},
   "outputs": [
    {
     "data": {
      "text/plain": [
       "[2, 3, 5, 7, 11]"
      ]
     },
     "execution_count": 236,
     "metadata": {},
     "output_type": "execute_result"
    }
   ],
   "source": [
    "#ordonner les valeurs d'une liste\n",
    "P.sort()\n",
    "P"
   ]
  },
  {
   "cell_type": "markdown",
   "id": "7eb352ab",
   "metadata": {},
   "source": [
    "Il existe tout comme les chaines de caractères des stratégies de concaténation de deux listes avec l'opération d'addition et de multiplication : "
   ]
  },
  {
   "cell_type": "code",
   "execution_count": 237,
   "id": "412635b4",
   "metadata": {},
   "outputs": [
    {
     "data": {
      "text/plain": [
       "[24, 'ESSOH', 1.8, True, 2, 3, 5, 7, 11]"
      ]
     },
     "execution_count": 237,
     "metadata": {},
     "output_type": "execute_result"
    }
   ],
   "source": [
    "#concatener deux listes\n",
    "L + P"
   ]
  },
  {
   "cell_type": "code",
   "execution_count": 238,
   "id": "40d4b9a7",
   "metadata": {},
   "outputs": [
    {
     "data": {
      "text/plain": [
       "[2, 3, 5, 7, 11, 2, 3, 5, 7, 11]"
      ]
     },
     "execution_count": 238,
     "metadata": {},
     "output_type": "execute_result"
    }
   ],
   "source": [
    "#démultiplier les éléments d'une liste\n",
    "2 * P"
   ]
  },
  {
   "cell_type": "markdown",
   "id": "5fb39913",
   "metadata": {},
   "source": [
    "Insistons une fois de plus qu'une liste est un conteneur d'objets et peut donc contenir tout type d'objet. On peut même contruire des listes de listes ou des listes d'autres choses. En voici des exemples :"
   ]
  },
  {
   "cell_type": "code",
   "execution_count": 239,
   "id": "2720d8de",
   "metadata": {},
   "outputs": [
    {
     "data": {
      "text/plain": [
       "[1, 2, [3, 4, 5], [[2, 3, 4], 6]]"
      ]
     },
     "execution_count": 239,
     "metadata": {},
     "output_type": "execute_result"
    }
   ],
   "source": [
    "#un exemple de liste de liste\n",
    "LL = [1, 2, [3,4,5], [[2,3,4], 6]]\n",
    "LL"
   ]
  },
  {
   "cell_type": "code",
   "execution_count": 240,
   "id": "147354f1",
   "metadata": {},
   "outputs": [
    {
     "data": {
      "text/plain": [
       "[  Type d'objet                      Description Constructeur\n",
       " 0          int  Nombres entiers courts ou longs        int()\n",
       " 1        float               Nombres à virgules      float()\n",
       " 2      complex                Nombres complexes    complex()\n",
       " 3          str                   Etats booléens       bool()\n",
       " 4         bool            Chaines de caractères        str(),\n",
       " array([[   1,    2,    3],\n",
       "        [   4,    5, 1000],\n",
       "        [   7,    8,    9]])]"
      ]
     },
     "execution_count": 240,
     "metadata": {},
     "output_type": "execute_result"
    }
   ],
   "source": [
    "#un exemple de liste contenant un data frame et un array numpy\n",
    "LLL = [pd.DataFrame(data) , M]\n",
    "LLL"
   ]
  },
  {
   "cell_type": "markdown",
   "id": "800548d4",
   "metadata": {},
   "source": [
    "Abordons à présent un point très important sur les objets itérables tels qu'une liste : l'indexinfg et le slicing. L'indexing et le slicing, c'est la capacité de sélectionner  des sous-éléments d'un objet Python itérable. On peut ainsi en extraire un seul élément, deux ou même des multitudes de sous éléments. \n",
    "\n",
    "Pour sélectionner on utiliser les crochet : \n",
    "- [numero_d_index] pour l'indexing\n",
    "- [numero_index_debut : numero_index_fin] pour le sclicing"
   ]
  },
  {
   "cell_type": "code",
   "execution_count": 241,
   "id": "221a9dc5",
   "metadata": {},
   "outputs": [
    {
     "name": "stdout",
     "output_type": "stream",
     "text": [
      "[24, 'ESSOH', 1.8, True]\n"
     ]
    },
    {
     "data": {
      "text/plain": [
       "'ESSOH'"
      ]
     },
     "execution_count": 241,
     "metadata": {},
     "output_type": "execute_result"
    }
   ],
   "source": [
    "#sélection d'un élément à un emplacement d'indice bien spécifique\n",
    "#c'est l'indexing\n",
    "print(L)\n",
    "L[1]"
   ]
  },
  {
   "cell_type": "markdown",
   "id": "feb78faf",
   "metadata": {},
   "source": [
    "Attention l'indexation commence à partir de ZERO de la gauche vers la droite de MOINS UN de la droite vers la gauche."
   ]
  },
  {
   "cell_type": "code",
   "execution_count": 242,
   "id": "5baefdc1",
   "metadata": {},
   "outputs": [
    {
     "data": {
      "text/plain": [
       "True"
      ]
     },
     "execution_count": 242,
     "metadata": {},
     "output_type": "execute_result"
    }
   ],
   "source": [
    "#un autre exemple d'indexing mais de la droite vers la gauche\n",
    "L[-1]"
   ]
  },
  {
   "cell_type": "code",
   "execution_count": 243,
   "id": "6509b2da",
   "metadata": {},
   "outputs": [
    {
     "data": {
      "text/plain": [
       "[1, 2, [3, 4, 5], [[2, 3, 4], 6]]"
      ]
     },
     "execution_count": 243,
     "metadata": {},
     "output_type": "execute_result"
    }
   ],
   "source": [
    "#séléction multiple : c'est le slicing\n",
    "LL"
   ]
  },
  {
   "cell_type": "code",
   "execution_count": 244,
   "id": "a67fa419",
   "metadata": {},
   "outputs": [
    {
     "data": {
      "text/plain": [
       "[2, [3, 4, 5]]"
      ]
     },
     "execution_count": 244,
     "metadata": {},
     "output_type": "execute_result"
    }
   ],
   "source": [
    "#slicing 1\n",
    "LL[1:3]"
   ]
  },
  {
   "cell_type": "code",
   "execution_count": 245,
   "id": "c68bd949",
   "metadata": {},
   "outputs": [
    {
     "data": {
      "text/plain": [
       "[1, 2, [3, 4, 5]]"
      ]
     },
     "execution_count": 245,
     "metadata": {},
     "output_type": "execute_result"
    }
   ],
   "source": [
    "#slicing 2\n",
    "LL[:3]"
   ]
  },
  {
   "cell_type": "code",
   "execution_count": 246,
   "id": "c32447c6",
   "metadata": {},
   "outputs": [
    {
     "data": {
      "text/plain": [
       "[2, [3, 4, 5]]"
      ]
     },
     "execution_count": 246,
     "metadata": {},
     "output_type": "execute_result"
    }
   ],
   "source": [
    "#slicing 3\n",
    "LL[-3:-1]"
   ]
  },
  {
   "cell_type": "code",
   "execution_count": 247,
   "id": "c57520ad",
   "metadata": {},
   "outputs": [
    {
     "data": {
      "text/plain": [
       "[1, 2]"
      ]
     },
     "execution_count": 247,
     "metadata": {},
     "output_type": "execute_result"
    }
   ],
   "source": [
    "#slicing 4\n",
    "LL[:-2]"
   ]
  },
  {
   "cell_type": "code",
   "execution_count": 248,
   "id": "12e6cc07",
   "metadata": {},
   "outputs": [
    {
     "data": {
      "text/plain": [
       "6"
      ]
     },
     "execution_count": 248,
     "metadata": {},
     "output_type": "execute_result"
    }
   ],
   "source": [
    "#slicing sur une liste d'objet itérable\n",
    "LL[3][1]"
   ]
  },
  {
   "cell_type": "markdown",
   "id": "1370e231",
   "metadata": {},
   "source": [
    "Pour bien comprendre l'indexation sur objet itérable il faut juste garder cette image à l'esprit !"
   ]
  },
  {
   "cell_type": "code",
   "execution_count": 229,
   "id": "a8d1458c",
   "metadata": {},
   "outputs": [
    {
     "data": {
      "text/plain": [
       "[2, 3, 5, 7, 11]"
      ]
     },
     "execution_count": 229,
     "metadata": {},
     "output_type": "execute_result"
    }
   ],
   "source": [
    "liste = [2, 3, 5, 7, 11]\n",
    "liste"
   ]
  },
  {
   "cell_type": "markdown",
   "id": "5734936b",
   "metadata": {},
   "source": [
    "<img src = \"list_indexing.png\">"
   ]
  },
  {
   "cell_type": "markdown",
   "id": "790c3805",
   "metadata": {},
   "source": [
    "Les indexs positifs sont au dessus des emplacements de valeurs et les indexs négatifis en dessous."
   ]
  },
  {
   "cell_type": "code",
   "execution_count": 249,
   "id": "ff15bf3e",
   "metadata": {},
   "outputs": [
    {
     "data": {
      "text/plain": [
       "[24, 'ESSOH', 1.8, True]"
      ]
     },
     "execution_count": 249,
     "metadata": {},
     "output_type": "execute_result"
    }
   ],
   "source": [
    "#sélection de tous les éléments\n",
    "L[:] #équivalent à L[0:len(L)]"
   ]
  },
  {
   "cell_type": "markdown",
   "id": "9fe4ca81",
   "metadata": {},
   "source": [
    "En fait, quand on ne sélection pas d'index de début dans un slicing, Python considère l'index de début c'est-à-dire l'index 0 et quand on ne précise pas l'index de fin Python considère l'index de fin c'est-à-dire l'index len(delaliste)"
   ]
  },
  {
   "cell_type": "markdown",
   "id": "4372d416",
   "metadata": {},
   "source": [
    "Pour terminer sur les listes, notons qu'un slicing complet exige la précision d'un troisième argument, c'est le pas de sélection :  liste[start_index : end_index : step_size]."
   ]
  },
  {
   "cell_type": "code",
   "execution_count": 253,
   "id": "b65e6c39",
   "metadata": {},
   "outputs": [
    {
     "data": {
      "text/plain": [
       "[2, 3, 5, 7, 11, 2, 3, 5, 7, 11, 2, 3, 5, 7, 11]"
      ]
     },
     "execution_count": 253,
     "metadata": {},
     "output_type": "execute_result"
    }
   ],
   "source": [
    "PP = 3 * P\n",
    "PP"
   ]
  },
  {
   "cell_type": "code",
   "execution_count": 256,
   "id": "d7677519",
   "metadata": {},
   "outputs": [
    {
     "data": {
      "text/plain": [
       "[3, 7, 2, 5]"
      ]
     },
     "execution_count": 256,
     "metadata": {},
     "output_type": "execute_result"
    }
   ],
   "source": [
    "PP[1:8:2]"
   ]
  },
  {
   "cell_type": "markdown",
   "id": "a1dacd6d",
   "metadata": {},
   "source": [
    "Mais attention le pas de sélection peut même être négatif !"
   ]
  },
  {
   "cell_type": "code",
   "execution_count": 261,
   "id": "3f21c750",
   "metadata": {},
   "outputs": [
    {
     "data": {
      "text/plain": [
       "[2, 3, 5, 7, 11, 2, 3, 5]"
      ]
     },
     "execution_count": 261,
     "metadata": {},
     "output_type": "execute_result"
    }
   ],
   "source": [
    "PP[:-7:1]"
   ]
  },
  {
   "cell_type": "code",
   "execution_count": 262,
   "id": "11b4ba2c",
   "metadata": {},
   "outputs": [
    {
     "data": {
      "text/plain": [
       "[11, 7, 5, 3, 2, 11]"
      ]
     },
     "execution_count": 262,
     "metadata": {},
     "output_type": "execute_result"
    }
   ],
   "source": [
    "PP[:-7:-1] #un pas négatif permet de renverser une sélection\n",
    "#ce code signifie : séléctionne sélection jusqu'à l'index -7 mais\n",
    "#en retourant la liste\n",
    "\n",
    "#alors que le code juste dessus de lui veut dire : \n",
    "#sélectionne jusqu'à l'index -7 dans l'ordre normal de la liste."
   ]
  },
  {
   "cell_type": "markdown",
   "id": "232cd026",
   "metadata": {},
   "source": [
    "L'utilité de l'indexing ou du slicing, c'est de permettre de modifique une valeur d'un objet itérable (assignation ou affectation par condition d'index). C'est en cela qu'on dit qu'une liste est modifiable !"
   ]
  },
  {
   "cell_type": "code",
   "execution_count": 266,
   "id": "ad2d2961",
   "metadata": {},
   "outputs": [
    {
     "data": {
      "text/plain": [
       "[24, 'EPHREM', 1.8, True]"
      ]
     },
     "execution_count": 266,
     "metadata": {},
     "output_type": "execute_result"
    }
   ],
   "source": [
    "L"
   ]
  },
  {
   "cell_type": "code",
   "execution_count": 267,
   "id": "3c45d84a",
   "metadata": {},
   "outputs": [],
   "source": [
    "L[1] = \"EPHREM\""
   ]
  },
  {
   "cell_type": "code",
   "execution_count": 268,
   "id": "5692e2d9",
   "metadata": {},
   "outputs": [
    {
     "data": {
      "text/plain": [
       "[24, 'EPHREM', 1.8, True]"
      ]
     },
     "execution_count": 268,
     "metadata": {},
     "output_type": "execute_result"
    }
   ],
   "source": [
    "L"
   ]
  },
  {
   "cell_type": "markdown",
   "id": "942283e0",
   "metadata": {},
   "source": [
    "#### tuple"
   ]
  },
  {
   "cell_type": "markdown",
   "id": "2138946c",
   "metadata": {},
   "source": [
    "L'objet list est le conteneur le plus utilisé. Cependant il en existe d'autres tels que le tuple par exemple. Le type conteneur tuple permet de créer un objet contenant d'autres objets qui est itérable, indexable et sliceable mais qui n'est pas modifiable. Les éléments d'un tuple reste tel sans changer au cours d'un code. L'utilité des tuples se retrouvent dans les affectations multiples ou les renvoies mutiples d'une fonction. Un tuple n'a que très peu de méthodes (seulement 2 :: count & index)"
   ]
  },
  {
   "cell_type": "code",
   "execution_count": 270,
   "id": "187bb0c8",
   "metadata": {},
   "outputs": [
    {
     "data": {
      "text/plain": [
       "(1, 2, 3)"
      ]
     },
     "execution_count": 270,
     "metadata": {},
     "output_type": "execute_result"
    }
   ],
   "source": [
    "#création d'un tuple\n",
    "T = (1, 2, 3)\n",
    "T"
   ]
  },
  {
   "cell_type": "code",
   "execution_count": 271,
   "id": "1f7308b4",
   "metadata": {},
   "outputs": [
    {
     "data": {
      "text/plain": [
       "tuple"
      ]
     },
     "execution_count": 271,
     "metadata": {},
     "output_type": "execute_result"
    }
   ],
   "source": [
    "type(T)"
   ]
  },
  {
   "cell_type": "code",
   "execution_count": 273,
   "id": "7a4a3ecb",
   "metadata": {},
   "outputs": [
    {
     "name": "stdout",
     "output_type": "stream",
     "text": [
      "(1, 2, 3)\n",
      "<class 'tuple'>\n"
     ]
    }
   ],
   "source": [
    "#on peut même définir un tuple sans parenthèses \n",
    "T = 1, 2, 3\n",
    "print(T)\n",
    "print(type(T))"
   ]
  },
  {
   "cell_type": "code",
   "execution_count": 274,
   "id": "83b2b1f0",
   "metadata": {},
   "outputs": [
    {
     "data": {
      "text/plain": [
       "3"
      ]
     },
     "execution_count": 274,
     "metadata": {},
     "output_type": "execute_result"
    }
   ],
   "source": [
    "#mesurons la longueur d'un tuple, c'est possible car objet itérable\n",
    "len(T)"
   ]
  },
  {
   "cell_type": "code",
   "execution_count": 276,
   "id": "1ab3aded",
   "metadata": {},
   "outputs": [
    {
     "name": "stdout",
     "output_type": "stream",
     "text": [
      "Indexing :  2\n",
      "Slicing :  (1, 2)\n"
     ]
    }
   ],
   "source": [
    "#l'indexation ou le slicing des tuples se fait tout comme les lists\n",
    "print(\"Indexing : \", T[1])\n",
    "print(\"Slicing : \", T[:2])"
   ]
  },
  {
   "cell_type": "code",
   "execution_count": 277,
   "id": "97b317ed",
   "metadata": {},
   "outputs": [
    {
     "ename": "TypeError",
     "evalue": "'tuple' object does not support item assignment",
     "output_type": "error",
     "traceback": [
      "\u001b[0;31m---------------------------------------------------------------------------\u001b[0m",
      "\u001b[0;31mTypeError\u001b[0m                                 Traceback (most recent call last)",
      "\u001b[0;32m/tmp/ipykernel_5045/2728963996.py\u001b[0m in \u001b[0;36m<module>\u001b[0;34m\u001b[0m\n\u001b[1;32m      1\u001b[0m \u001b[0;31m#voyons à présent pouruqoi les tuples ne sont pas modifiables\u001b[0m\u001b[0;34m\u001b[0m\u001b[0;34m\u001b[0m\u001b[0;34m\u001b[0m\u001b[0m\n\u001b[0;32m----> 2\u001b[0;31m \u001b[0mT\u001b[0m\u001b[0;34m[\u001b[0m\u001b[0;36m1\u001b[0m\u001b[0;34m]\u001b[0m \u001b[0;34m=\u001b[0m \u001b[0;36m4\u001b[0m\u001b[0;34m\u001b[0m\u001b[0;34m\u001b[0m\u001b[0m\n\u001b[0m",
      "\u001b[0;31mTypeError\u001b[0m: 'tuple' object does not support item assignment"
     ]
    }
   ],
   "source": [
    "#voyons à présent pouruqoi les tuples ne sont pas modifiables\n",
    "T[1] = 4"
   ]
  },
  {
   "cell_type": "code",
   "execution_count": 285,
   "id": "ae39036e",
   "metadata": {},
   "outputs": [],
   "source": [
    "#comme spécifié auparavant, les tuples servent dans l'assignation \n",
    "#multiplde d'objets\n",
    "(x, y), (z, a) = (10, 23), (20, 18)\n",
    "print(x, y, z, a)"
   ]
  },
  {
   "cell_type": "code",
   "execution_count": 288,
   "id": "2bbb85a1",
   "metadata": {},
   "outputs": [
    {
     "data": {
      "text/plain": [
       "(1, 8)"
      ]
     },
     "execution_count": 288,
     "metadata": {},
     "output_type": "execute_result"
    }
   ],
   "source": [
    "#cependant l'usage le plus répandu c'est le renvoie multiple\n",
    "x = 0.125\n",
    "x.as_integer_ratio()"
   ]
  },
  {
   "cell_type": "code",
   "execution_count": 292,
   "id": "9cd54693",
   "metadata": {},
   "outputs": [
    {
     "data": {
      "text/plain": [
       "(15, 50)"
      ]
     },
     "execution_count": 292,
     "metadata": {},
     "output_type": "execute_result"
    }
   ],
   "source": [
    "#un autre exemple\n",
    "def som_prod(a,b):\n",
    "    \"\"\"\n",
    "    Calcul de la somme et du produit de deux nombres\n",
    "    \"\"\"\n",
    "    som = a+b \n",
    "    prod = a*b \n",
    "    return (som, prod)\n",
    "\n",
    "som_prod(5, 10)"
   ]
  },
  {
   "cell_type": "markdown",
   "id": "d37e7bba",
   "metadata": {},
   "source": [
    "#### dict"
   ]
  },
  {
   "cell_type": "markdown",
   "id": "bb17ac9c",
   "metadata": {},
   "source": [
    "Voyons à présent un des types conteneurs aussi populaire que les listes : ce sont le dictionnaire. En fait le dictionnaire en Python c'est un mappage clé-valeurs. A des clés bien spécifiques Python associe des valeurs qui ne sont que des objets d'un certain type. Formellement, une clé est une chaine de charactère permettant d'identifier les valeurs qui lui sont associés. De fait, sur un dictionnaire l'indexation est quelque peut améliorée, car il suffit de préciser la clé comme indexation et Python nous renvoie les valeurs qui lui sont mappées. Le dictionnaire est la base de l'analyse de données en Python. Il permet de construire des types d'objets conteneur plus élaborés tels que les objets Pandas. Avec le dictionnaire, on peut déjà présenter une structure de donnée 2D individus x colonnes."
   ]
  },
  {
   "cell_type": "code",
   "execution_count": 295,
   "id": "7aa06196",
   "metadata": {},
   "outputs": [
    {
     "data": {
      "text/plain": [
       "{'entier': 12,\n",
       " 'réel': 3.14,\n",
       " 'complex': (2+2j),\n",
       " 'liste': [1, 2, [3, 4, (2, 2)]]}"
      ]
     },
     "execution_count": 295,
     "metadata": {},
     "output_type": "execute_result"
    }
   ],
   "source": [
    "#création d'un dictionnaire \n",
    "dico = {\"entier\" : 12, \"réel\" : 3.14, \"complex\" : 2 + 2j, \n",
    "        \"liste\" : [1, 2, [3,4,(2,2,)]]}\n",
    "\n",
    "dico"
   ]
  },
  {
   "cell_type": "code",
   "execution_count": 296,
   "id": "c66f022e",
   "metadata": {},
   "outputs": [
    {
     "data": {
      "text/plain": [
       "dict"
      ]
     },
     "execution_count": 296,
     "metadata": {},
     "output_type": "execute_result"
    }
   ],
   "source": [
    "type(dico)"
   ]
  },
  {
   "cell_type": "code",
   "execution_count": 297,
   "id": "71524c3c",
   "metadata": {},
   "outputs": [
    {
     "data": {
      "text/plain": [
       "[1, 2, [3, 4, (2, 2)]]"
      ]
     },
     "execution_count": 297,
     "metadata": {},
     "output_type": "execute_result"
    }
   ],
   "source": [
    "#indexation d'un dictionnaire à partir des clés\n",
    "dico[\"liste\"]"
   ]
  },
  {
   "cell_type": "code",
   "execution_count": 299,
   "id": "93b4eb63",
   "metadata": {},
   "outputs": [
    {
     "data": {
      "text/plain": [
       "{'entier': 12, 'réel': 3.14, 'complex': (2+2j), 'liste': [1, 2, [3, 4, 5]]}"
      ]
     },
     "execution_count": 299,
     "metadata": {},
     "output_type": "execute_result"
    }
   ],
   "source": [
    "#modification de valeur après une indexation\n",
    "dico[\"liste\"][2][2] = 5\n",
    "dico"
   ]
  },
  {
   "cell_type": "markdown",
   "id": "b58c6c5d",
   "metadata": {},
   "source": [
    "Un objet de type dict possède des attributs et méthodes intéressantes parmi lesquels les deux plus importantes sont keys() et items(). Le premier retourne toutes les clés du dicitonnaire sous la forme d'une liste alors que la seconde méthode retoure les valeurs de ces clés"
   ]
  },
  {
   "cell_type": "code",
   "execution_count": 307,
   "id": "d000c363",
   "metadata": {},
   "outputs": [
    {
     "data": {
      "text/plain": [
       "dict_keys(['clé-1', 'clé-2', 'clé-3', 'clé-4'])"
      ]
     },
     "execution_count": 307,
     "metadata": {},
     "output_type": "execute_result"
    }
   ],
   "source": [
    "dico.keys()"
   ]
  },
  {
   "cell_type": "code",
   "execution_count": 308,
   "id": "e1ee21e0",
   "metadata": {},
   "outputs": [
    {
     "data": {
      "text/plain": [
       "dict_items([('clé-1', ['ESSOH', 'KINDO', 'BICABA', 'BAMBA']), ('clé-2', ['Lasme', 'Hamade', 'Dominique', 'Ladji']), ('clé-3', [25, 25, 24, 29]), ('clé-4', [1.8, 1.82, 1.84, 1.72])])"
      ]
     },
     "execution_count": 308,
     "metadata": {},
     "output_type": "execute_result"
    }
   ],
   "source": [
    "dico.items()"
   ]
  },
  {
   "cell_type": "code",
   "execution_count": 305,
   "id": "b14dabad",
   "metadata": {},
   "outputs": [
    {
     "data": {
      "text/plain": [
       "{'clé-1': ['ESSOH', 'KINDO', 'BICABA', 'BAMBA'],\n",
       " 'clé-2': ['Lasme', 'Hamade', 'Dominique', 'Ladji'],\n",
       " 'clé-3': [25, 25, 24, 29],\n",
       " 'clé-4': [1.8, 1.82, 1.84, 1.72]}"
      ]
     },
     "execution_count": 305,
     "metadata": {},
     "output_type": "execute_result"
    }
   ],
   "source": [
    "#création d'une table 2D à l'aide d'un dictionnnaire\n",
    "dico = {\"clé-1\" : [\"ESSOH\", \"KINDO\", \"BICABA\", \"BAMBA\"],\n",
    "       \"clé-2\" : [\"Lasme\", \"Hamade\", \"Dominique\", \"Ladji\"],\n",
    "       \"clé-3\" : [25, 25, 24, 29],\n",
    "       \"clé-4\" : [1.80, 1.82, 1.84, 1.72]}\n",
    "\n",
    "dico"
   ]
  },
  {
   "cell_type": "code",
   "execution_count": 306,
   "id": "e926ce35",
   "metadata": {},
   "outputs": [
    {
     "data": {
      "text/html": [
       "<div>\n",
       "<style scoped>\n",
       "    .dataframe tbody tr th:only-of-type {\n",
       "        vertical-align: middle;\n",
       "    }\n",
       "\n",
       "    .dataframe tbody tr th {\n",
       "        vertical-align: top;\n",
       "    }\n",
       "\n",
       "    .dataframe thead th {\n",
       "        text-align: right;\n",
       "    }\n",
       "</style>\n",
       "<table border=\"1\" class=\"dataframe\">\n",
       "  <thead>\n",
       "    <tr style=\"text-align: right;\">\n",
       "      <th></th>\n",
       "      <th>clé-1</th>\n",
       "      <th>clé-2</th>\n",
       "      <th>clé-3</th>\n",
       "      <th>clé-4</th>\n",
       "    </tr>\n",
       "  </thead>\n",
       "  <tbody>\n",
       "    <tr>\n",
       "      <th>0</th>\n",
       "      <td>ESSOH</td>\n",
       "      <td>Lasme</td>\n",
       "      <td>25</td>\n",
       "      <td>1.80</td>\n",
       "    </tr>\n",
       "    <tr>\n",
       "      <th>1</th>\n",
       "      <td>KINDO</td>\n",
       "      <td>Hamade</td>\n",
       "      <td>25</td>\n",
       "      <td>1.82</td>\n",
       "    </tr>\n",
       "    <tr>\n",
       "      <th>2</th>\n",
       "      <td>BICABA</td>\n",
       "      <td>Dominique</td>\n",
       "      <td>24</td>\n",
       "      <td>1.84</td>\n",
       "    </tr>\n",
       "    <tr>\n",
       "      <th>3</th>\n",
       "      <td>BAMBA</td>\n",
       "      <td>Ladji</td>\n",
       "      <td>29</td>\n",
       "      <td>1.72</td>\n",
       "    </tr>\n",
       "  </tbody>\n",
       "</table>\n",
       "</div>"
      ],
      "text/plain": [
       "    clé-1      clé-2  clé-3  clé-4\n",
       "0   ESSOH      Lasme     25   1.80\n",
       "1   KINDO     Hamade     25   1.82\n",
       "2  BICABA  Dominique     24   1.84\n",
       "3   BAMBA      Ladji     29   1.72"
      ]
     },
     "execution_count": 306,
     "metadata": {},
     "output_type": "execute_result"
    }
   ],
   "source": [
    "#transformation en table 2D\n",
    "pd.DataFrame(dico)"
   ]
  },
  {
   "cell_type": "markdown",
   "id": "cb4a7848",
   "metadata": {},
   "source": [
    "#### set"
   ]
  },
  {
   "cell_type": "markdown",
   "id": "9b9cb4eb",
   "metadata": {},
   "source": [
    "Le dernier type de conteneurs Python est le type set qui contient une collection d'objets non ordonées. On rappelle que l'ordonnancement fait référence au fait que chaque valeur possède un index (index ordonnée de 0 à len(objet) ou de -1 à -length(objet). De ce fait les sets sont des objets conteneurs non indexables ou sliceables. Ils sont aussi non modifiables. Attention ces caractériques font qu'un objet de type set ne peut contenir que des objets non modifiables ou mutables tels que les tuples ou les types de base. En aucun cas, l'on ne peut construire un set contenant au moins une list ou un dict parce que ces objets étant modifiables. L'utilité des set est qu'il sont très similaires à la notion d'ensemble en mathématiques : une collection d'objets. Ce fait, ils se prêtent très bien aux opérations ensemblistes mathématiques : union, intersection ..."
   ]
  },
  {
   "cell_type": "code",
   "execution_count": 323,
   "id": "9a47d640",
   "metadata": {},
   "outputs": [
    {
     "data": {
      "text/plain": [
       "{(2, 3), 2, 3, 5, 'b'}"
      ]
     },
     "execution_count": 323,
     "metadata": {},
     "output_type": "execute_result"
    }
   ],
   "source": [
    "#création d'un objet de type set avec les accolades\n",
    "set_example = {2, 3, 5, \"b\", (2,3)}\n",
    "set_example"
   ]
  },
  {
   "cell_type": "code",
   "execution_count": 324,
   "id": "ca712f73",
   "metadata": {},
   "outputs": [
    {
     "data": {
      "text/plain": [
       "set"
      ]
     },
     "execution_count": 324,
     "metadata": {},
     "output_type": "execute_result"
    }
   ],
   "source": [
    "type(set_example)"
   ]
  },
  {
   "cell_type": "code",
   "execution_count": 325,
   "id": "1f466a79",
   "metadata": {},
   "outputs": [],
   "source": [
    "#opérations ensemblistes sur les sets\n",
    "set_1 = {1, 2, 3, 4}\n",
    "set_2 = {3, 1, 10, 8, 11}"
   ]
  },
  {
   "cell_type": "code",
   "execution_count": 326,
   "id": "70bda30a",
   "metadata": {},
   "outputs": [
    {
     "data": {
      "text/plain": [
       "{1, 2, 3, 4, 8, 10, 11}"
      ]
     },
     "execution_count": 326,
     "metadata": {},
     "output_type": "execute_result"
    }
   ],
   "source": [
    "#union\n",
    "set_1 | set_2"
   ]
  },
  {
   "cell_type": "code",
   "execution_count": 327,
   "id": "49911888",
   "metadata": {},
   "outputs": [
    {
     "data": {
      "text/plain": [
       "{1, 3}"
      ]
     },
     "execution_count": 327,
     "metadata": {},
     "output_type": "execute_result"
    }
   ],
   "source": [
    "#intersection\n",
    "set_1 & set_2"
   ]
  },
  {
   "cell_type": "code",
   "execution_count": 328,
   "id": "963bb6cd",
   "metadata": {},
   "outputs": [
    {
     "data": {
      "text/plain": [
       "{2, 4}"
      ]
     },
     "execution_count": 328,
     "metadata": {},
     "output_type": "execute_result"
    }
   ],
   "source": [
    "#différence\n",
    "set_1 - set_2"
   ]
  },
  {
   "cell_type": "code",
   "execution_count": 329,
   "id": "ae8ee2c3",
   "metadata": {},
   "outputs": [
    {
     "data": {
      "text/plain": [
       "{2, 4, 8, 10, 11}"
      ]
     },
     "execution_count": 329,
     "metadata": {},
     "output_type": "execute_result"
    }
   ],
   "source": [
    "#différence symétrique\n",
    "set_1 ^ set_2"
   ]
  },
  {
   "cell_type": "markdown",
   "id": "c6ef3b39",
   "metadata": {},
   "source": [
    "Les sets ne sont pas indexables et possèdent pas mal de méthodes."
   ]
  },
  {
   "cell_type": "code",
   "execution_count": 330,
   "id": "792b42d9",
   "metadata": {},
   "outputs": [
    {
     "ename": "TypeError",
     "evalue": "'set' object is not subscriptable",
     "output_type": "error",
     "traceback": [
      "\u001b[0;31m---------------------------------------------------------------------------\u001b[0m",
      "\u001b[0;31mTypeError\u001b[0m                                 Traceback (most recent call last)",
      "\u001b[0;32m/tmp/ipykernel_5045/1458747713.py\u001b[0m in \u001b[0;36m<module>\u001b[0;34m\u001b[0m\n\u001b[0;32m----> 1\u001b[0;31m \u001b[0mset_example\u001b[0m\u001b[0;34m[\u001b[0m\u001b[0;36m1\u001b[0m\u001b[0;34m]\u001b[0m\u001b[0;34m\u001b[0m\u001b[0;34m\u001b[0m\u001b[0m\n\u001b[0m",
      "\u001b[0;31mTypeError\u001b[0m: 'set' object is not subscriptable"
     ]
    }
   ],
   "source": [
    "set_example[1]"
   ]
  },
  {
   "cell_type": "code",
   "execution_count": 332,
   "id": "a51ef0b3",
   "metadata": {},
   "outputs": [],
   "source": [
    "#supprimer tous les éléments de ce set\n",
    "set_example.clear()"
   ]
  },
  {
   "cell_type": "code",
   "execution_count": 333,
   "id": "ead291aa",
   "metadata": {},
   "outputs": [
    {
     "data": {
      "text/plain": [
       "set()"
      ]
     },
     "execution_count": 333,
     "metadata": {},
     "output_type": "execute_result"
    }
   ],
   "source": [
    "set_example"
   ]
  },
  {
   "cell_type": "markdown",
   "id": "00a1b0eb",
   "metadata": {},
   "source": [
    "## Le contrôle de flux en Python"
   ]
  },
  {
   "cell_type": "markdown",
   "id": "c1ada610",
   "metadata": {},
   "source": [
    "## Les fonctions en Python"
   ]
  },
  {
   "cell_type": "markdown",
   "id": "800ad09f",
   "metadata": {},
   "source": [
    "## Gestion des erreurs et des exceptions"
   ]
  },
  {
   "cell_type": "markdown",
   "id": "57a07ca6",
   "metadata": {},
   "source": [
    "## Les itérateurs"
   ]
  },
  {
   "cell_type": "markdown",
   "id": "66c8e56c",
   "metadata": {},
   "source": [
    "## Les List Comprehensions"
   ]
  },
  {
   "cell_type": "markdown",
   "id": "b61d2031",
   "metadata": {},
   "source": [
    "## Les générateurs"
   ]
  },
  {
   "cell_type": "markdown",
   "id": "ae8275fc",
   "metadata": {},
   "source": [
    "## Modules et packages en Python"
   ]
  },
  {
   "cell_type": "markdown",
   "id": "5fbbd03b",
   "metadata": {},
   "source": [
    "## Manipulation de chaîne de caractères"
   ]
  },
  {
   "cell_type": "markdown",
   "id": "969c00c9",
   "metadata": {},
   "source": [
    "## Expressions régulières"
   ]
  },
  {
   "cell_type": "markdown",
   "id": "7b296181",
   "metadata": {},
   "source": [
    "## Preview des outils Python de la Data Science"
   ]
  },
  {
   "cell_type": "code",
   "execution_count": null,
   "id": "6156bbf7",
   "metadata": {},
   "outputs": [],
   "source": []
  }
 ],
 "metadata": {
  "kernelspec": {
   "display_name": "Python 3 (ipykernel)",
   "language": "python",
   "name": "python3"
  },
  "language_info": {
   "codemirror_mode": {
    "name": "ipython",
    "version": 3
   },
   "file_extension": ".py",
   "mimetype": "text/x-python",
   "name": "python",
   "nbconvert_exporter": "python",
   "pygments_lexer": "ipython3",
   "version": "3.8.10"
  }
 },
 "nbformat": 4,
 "nbformat_minor": 5
}
